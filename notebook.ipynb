{
 "cells": [
  {
   "cell_type": "markdown",
   "metadata": {},
   "source": [
    "# Toxicity Detection Model\n",
    "\n",
    "Get live data with `get_comments.py` and transform Kaggle data set with `transform_train.py`\n",
    "\n",
    "Get libraries by running `pip install -r requirements.txt`\n",
    "\n",
    "This is a deep learning model."
   ]
  },
  {
   "cell_type": "code",
   "execution_count": 56,
   "metadata": {},
   "outputs": [],
   "source": [
    "import tensorflow as tf\n",
    "import keras\n",
    "from keras import layers\n",
    "import numpy as np\n",
    "import pandas as pd\n",
    "\n",
    "\n",
    "import matplotlib.pyplot as plt\n",
    "\n",
    "from wordcloud import STOPWORDS, wordcloud\n",
    "import re\n",
    "from fuzzywuzzy import fuzz, process\n",
    "\n",
    "from tqdm import tqdm"
   ]
  },
  {
   "cell_type": "markdown",
   "metadata": {},
   "source": [
    "# Load Dataset"
   ]
  },
  {
   "cell_type": "code",
   "execution_count": null,
   "metadata": {},
   "outputs": [],
   "source": [
    "df_train = pd.read_csv('./data/new_train.csv')\n",
    "dataset = df_train # Let's use only one."
   ]
  },
  {
   "cell_type": "markdown",
   "metadata": {},
   "source": [
    "### Data Cleansing\n",
    "<ul>\n",
    "    <li>Removal of special characters</li>\n",
    "    <li>Expanding contractions</li>\n",
    "    <li>Lowering text</li>\n",
    "    <li>Replacing Obfuscated Profane Words</li>\n",
    "</ul>"
   ]
  },
  {
   "cell_type": "code",
   "execution_count": null,
   "metadata": {},
   "outputs": [],
   "source": [
    "def removeNonPrintable(com):\n",
    "    com = com.replace('\\\\r', ' ')\n",
    "    com = com.replace('\\\\n', ' ')\n",
    "    com = com.replace('\\\\t', ' ')\n",
    "    com = com.replace('\\\\\"', ' ')\n",
    "    return com"
   ]
  },
  {
   "cell_type": "code",
   "execution_count": 57,
   "metadata": {},
   "outputs": [],
   "source": [
    "def getUniqueWords(comments):\n",
    "    unique_words = set()\n",
    "    for comment in tqdm(comments):\n",
    "        words = comment.split(\" \")\n",
    "        for word in words:\n",
    "            if len(word) > 2:\n",
    "                unique_words.add(word)\n",
    "    \n",
    "    return unique_words"
   ]
  },
  {
   "cell_type": "code",
   "execution_count": 58,
   "metadata": {},
   "outputs": [],
   "source": [
    "def getProfaneWords():\n",
    "    profane_words = []\n",
    "    with open(\"./data/bad-words.txt\",\"r\") as f:\n",
    "        for word in f:\n",
    "            word = word.replace(\"\\n\",\"\")\n",
    "            profane_words.append(word)\n",
    "    return profane_words\n",
    "    "
   ]
  },
  {
   "cell_type": "code",
   "execution_count": null,
   "metadata": {},
   "outputs": [],
   "source": [
    "def createMappingDict(profane_words, unique_words):\n",
    "    pass"
   ]
  },
  {
   "cell_type": "code",
   "execution_count": null,
   "metadata": {},
   "outputs": [],
   "source": [
    "def cleanComments(comments):\n",
    "    processed_comments = []\n",
    "    for comment in comments:\n",
    "        comment = removeNonPrintable(comment)\n",
    "\n",
    "        # Lower comment\n",
    "        processed_comments.append(comment.lower().strip())\n",
    "    \n",
    "    profane_words = getProfaneWords()\n",
    "    unique_words = getUniqueWords(comments)\n",
    "    profane_dict = createMappingDict(profane_words, unique_words)"
   ]
  },
  {
   "cell_type": "code",
   "execution_count": 55,
   "metadata": {},
   "outputs": [
    {
     "data": {
      "text/plain": [
       "83"
      ]
     },
     "execution_count": 55,
     "metadata": {},
     "output_type": "execute_result"
    }
   ],
   "source": [
    "fuzz.ratio(\"@ction\",\"action\")"
   ]
  },
  {
   "cell_type": "code",
   "execution_count": 59,
   "metadata": {},
   "outputs": [
    {
     "data": {
      "text/plain": [
       "(38291, 7)"
      ]
     },
     "execution_count": 59,
     "metadata": {},
     "output_type": "execute_result"
    }
   ],
   "source": [
    "df_train.shape"
   ]
  },
  {
   "cell_type": "code",
   "execution_count": 5,
   "metadata": {},
   "outputs": [
    {
     "data": {
      "text/html": [
       "<div>\n",
       "<style scoped>\n",
       "    .dataframe tbody tr th:only-of-type {\n",
       "        vertical-align: middle;\n",
       "    }\n",
       "\n",
       "    .dataframe tbody tr th {\n",
       "        vertical-align: top;\n",
       "    }\n",
       "\n",
       "    .dataframe thead th {\n",
       "        text-align: right;\n",
       "    }\n",
       "</style>\n",
       "<table border=\"1\" class=\"dataframe\">\n",
       "  <thead>\n",
       "    <tr style=\"text-align: right;\">\n",
       "      <th></th>\n",
       "      <th>Comment</th>\n",
       "      <th>Toxicity</th>\n",
       "      <th>Severe_Toxicity</th>\n",
       "      <th>Identity_Attack</th>\n",
       "      <th>Insult</th>\n",
       "      <th>Profanity</th>\n",
       "      <th>Threat</th>\n",
       "    </tr>\n",
       "  </thead>\n",
       "  <tbody>\n",
       "    <tr>\n",
       "      <th>0</th>\n",
       "      <td>Explanation\\nWhy the edits made under my usern...</td>\n",
       "      <td>0.129533</td>\n",
       "      <td>0.005232</td>\n",
       "      <td>0.009843</td>\n",
       "      <td>0.000779</td>\n",
       "      <td>0.000911</td>\n",
       "      <td>0.009409</td>\n",
       "    </tr>\n",
       "    <tr>\n",
       "      <th>1</th>\n",
       "      <td>D'aww! He matches this background colour I'm s...</td>\n",
       "      <td>0.022352</td>\n",
       "      <td>0.001590</td>\n",
       "      <td>0.010376</td>\n",
       "      <td>0.001265</td>\n",
       "      <td>0.001273</td>\n",
       "      <td>0.009809</td>\n",
       "    </tr>\n",
       "    <tr>\n",
       "      <th>2</th>\n",
       "      <td>Hey man, I'm really not trying to edit war. It...</td>\n",
       "      <td>0.168278</td>\n",
       "      <td>0.004964</td>\n",
       "      <td>0.010698</td>\n",
       "      <td>0.004839</td>\n",
       "      <td>0.001866</td>\n",
       "      <td>0.009920</td>\n",
       "    </tr>\n",
       "    <tr>\n",
       "      <th>3</th>\n",
       "      <td>\"\\nMore\\nI can't make any real suggestions on ...</td>\n",
       "      <td>0.056532</td>\n",
       "      <td>0.002854</td>\n",
       "      <td>0.009954</td>\n",
       "      <td>0.001283</td>\n",
       "      <td>0.001134</td>\n",
       "      <td>0.009656</td>\n",
       "    </tr>\n",
       "    <tr>\n",
       "      <th>4</th>\n",
       "      <td>You, sir, are my hero. Any chance you remember...</td>\n",
       "      <td>0.022491</td>\n",
       "      <td>0.002081</td>\n",
       "      <td>0.012285</td>\n",
       "      <td>0.004179</td>\n",
       "      <td>0.003558</td>\n",
       "      <td>0.011320</td>\n",
       "    </tr>\n",
       "  </tbody>\n",
       "</table>\n",
       "</div>"
      ],
      "text/plain": [
       "                                             Comment  Toxicity  \\\n",
       "0  Explanation\\nWhy the edits made under my usern...  0.129533   \n",
       "1  D'aww! He matches this background colour I'm s...  0.022352   \n",
       "2  Hey man, I'm really not trying to edit war. It...  0.168278   \n",
       "3  \"\\nMore\\nI can't make any real suggestions on ...  0.056532   \n",
       "4  You, sir, are my hero. Any chance you remember...  0.022491   \n",
       "\n",
       "   Severe_Toxicity  Identity_Attack    Insult  Profanity    Threat  \n",
       "0         0.005232         0.009843  0.000779   0.000911  0.009409  \n",
       "1         0.001590         0.010376  0.001265   0.001273  0.009809  \n",
       "2         0.004964         0.010698  0.004839   0.001866  0.009920  \n",
       "3         0.002854         0.009954  0.001283   0.001134  0.009656  \n",
       "4         0.002081         0.012285  0.004179   0.003558  0.011320  "
      ]
     },
     "execution_count": 5,
     "metadata": {},
     "output_type": "execute_result"
    }
   ],
   "source": [
    "df_train.head()"
   ]
  },
  {
   "cell_type": "code",
   "execution_count": 50,
   "metadata": {},
   "outputs": [
    {
     "data": {
      "image/png": "[encoded data removed]",
      "text/plain": [
       "<Figure size 864x2160 with 6 Axes>"
      ]
     },
     "metadata": {
      "needs_background": "light"
     },
     "output_type": "display_data"
    }
   ],
   "source": [
    "fig, axis = plt.subplots(len(df_train.columns)-1, 1, figsize = (12,30))\n",
    "for i, col in enumerate(df_train.columns[1:]):\n",
    "    counts, bins = np.histogram(df_train[col].values, bins = 30)\n",
    "    axis[i].hist(bins[:-1], bins, weights=counts)\n",
    "    axis[i].title.set_text(col)\n",
    "plt.show()"
   ]
  },
  {
   "cell_type": "code",
   "execution_count": 41,
   "metadata": {},
   "outputs": [
    {
     "data": {
      "text/plain": [
       "(array([11435.,  8167.,  5131.,  3318.,  2300.,  1528.,  1206.,   890.,\n",
       "          671.,   543.,   480.,   367.,   267.,   232.,   211.,   156.,\n",
       "          132.,    98.,   123.,    70.,    74.,    46.,    56.,    56.,\n",
       "           39.,    35.,    41.,    33.,    28.,    28.,    26.,    30.,\n",
       "           30.,    32.,    22.,    20.,    28.,    22.,    26.,    23.,\n",
       "           25.,    20.,    14.,    15.,    26.,    23.,    29.,    34.,\n",
       "           33.,    52.]),\n",
       " array([  14.  ,  113.72,  213.44,  313.16,  412.88,  512.6 ,  612.32,\n",
       "         712.04,  811.76,  911.48, 1011.2 , 1110.92, 1210.64, 1310.36,\n",
       "        1410.08, 1509.8 , 1609.52, 1709.24, 1808.96, 1908.68, 2008.4 ,\n",
       "        2108.12, 2207.84, 2307.56, 2407.28, 2507.  , 2606.72, 2706.44,\n",
       "        2806.16, 2905.88, 3005.6 , 3105.32, 3205.04, 3304.76, 3404.48,\n",
       "        3504.2 , 3603.92, 3703.64, 3803.36, 3903.08, 4002.8 , 4102.52,\n",
       "        4202.24, 4301.96, 4401.68, 4501.4 , 4601.12, 4700.84, 4800.56,\n",
       "        4900.28, 5000.  ]),\n",
       " <a list of 50 Patch objects>)"
      ]
     },
     "execution_count": 41,
     "metadata": {},
     "output_type": "execute_result"
    },
    {
     "data": {
      "image/png": "[encoded data removed]",
      "text/plain": [
       "<Figure size 432x288 with 1 Axes>"
      ]
     },
     "metadata": {
      "needs_background": "light"
     },
     "output_type": "display_data"
    }
   ],
   "source": [
    "comments_lens = df_train.Comment.str.len()\n",
    "counts, bins = np.histogram(comments_lens.values, bins = 50)\n",
    "plt.hist(bins[:-1], bins, weights=counts)"
   ]
  },
  {
   "cell_type": "code",
   "execution_count": 46,
   "metadata": {},
   "outputs": [
    {
     "name": "stdout",
     "output_type": "stream",
     "text": [
      "0th Percentile Value = 14.0\n",
      "10th Percentile Value = 48.0\n",
      "20th Percentile Value = 79.0\n",
      "30th Percentile Value = 114.0\n",
      "40th Percentile Value = 155.0\n",
      "50th Percentile Value = 206.0\n",
      "60th Percentile Value = 274.0\n",
      "70th Percentile Value = 371.0\n",
      "80th Percentile Value = 529.0\n",
      "90th Percentile Value = 885.0\n",
      "100th Percentile Value = 5000.0\n"
     ]
    }
   ],
   "source": [
    "for i in range(11):\n",
    "    print(f'{i*10}th Percentile Value = {np.percentile(comments_lens, i*10)}')"
   ]
  },
  {
   "cell_type": "code",
   "execution_count": 47,
   "metadata": {},
   "outputs": [
    {
     "name": "stdout",
     "output_type": "stream",
     "text": [
      "90th Percentile Value = 885.0\n",
      "91th Percentile Value = 948.0\n",
      "92th Percentile Value = 1021.0\n",
      "93th Percentile Value = 1095.0\n",
      "94th Percentile Value = 1196.0\n",
      "95th Percentile Value = 1343.5\n",
      "96th Percentile Value = 1514.0\n",
      "97th Percentile Value = 1818.0\n",
      "98th Percentile Value = 2340.199999999997\n",
      "99th Percentile Value = 3543.0999999999985\n",
      "100th Percentile Value = 5000.0\n"
     ]
    }
   ],
   "source": [
    "for i in range(11):\n",
    "    print(f'{90+i}th Percentile Value = {np.percentile(comments_lens, 90 + i)}')"
   ]
  },
  {
   "cell_type": "markdown",
   "metadata": {},
   "source": [
    "# Model Building"
   ]
  },
  {
   "cell_type": "markdown",
   "metadata": {},
   "source": [
    "Turn dataset into list( list of tokens, scores x 6 ) )"
   ]
  },
  {
   "cell_type": "code",
   "execution_count": null,
   "metadata": {},
   "outputs": [],
   "source": [
    "# Do above"
   ]
  },
  {
   "cell_type": "code",
   "execution_count": null,
   "metadata": {},
   "outputs": [],
   "source": [
    "# Separate dataset into train and test. 9/1\n",
    "train_dataset = []\n",
    "test_dataset = []"
   ]
  },
  {
   "cell_type": "code",
   "execution_count": null,
   "metadata": {},
   "outputs": [],
   "source": [
    "BUFFER_SIZE = 1000\n",
    "BATCH_SIZE = 32\n",
    "train_dataset = train_dataset.shuffle(BUFFER_SIZE).batch(BATCH_SIZE).prefetch(tf.data.AUTOTUNE)\n",
    "test_dataset = test_dataset.batch(BATCH_SIZE).prefetch(tf.data.AUTOTUNE)"
   ]
  },
  {
   "cell_type": "code",
   "execution_count": null,
   "metadata": {},
   "outputs": [],
   "source": [
    "VOCAB_SIZE = 1000\n",
    "encoder = layers.TextVectorization(max_tokens = VOCAB_SIZE)\n",
    "encoder.adapt(train_dataset.map(lambda text, label: text))"
   ]
  },
  {
   "cell_type": "code",
   "execution_count": null,
   "metadata": {},
   "outputs": [],
   "source": [
    "model = keras.Sequential([\n",
    "\tencoder,\n",
    "\tlayers.Embedding(\n",
    "\t\tinput_dim = len(encoder.get_vocabulary()),\n",
    "\t\toutput_dim = 64,\n",
    "\t\t# Use masking to handle the variable sequence lengths\n",
    "\t\tmask_zero = True\n",
    "\t),\n",
    "\tlayers.Bidirectional(layers.LSTM(64)),\n",
    "\tlayers.Dense(32, activation='relu'),\n",
    "\tlayers.Dense(6)\n",
    "])\n",
    "\n",
    "model.compile(loss = keras.losses.BinaryCrossentropy(from_logits = True),\n",
    "\t\t\t  optimizer = keras.optimizers.adam_v2.Adam(1e-4),\n",
    "\t\t\t  metrics = ['accuracy'])"
   ]
  },
  {
   "cell_type": "code",
   "execution_count": 1,
   "metadata": {},
   "outputs": [
    {
     "ename": "NameError",
     "evalue": "name 'model' is not defined",
     "output_type": "error",
     "traceback": [
      "\u001b[1;31m---------------------------------------------------------------------------\u001b[0m",
      "\u001b[1;31mNameError\u001b[0m                                 Traceback (most recent call last)",
      "\u001b[1;32md:\\GitHub\\AI\\Toxicity Detection Model\\notebook.ipynb Cell 23'\u001b[0m in \u001b[0;36m<cell line: 1>\u001b[1;34m()\u001b[0m\n\u001b[1;32m----> <a href='vscode-notebook-cell:/d%3A/GitHub/AI/Toxicity%20Detection%20Model/notebook.ipynb#ch0000022?line=0'>1</a>\u001b[0m history \u001b[39m=\u001b[39m model\u001b[39m.\u001b[39mfit(train_dataset\u001b[39m.\u001b[39mrepeat(\u001b[39m10000\u001b[39m),\n\u001b[0;32m      <a href='vscode-notebook-cell:/d%3A/GitHub/AI/Toxicity%20Detection%20Model/notebook.ipynb#ch0000022?line=1'>2</a>\u001b[0m \t\t\t\t\tepochs \u001b[39m=\u001b[39m \u001b[39m12\u001b[39m,\n\u001b[0;32m      <a href='vscode-notebook-cell:/d%3A/GitHub/AI/Toxicity%20Detection%20Model/notebook.ipynb#ch0000022?line=2'>3</a>\u001b[0m \t\t\t\t\tsteps_per_epoch \u001b[39m=\u001b[39m \u001b[39m30\u001b[39m,\n\u001b[0;32m      <a href='vscode-notebook-cell:/d%3A/GitHub/AI/Toxicity%20Detection%20Model/notebook.ipynb#ch0000022?line=3'>4</a>\u001b[0m \t\t\t\t\tvalidation_data \u001b[39m=\u001b[39m test_dataset\u001b[39m.\u001b[39mrepeat(\u001b[39m10000\u001b[39m),\n\u001b[0;32m      <a href='vscode-notebook-cell:/d%3A/GitHub/AI/Toxicity%20Detection%20Model/notebook.ipynb#ch0000022?line=4'>5</a>\u001b[0m \t\t\t\t\tvalidation_steps \u001b[39m=\u001b[39m \u001b[39m30\u001b[39m)\n",
      "\u001b[1;31mNameError\u001b[0m: name 'model' is not defined"
     ]
    }
   ],
   "source": [
    "history = model.fit(train_dataset,\n",
    "\t\t\t\t\tepochs = 20,\n",
    "\t\t\t\t\tsteps_per_epoch = 50,\n",
    "\t\t\t\t\tvalidation_data = test_dataset,\n",
    "\t\t\t\t\tvalidation_steps = 30)"
   ]
  },
  {
   "cell_type": "code",
   "execution_count": null,
   "metadata": {},
   "outputs": [],
   "source": [
    "test_loss, test_acc = model.evaluate(test_dataset)\n",
    "\n",
    "print('Test Loss:', test_loss)\n",
    "print('Test Accuracy:', test_acc)"
   ]
  }
 ],
 "metadata": {
  "interpreter": {
   "hash": "3c92edb50b0d3c17cb874491556f3b23517a1eaeecdd98db06b8cc77892b6a96"
  },
  "kernelspec": {
   "display_name": "Python 3.9.4 ('venv': venv)",
   "language": "python",
   "name": "python3"
  },
  "language_info": {
   "codemirror_mode": {
    "name": "ipython",
    "version": 3
   },
   "file_extension": ".py",
   "mimetype": "text/x-python",
   "name": "python",
   "nbconvert_exporter": "python",
   "pygments_lexer": "ipython3",
   "version": "3.9.4"
  },
  "orig_nbformat": 4
 },
 "nbformat": 4,
 "nbformat_minor": 2
}
