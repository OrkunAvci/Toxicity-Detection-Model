{
 "cells": [
  {
   "cell_type": "markdown",
   "metadata": {},
   "source": [
    "# Toxicity Detection Model\n",
    "\n",
    "Get live data with `get_comments.py` and transform Kaggle data set with `transform_train.py`\n",
    "\n",
    "Get libraries by running `pip install -r requirements.txt`\n",
    "\n",
    "This is a deep learning model."
   ]
  },
  {
   "cell_type": "code",
   "execution_count": 1,
   "metadata": {},
   "outputs": [],
   "source": [
    "import tensorflow as tf\n",
    "import keras\n",
    "from keras import layers\n",
    "import numpy as np\n",
    "import pandas as pd\n",
    "\n",
    "\n",
    "import matplotlib.pyplot as plt\n",
    "\n",
    "from wordcloud import STOPWORDS, wordcloud\n",
    "import re\n",
    "from fuzzywuzzy import fuzz, process\n",
    "\n",
    "from tqdm import tqdm"
   ]
  },
  {
   "cell_type": "markdown",
   "metadata": {},
   "source": [
    "# Load Dataset"
   ]
  },
  {
   "cell_type": "code",
   "execution_count": 5,
   "metadata": {},
   "outputs": [],
   "source": [
    "df_train = pd.read_csv('./data/new_train.csv')\n",
    "dataset = df_train # Let's use only one."
   ]
  },
  {
   "cell_type": "markdown",
   "metadata": {},
   "source": [
    "### Data Cleansing\n",
    "<ul>\n",
    "    <li>Removal of special characters</li>\n",
    "    <li>Expanding contractions</li>\n",
    "    <li>Lowering text</li>\n",
    "    <li>Replacing Obfuscated Profane Words</li>\n",
    "</ul>"
   ]
  },
  {
   "cell_type": "code",
   "execution_count": null,
   "metadata": {},
   "outputs": [],
   "source": [
    "def decontracted(phrase):\n",
    "    '''\n",
    "    This function decontracts words like won't to will not\n",
    "    '''\n",
    "\n",
    "    # specific\n",
    "    phrase = re.sub(r\"won't\", \"will not\", phrase)\n",
    "    phrase = re.sub(r\"can\\'t\", \"can not\", phrase)\n",
    "\n",
    "    # general\n",
    "    phrase = re.sub(r\"n\\'t\", \" not\", phrase)\n",
    "    phrase = re.sub(r\"\\'re\", \" are\", phrase)\n",
    "    phrase = re.sub(r\"\\'s\", \" is\", phrase)\n",
    "    phrase = re.sub(r\"\\'d\", \" would\", phrase)\n",
    "    phrase = re.sub(r\"\\'ll\", \" will\", phrase)\n",
    "    phrase = re.sub(r\"\\'t\", \" not\", phrase)\n",
    "    phrase = re.sub(r\"\\'ve\", \" have\", phrase)\n",
    "    phrase = re.sub(r\"\\'m\", \" am\", phrase)\n",
    "    \n",
    "    return phrase"
   ]
  },
  {
   "cell_type": "code",
   "execution_count": 6,
   "metadata": {},
   "outputs": [],
   "source": [
    "def removeNonPrintable(com):\n",
    "    com = com.replace('\\\\r', ' ')\n",
    "    com = com.replace('\\\\n', ' ')\n",
    "    com = com.replace('\\\\t', ' ')\n",
    "    com = com.replace('\\\\\"', ' ')\n",
    "    return com"
   ]
  },
  {
   "cell_type": "code",
   "execution_count": 22,
   "metadata": {},
   "outputs": [],
   "source": [
    "def getUniqueWords(comments):\n",
    "    unique_words = set()\n",
    "    for comment in tqdm(comments):\n",
    "        words = comment.split(\" \")\n",
    "        for word in words:\n",
    "            if len(word) > 2:\n",
    "                unique_words.add(word)\n",
    "    \n",
    "    return unique_words"
   ]
  },
  {
   "cell_type": "code",
   "execution_count": 23,
   "metadata": {},
   "outputs": [],
   "source": [
    "def getProfaneWords():\n",
    "    profane_words = []\n",
    "    with open(\"./data/bad-words.txt\",\"r\") as f:\n",
    "        for word in f:\n",
    "            word = word.replace(\"\\n\",\"\")\n",
    "            profane_words.append(word)\n",
    "    return profane_words\n",
    "    "
   ]
  },
  {
   "cell_type": "code",
   "execution_count": 20,
   "metadata": {},
   "outputs": [],
   "source": [
    "def createMappingDict(profane_words, unique_words):\n",
    "    # mapping dictionary\n",
    "    mapping_dict = dict()\n",
    "    \n",
    "    # looping through each profane word\n",
    "    for profane in tqdm(profane_words):\n",
    "        mapped_words = set()\n",
    "        \n",
    "        # looping through each word in vocab\n",
    "        for word in unique_words:\n",
    "            # mapping only if ratio > 80\n",
    "            try:\n",
    "                if fuzz.ratio(profane,word) > 80:\n",
    "                    mapped_words.add(word)\n",
    "            except:\n",
    "                pass\n",
    "                \n",
    "        # list of all vocab words for given profane word\n",
    "        mapping_dict[profane] = mapped_words\n",
    "    \n",
    "    return mapping_dict"
   ]
  },
  {
   "cell_type": "code",
   "execution_count": 27,
   "metadata": {},
   "outputs": [],
   "source": [
    "def replaceWords(corpus, mapping_dict):\n",
    "    processed_corpus = []\n",
    "\n",
    "    for document in tqdm(corpus):\n",
    "\n",
    "        # words = document.split()\n",
    "\n",
    "        for mapped_word, v in mapping_dict.items():\n",
    "            \n",
    "            document = re.sub(r'\\{word}\\b'.format(word = v), mapped_word, document)\n",
    "\n",
    "            # for target_word in v:\n",
    "\n",
    "            #     for i, word in enumerate(words):\n",
    "            #         if word == target_word:\n",
    "            #             words[i] = mapped_word\n",
    "\n",
    "        # document = \" \".join(words)\n",
    "        document = document.strip()\n",
    "\n",
    "        processed_corpus.append(document)\n",
    "\n",
    "    return processed_corpus\n",
    "\n"
   ]
  },
  {
   "cell_type": "code",
   "execution_count": 1,
   "metadata": {},
   "outputs": [],
   "source": [
    "def final_processing(corpus):\n",
    "    '''\n",
    "    Function applies final processing steps post profane mapping such as removing special characters,\n",
    "    punctuations etc.\n",
    "    '''\n",
    "    processed_comments = []\n",
    "    processed_words = []\n",
    "    emoj = re.compile(\"[\"\n",
    "        u\"\\U0001F600-\\U0001F64F\"  # emoticons\n",
    "        u\"\\U0001F300-\\U0001F5FF\"  # symbols & pictographs\n",
    "        u\"\\U0001F680-\\U0001F6FF\"  # transport & map symbols\n",
    "        u\"\\U0001F1E0-\\U0001F1FF\"  # flags (iOS)\n",
    "        u\"\\U00002500-\\U00002BEF\"  # chinese char\n",
    "        u\"\\U00002702-\\U000027B0\"\n",
    "        u\"\\U00002702-\\U000027B0\"\n",
    "        u\"\\U000024C2-\\U0001F251\"\n",
    "        u\"\\U0001f926-\\U0001f937\"\n",
    "        u\"\\U00010000-\\U0010ffff\"\n",
    "        u\"\\u2640-\\u2642\" \n",
    "        u\"\\u2600-\\u2B55\"\n",
    "        u\"\\u200d\"\n",
    "        u\"\\u23cf\"\n",
    "        u\"\\u23e9\"\n",
    "        u\"\\u231a\"\n",
    "        u\"\\ufe0f\"  # dingbats\n",
    "        u\"\\u3030\"\n",
    "    \"]+\", re.UNICODE)\n",
    "\n",
    "\n",
    "    # looping through each comment in corpus\n",
    "    for comment in tqdm(corpus):\n",
    "        comment = re.sub(emoj, '', comment)\n",
    "        comment = re.sub(r'http\\S+', '', comment)\n",
    "        comment = re.sub(\"\\B\\#\\w+\", '', comment)\n",
    "        comment = re.sub(\"\\B\\@\\w+\", '', comment)\n",
    "        comment = re.sub('[^A-Za-z\\s]+',\"\", comment) # retain only letters\n",
    "        for word in comment.split():\n",
    "            if len(word) >= 3:\n",
    "                processed_words.append(word)\n",
    "            \n",
    "        comment = \" \".join(processed_words)\n",
    "        \n",
    "        processed_comments.append(comment.strip())\n",
    "    \n",
    "    return processed_comments"
   ]
  },
  {
   "cell_type": "code",
   "execution_count": null,
   "metadata": {},
   "outputs": [],
   "source": [
    "def cleanComments(comments):\n",
    "    processed_comments = []\n",
    "    for comment in comments:\n",
    "        comment = decontracted(comment)\n",
    "        comment = removeNonPrintable(comment)\n",
    "\n",
    "        # Lower comment\n",
    "        processed_comments.append(comment.lower().strip())\n",
    "    \n",
    "    profane_words = getProfaneWords()\n",
    "    unique_words = getUniqueWords(processed_comments)\n",
    "    profane_dict = createMappingDict(profane_words, unique_words)\n",
    "    processed_comments = replaceWords(comments, profane_dict)\n",
    "    return final_processing(processed_comments)"
   ]
  },
  {
   "cell_type": "code",
   "execution_count": 13,
   "metadata": {},
   "outputs": [
    {
     "data": {
      "text/plain": [
       "(132291, 7)"
      ]
     },
     "execution_count": 13,
     "metadata": {},
     "output_type": "execute_result"
    }
   ],
   "source": [
    "df_train.shape"
   ]
  },
  {
   "cell_type": "code",
   "execution_count": 14,
   "metadata": {},
   "outputs": [
    {
     "data": {
      "text/html": [
       "<div>\n",
       "<style scoped>\n",
       "    .dataframe tbody tr th:only-of-type {\n",
       "        vertical-align: middle;\n",
       "    }\n",
       "\n",
       "    .dataframe tbody tr th {\n",
       "        vertical-align: top;\n",
       "    }\n",
       "\n",
       "    .dataframe thead th {\n",
       "        text-align: right;\n",
       "    }\n",
       "</style>\n",
       "<table border=\"1\" class=\"dataframe\">\n",
       "  <thead>\n",
       "    <tr style=\"text-align: right;\">\n",
       "      <th></th>\n",
       "      <th>Comment</th>\n",
       "      <th>Toxicity</th>\n",
       "      <th>Severe_Toxicity</th>\n",
       "      <th>Identity_Attack</th>\n",
       "      <th>Insult</th>\n",
       "      <th>Profanity</th>\n",
       "      <th>Threat</th>\n",
       "    </tr>\n",
       "  </thead>\n",
       "  <tbody>\n",
       "    <tr>\n",
       "      <th>0</th>\n",
       "      <td>Explanation\\nWhy the edits made under my usern...</td>\n",
       "      <td>0.129533</td>\n",
       "      <td>0.005232</td>\n",
       "      <td>0.009843</td>\n",
       "      <td>0.000779</td>\n",
       "      <td>0.000911</td>\n",
       "      <td>0.009409</td>\n",
       "    </tr>\n",
       "    <tr>\n",
       "      <th>1</th>\n",
       "      <td>D'aww! He matches this background colour I'm s...</td>\n",
       "      <td>0.022352</td>\n",
       "      <td>0.001590</td>\n",
       "      <td>0.010376</td>\n",
       "      <td>0.001265</td>\n",
       "      <td>0.001273</td>\n",
       "      <td>0.009809</td>\n",
       "    </tr>\n",
       "    <tr>\n",
       "      <th>2</th>\n",
       "      <td>Hey man, I'm really not trying to edit war. It...</td>\n",
       "      <td>0.168278</td>\n",
       "      <td>0.004964</td>\n",
       "      <td>0.010698</td>\n",
       "      <td>0.004839</td>\n",
       "      <td>0.001866</td>\n",
       "      <td>0.009920</td>\n",
       "    </tr>\n",
       "    <tr>\n",
       "      <th>3</th>\n",
       "      <td>\"\\nMore\\nI can't make any real suggestions on ...</td>\n",
       "      <td>0.056532</td>\n",
       "      <td>0.002854</td>\n",
       "      <td>0.009954</td>\n",
       "      <td>0.001283</td>\n",
       "      <td>0.001134</td>\n",
       "      <td>0.009656</td>\n",
       "    </tr>\n",
       "    <tr>\n",
       "      <th>4</th>\n",
       "      <td>You, sir, are my hero. Any chance you remember...</td>\n",
       "      <td>0.022491</td>\n",
       "      <td>0.002081</td>\n",
       "      <td>0.012285</td>\n",
       "      <td>0.004179</td>\n",
       "      <td>0.003558</td>\n",
       "      <td>0.011320</td>\n",
       "    </tr>\n",
       "  </tbody>\n",
       "</table>\n",
       "</div>"
      ],
      "text/plain": [
       "                                             Comment  Toxicity  \\\n",
       "0  Explanation\\nWhy the edits made under my usern...  0.129533   \n",
       "1  D'aww! He matches this background colour I'm s...  0.022352   \n",
       "2  Hey man, I'm really not trying to edit war. It...  0.168278   \n",
       "3  \"\\nMore\\nI can't make any real suggestions on ...  0.056532   \n",
       "4  You, sir, are my hero. Any chance you remember...  0.022491   \n",
       "\n",
       "   Severe_Toxicity  Identity_Attack    Insult  Profanity    Threat  \n",
       "0         0.005232         0.009843  0.000779   0.000911  0.009409  \n",
       "1         0.001590         0.010376  0.001265   0.001273  0.009809  \n",
       "2         0.004964         0.010698  0.004839   0.001866  0.009920  \n",
       "3         0.002854         0.009954  0.001283   0.001134  0.009656  \n",
       "4         0.002081         0.012285  0.004179   0.003558  0.011320  "
      ]
     },
     "execution_count": 14,
     "metadata": {},
     "output_type": "execute_result"
    }
   ],
   "source": [
    "df_train.head()"
   ]
  },
  {
   "cell_type": "code",
   "execution_count": 12,
   "metadata": {},
   "outputs": [
    {
     "data": {
      "image/png": "[encoded data removed]",
      "text/plain": [
       "<Figure size 864x2160 with 6 Axes>"
      ]
     },
     "metadata": {},
     "output_type": "display_data"
    }
   ],
   "source": [
    "fig, axis = plt.subplots(len(df_train.columns)-1, 1, figsize = (12,30))\n",
    "for i, col in enumerate(df_train.columns[1:]):\n",
    "    counts, bins = np.histogram(df_train[col].values, bins = 30)\n",
    "    axis[i].hist(bins[:-1], bins, weights=counts)\n",
    "    axis[i].title.set_text(col)\n",
    "plt.show()"
   ]
  },
  {
   "cell_type": "code",
   "execution_count": 13,
   "metadata": {},
   "outputs": [
    {
     "data": {
      "text/plain": [
       "(array([31050., 25108., 15563., 10200.,  6731.,  4560.,  3463.,  2589.,\n",
       "         2020.,  1645.,  1448.,  1079.,   845.,   675.,   595.,   510.,\n",
       "          419.,   321.,   343.,   241.,   234.,   178.,   158.,   148.,\n",
       "          123.,   109.,   123.,   112.,    83.,   106.,    82.,    97.,\n",
       "           77.,    83.,    78.,    77.,    62.,    75.,    69.,    61.,\n",
       "           66.,    56.,    50.,    50.,    57.,    60.,    78.,    85.,\n",
       "          100.,   149.]),\n",
       " array([   6.  ,  105.88,  205.76,  305.64,  405.52,  505.4 ,  605.28,\n",
       "         705.16,  805.04,  904.92, 1004.8 , 1104.68, 1204.56, 1304.44,\n",
       "        1404.32, 1504.2 , 1604.08, 1703.96, 1803.84, 1903.72, 2003.6 ,\n",
       "        2103.48, 2203.36, 2303.24, 2403.12, 2503.  , 2602.88, 2702.76,\n",
       "        2802.64, 2902.52, 3002.4 , 3102.28, 3202.16, 3302.04, 3401.92,\n",
       "        3501.8 , 3601.68, 3701.56, 3801.44, 3901.32, 4001.2 , 4101.08,\n",
       "        4200.96, 4300.84, 4400.72, 4500.6 , 4600.48, 4700.36, 4800.24,\n",
       "        4900.12, 5000.  ]),\n",
       " <BarContainer object of 50 artists>)"
      ]
     },
     "execution_count": 13,
     "metadata": {},
     "output_type": "execute_result"
    },
    {
     "data": {
      "image/png": "[encoded data removed]",
      "text/plain": [
       "<Figure size 432x288 with 1 Axes>"
      ]
     },
     "metadata": {},
     "output_type": "display_data"
    }
   ],
   "source": [
    "comments_lens = df_train.Comment.str.len()\n",
    "counts, bins = np.histogram(comments_lens.values, bins = 50)\n",
    "plt.hist(bins[:-1], bins, weights=counts)"
   ]
  },
  {
   "cell_type": "code",
   "execution_count": 14,
   "metadata": {},
   "outputs": [
    {
     "name": "stdout",
     "output_type": "stream",
     "text": [
      "0th Percentile Value = 6.0\n",
      "10th Percentile Value = 47.0\n",
      "20th Percentile Value = 79.0\n",
      "30th Percentile Value = 114.0\n",
      "40th Percentile Value = 155.0\n",
      "50th Percentile Value = 205.0\n",
      "60th Percentile Value = 274.0\n",
      "70th Percentile Value = 368.0\n",
      "80th Percentile Value = 529.0\n",
      "90th Percentile Value = 893.0\n",
      "100th Percentile Value = 5000.0\n"
     ]
    }
   ],
   "source": [
    "for i in range(11):\n",
    "    print(f'{i*10}th Percentile Value = {np.percentile(comments_lens, i*10)}')"
   ]
  },
  {
   "cell_type": "code",
   "execution_count": 15,
   "metadata": {},
   "outputs": [
    {
     "name": "stdout",
     "output_type": "stream",
     "text": [
      "90th Percentile Value = 893.0\n",
      "91th Percentile Value = 958.0\n",
      "92th Percentile Value = 1031.0\n",
      "93th Percentile Value = 1109.0\n",
      "94th Percentile Value = 1215.0\n",
      "95th Percentile Value = 1362.0\n",
      "96th Percentile Value = 1541.0\n",
      "97th Percentile Value = 1830.0\n",
      "98th Percentile Value = 2351.0\n",
      "99th Percentile Value = 3473.0\n",
      "100th Percentile Value = 5000.0\n"
     ]
    }
   ],
   "source": [
    "for i in range(11):\n",
    "    print(f'{90+i}th Percentile Value = {np.percentile(comments_lens, 90 + i)}')"
   ]
  },
  {
   "cell_type": "code",
   "execution_count": null,
   "metadata": {},
   "outputs": [],
   "source": [
    "processed_comments = cleanComments(df_train.Comment.values[:500])"
   ]
  },
  {
   "cell_type": "markdown",
   "metadata": {},
   "source": [
    "# Model Building"
   ]
  },
  {
   "cell_type": "markdown",
   "metadata": {},
   "source": [
    "Turn dataset into list(list of tokens, scores x6))"
   ]
  },
  {
   "cell_type": "code",
   "execution_count": null,
   "metadata": {},
   "outputs": [],
   "source": [
    "# Do above"
   ]
  },
  {
   "cell_type": "code",
   "execution_count": null,
   "metadata": {},
   "outputs": [],
   "source": [
    "# Separate dataset into train and test. 9/1\n",
    "train_dataset = []\n",
    "test_dataset = []"
   ]
  },
  {
   "cell_type": "code",
   "execution_count": null,
   "metadata": {},
   "outputs": [],
   "source": [
    "BUFFER_SIZE = 1000\n",
    "BATCH_SIZE = 32\n",
    "train_dataset = train_dataset.shuffle(BUFFER_SIZE).batch(BATCH_SIZE).prefetch(tf.data.AUTOTUNE)\n",
    "test_dataset = test_dataset.batch(BATCH_SIZE).prefetch(tf.data.AUTOTUNE)"
   ]
  },
  {
   "cell_type": "code",
   "execution_count": null,
   "metadata": {},
   "outputs": [],
   "source": [
    "VOCAB_SIZE = 1000\n",
    "encoder = layers.TextVectorization(max_tokens = VOCAB_SIZE)\n",
    "encoder.adapt(train_dataset.map(lambda text, label: text))"
   ]
  },
  {
   "cell_type": "code",
   "execution_count": null,
   "metadata": {},
   "outputs": [],
   "source": [
    "model = keras.Sequential([\n",
    "\tencoder,\n",
    "\tlayers.Embedding(\n",
    "\t\tinput_dim = len(encoder.get_vocabulary()),\n",
    "\t\toutput_dim = 64,\n",
    "\t\t# Use masking to handle the variable sequence lengths\n",
    "\t\tmask_zero = True\n",
    "\t),\n",
    "\tlayers.Dropout(0.8),\n",
    "\tlayers.Bidirectional(layers.LSTM(64)),\n",
    "\tlayers.Dropout(0.6),\n",
    "\tlayers.Dense(32, activation='relu'),\n",
    "\tlayers.Dropout(0.5), # ?\n",
    "\tlayers.Dense(6)\n",
    "])\n",
    "\n",
    "model.compile(loss = keras.losses.BinaryCrossentropy(from_logits = True),\n",
    "\t\t\t  optimizer = keras.optimizers.adam_v2.Adam(1e-4),\n",
    "\t\t\t  metrics = ['Toxicity', 'Severe_Toxicity', 'Identity_Attack', 'Insult', 'Profanity', 'Threat'])"
   ]
  },
  {
   "cell_type": "code",
   "execution_count": null,
   "metadata": {},
   "outputs": [],
   "source": [
    "history = model.fit(train_dataset,\n",
    "\t\t\t\t\tepochs = 20,\n",
    "\t\t\t\t\tsteps_per_epoch = 50,\n",
    "\t\t\t\t\tvalidation_data = test_dataset,\n",
    "\t\t\t\t\tvalidation_steps = 30)"
   ]
  },
  {
   "cell_type": "code",
   "execution_count": null,
   "metadata": {},
   "outputs": [],
   "source": [
    "test_loss, test_acc = model.evaluate(test_dataset)\n",
    "\n",
    "print('Test Loss:', test_loss)\n",
    "print('Test Accuracy:', test_acc)"
   ]
  }
 ],
 "metadata": {
  "interpreter": {
   "hash": "3c92edb50b0d3c17cb874491556f3b23517a1eaeecdd98db06b8cc77892b6a96"
  },
  "kernelspec": {
   "display_name": "Python 3.9.4 ('venv': venv)",
   "language": "python",
   "name": "python3"
  },
  "language_info": {
   "codemirror_mode": {
    "name": "ipython",
    "version": 3
   },
   "file_extension": ".py",
   "mimetype": "text/x-python",
   "name": "python",
   "nbconvert_exporter": "python",
   "pygments_lexer": "ipython3",
   "version": "3.9.4"
  },
  "orig_nbformat": 4
 },
 "nbformat": 4,
 "nbformat_minor": 2
}
