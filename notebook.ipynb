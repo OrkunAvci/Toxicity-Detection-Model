{
 "cells": [
  {
   "cell_type": "markdown",
   "metadata": {},
   "source": [
    "# Toxicity Detection Model\n",
    "\n",
    "Get live data with `get_comments.py` and transform Kaggle data set with `transform_train.py`\n",
    "\n",
    "Get libraries by running `pip install -r requirements.txt`\n",
    "\n",
    "This is a deep learning model."
   ]
  },
  {
   "cell_type": "code",
   "execution_count": 14,
   "metadata": {},
   "outputs": [],
   "source": [
    "# # import tensorflow as tf\n",
    "# import keras\n",
    "# from keras import layers\n",
    "import numpy as np\n",
    "import pandas as pd\n",
    "\n",
    "\n",
    "import matplotlib.pyplot as plt\n",
    "import seaborn as sns\n",
    "\n",
    "from wordcloud import STOPWORDS, wordcloud\n",
    "import re\n",
    "from fuzzywuzzy import fuzz, process\n",
    "from nltk.corpus import stopwords\n",
    "\n",
    "from tqdm import tqdm"
   ]
  },
  {
   "cell_type": "markdown",
   "metadata": {},
   "source": [
    "# Load Dataset"
   ]
  },
  {
   "cell_type": "code",
   "execution_count": 2,
   "metadata": {},
   "outputs": [],
   "source": [
    "df_train = pd.read_csv('./data/new_train.csv')"
   ]
  },
  {
   "cell_type": "markdown",
   "metadata": {},
   "source": [
    "### Data Cleansing\n",
    "<ul>\n",
    "    <li>Removal of special characters</li>\n",
    "    <li>Expanding contractions</li>\n",
    "    <li>Lowering text</li>\n",
    "    <li>Replacing Obfuscated Profane Words</li>\n",
    "</ul>"
   ]
  },
  {
   "cell_type": "code",
   "execution_count": 3,
   "metadata": {},
   "outputs": [],
   "source": [
    "def decontracted(phrase):\n",
    "    '''\n",
    "    This function decontracts words like won't to will not\n",
    "    '''\n",
    "\n",
    "    # specific\n",
    "    phrase = re.sub(r\"won't\", \"will not\", phrase)\n",
    "    phrase = re.sub(r\"can\\'t\", \"can not\", phrase)\n",
    "\n",
    "    # general\n",
    "    phrase = re.sub(r\"n\\'t\", \" not\", phrase)\n",
    "    phrase = re.sub(r\"\\'re\", \" are\", phrase)\n",
    "    phrase = re.sub(r\"\\'s\", \" is\", phrase)\n",
    "    phrase = re.sub(r\"\\'d\", \" would\", phrase)\n",
    "    phrase = re.sub(r\"\\'ll\", \" will\", phrase)\n",
    "    phrase = re.sub(r\"\\'t\", \" not\", phrase)\n",
    "    phrase = re.sub(r\"\\'ve\", \" have\", phrase)\n",
    "    phrase = re.sub(r\"\\'m\", \" am\", phrase)\n",
    "    \n",
    "    return phrase"
   ]
  },
  {
   "cell_type": "code",
   "execution_count": 4,
   "metadata": {},
   "outputs": [],
   "source": [
    "def removeNonPrintable(com):\n",
    "    com = com.replace('\\\\r', ' ')\n",
    "    com = com.replace('\\\\n', ' ')\n",
    "    com = com.replace('\\\\t', ' ')\n",
    "    com = com.replace('\\\\\"', ' ')\n",
    "    return com"
   ]
  },
  {
   "cell_type": "code",
   "execution_count": 5,
   "metadata": {},
   "outputs": [],
   "source": [
    "def getUniqueWords(comments):\n",
    "    unique_words = set()\n",
    "    for comment in tqdm(comments):\n",
    "        words = comment.split(\" \")\n",
    "        for word in words:\n",
    "            if len(word) > 2:\n",
    "                unique_words.add(word)\n",
    "    \n",
    "    return unique_words"
   ]
  },
  {
   "cell_type": "code",
   "execution_count": 6,
   "metadata": {},
   "outputs": [],
   "source": [
    "def getProfaneWords():\n",
    "    profane_words = []\n",
    "    with open(\"./data/bad-words.txt\",\"r\") as f:\n",
    "        for word in f:\n",
    "            word = word.replace(\"\\n\",\"\")\n",
    "            profane_words.append(word)\n",
    "    return profane_words\n",
    "    "
   ]
  },
  {
   "cell_type": "code",
   "execution_count": 7,
   "metadata": {},
   "outputs": [],
   "source": [
    "def createMappingDict(profane_words, unique_words):\n",
    "    # mapping dictionary\n",
    "    mapping_dict = dict()\n",
    "    \n",
    "    # looping through each profane word\n",
    "    for profane in tqdm(profane_words):\n",
    "        mapped_words = set()\n",
    "        \n",
    "        # looping through each word in vocab\n",
    "        for word in unique_words:\n",
    "            # mapping only if ratio > 80\n",
    "            try:\n",
    "                if fuzz.ratio(profane,word) > 80:\n",
    "                    mapped_words.add(word)\n",
    "            except:\n",
    "                pass\n",
    "                \n",
    "        # list of all vocab words for given profane word\n",
    "        mapping_dict[profane] = mapped_words\n",
    "    \n",
    "    return mapping_dict"
   ]
  },
  {
   "cell_type": "code",
   "execution_count": 8,
   "metadata": {},
   "outputs": [],
   "source": [
    "def replaceWords(corpus, mapping_dict):\n",
    "    processed_corpus = []\n",
    "\n",
    "    for document in tqdm(corpus):\n",
    "\n",
    "        # words = document.split()\n",
    "\n",
    "        for mapped_word, v in mapping_dict.items():\n",
    "            \n",
    "            document = re.sub(r'\\b{word}\\b'.format(word = v), mapped_word, document)\n",
    "\n",
    "            # for target_word in v:\n",
    "\n",
    "            #     for i, word in enumerate(words):\n",
    "            #         if word == target_word:\n",
    "            #             words[i] = mapped_word\n",
    "\n",
    "        # document = \" \".join(words)\n",
    "        document = document.strip()\n",
    "\n",
    "        processed_corpus.append(document)\n",
    "\n",
    "    return processed_corpus\n",
    "\n"
   ]
  },
  {
   "cell_type": "code",
   "execution_count": 15,
   "metadata": {},
   "outputs": [
    {
     "ename": "SyntaxError",
     "evalue": "invalid syntax (<ipython-input-15-72a664679f99>, line 33)",
     "output_type": "error",
     "traceback": [
      "\u001b[1;36m  File \u001b[1;32m\"<ipython-input-15-72a664679f99>\"\u001b[1;36m, line \u001b[1;32m33\u001b[0m\n\u001b[1;33m    comment = \" \".join([e for e in processed_words if e.lower() is in stopwords_list])\u001b[0m\n\u001b[1;37m                                                                    ^\u001b[0m\n\u001b[1;31mSyntaxError\u001b[0m\u001b[1;31m:\u001b[0m invalid syntax\n"
     ]
    }
   ],
   "source": [
    "def final_processing(corpus):\n",
    "    '''\n",
    "    Function applies final processing steps post profane mapping such as removing special characters,\n",
    "    punctuations etc.\n",
    "    '''\n",
    "    processed_comments = []\n",
    "    stopwords_list = stopwords.words(\"english\")\n",
    "    print('final_processing')\n",
    "\n",
    "    emoj = re.compile(pattern = \"[\"\n",
    "        u\"\\U0001F600-\\U0001F64F\"  # emoticons\n",
    "        u\"\\U0001F300-\\U0001F5FF\"  # symbols & pictographs\n",
    "        u\"\\U0001F680-\\U0001F6FF\"  # transport & map symbols\n",
    "        u\"\\U0001F1E0-\\U0001F1FF\"  # flags (iOS)\n",
    "                           \"]+\", flags = re.UNICODE)\n",
    "\n",
    "\n",
    "    # looping through each comment in corpus\n",
    "    for comment in tqdm(corpus):\n",
    "        try:\n",
    "          processed_words = []\n",
    "          comment = re.sub(emoj, r'', comment)\n",
    "          comment = re.sub(r'http\\S+', '', comment)\n",
    "          # comment = re.sub(\"\\B\\#\\w+\", ' ', comment)\n",
    "          # comment = re.sub(\"\\B\\@\\w+\", '', comment)\n",
    "          comment = re.sub(r'(\\w*#\\w+|\\w+#\\w*)','', comment)\n",
    "          comment = re.sub(r'(\\w*@\\w+|\\w+#\\w*)','',  comment)\n",
    "          comment = re.sub(r'[^A-Za-z\\s]+',\"\",  comment) # retain only letters\n",
    "          for word in comment.split():\n",
    "              if len(word) >= 3:\n",
    "                  processed_words.append(word)\n",
    "              \n",
    "          comment = \" \".join([e for e in processed_words if e.lower() is in stopwords_list])\n",
    "          \n",
    "          processed_comments.append(comment.strip())\n",
    "        except Exception as e:\n",
    "          print(corpus)\n",
    "          print(e)\n",
    "          pass\n",
    "    \n",
    "    return processed_comments"
   ]
  },
  {
   "cell_type": "code",
   "execution_count": 10,
   "metadata": {},
   "outputs": [],
   "source": [
    "def cleanComments(comments):\n",
    "    processed_comments = []\n",
    "    for comment in comments:\n",
    "        comment = decontracted(comment)\n",
    "        comment = removeNonPrintable(comment)\n",
    "\n",
    "        # Lower comment\n",
    "        processed_comments.append(comment.lower().strip())\n",
    "      \n",
    "    profane_words = getProfaneWords()\n",
    "    #unique_words = getUniqueWords(processed_comments)\n",
    "    #profane_dict = createMappingDict(profane_words, unique_words)\n",
    "    #processed_comments = replaceWords(processed_comments, profane_dict)\n",
    "    final_comments = final_processing(processed_comments)\n",
    "    return final_comments"
   ]
  },
  {
   "cell_type": "code",
   "execution_count": 11,
   "metadata": {},
   "outputs": [],
   "source": [
    "def corrHeatmap(df, fileName = None):\n",
    "    classes = df.columns[1:]\n",
    "    data = df.copy()\n",
    "    data = data[classes]\n",
    "    corr = data.corr()\n",
    "\n",
    "    plt.figure(figsize=(8,6))\n",
    "    sns.heatmap(corr,annot=True,vmin=1,vmax=0,fmt='.2g',cmap='rocket')\n",
    "    plt.title(\"Correlation Matrix: Labels of Comments\")\n",
    "    if fileName:\n",
    "        plt.savefig(fileName + '.png')\n",
    "    plt.show()"
   ]
  },
  {
   "cell_type": "code",
   "execution_count": 12,
   "metadata": {},
   "outputs": [],
   "source": [
    "def showPercentiles(data):\n",
    "    print(\"========== For 0-100 ==========\")\n",
    "    for i in range(11):\n",
    "        print(f'{i*10}th Percentile Value = {np.percentile(data, i*10)}')\n",
    "\n",
    "    print(\"\\n\")\n",
    "    print(\"========== For 90-100 ==========\")\n",
    "    for i in range(11):\n",
    "        print(f'{90+i}th Percentile Value = {np.percentile(data, 90 + i)}')"
   ]
  },
  {
   "cell_type": "code",
   "execution_count": 13,
   "metadata": {},
   "outputs": [],
   "source": [
    "def plotHist(data, bin_size, title, fileName = None, columns = None):\n",
    "    if columns is not None:\n",
    "        fig, axis = plt.subplots(len(columns)-1, 1, figsize = (12,30))\n",
    "        for i, col in enumerate(columns[1:]):\n",
    "            sns.histplot(data=data[col],bins=bin_size,palette=\"rocket\",ax = axis[i])\n",
    "\n",
    "        fig.tight_layout()\n",
    "        fig.subplots_adjust(top = 0.95)\n",
    "        fig.suptitle(title, size = 18)\n",
    "    else:\n",
    "        sns.histplot(data=data,bins=bin_size,palette=\"rocket\")\n",
    "        plt.title(title)\n",
    "    \n",
    "\n",
    "    if fileName:\n",
    "        plt.savefig(fileName + '.png')\n",
    "    \n",
    "    plt.show()"
   ]
  },
  {
   "cell_type": "code",
   "execution_count": 16,
   "metadata": {},
   "outputs": [
    {
     "data": {
      "text/plain": [
       "(132291, 7)"
      ]
     },
     "execution_count": 16,
     "metadata": {},
     "output_type": "execute_result"
    }
   ],
   "source": [
    "df_train.shape"
   ]
  },
  {
   "cell_type": "code",
   "execution_count": 62,
   "metadata": {},
   "outputs": [
    {
     "data": {
      "text/html": [
       "<div>\n",
       "<style scoped>\n",
       "    .dataframe tbody tr th:only-of-type {\n",
       "        vertical-align: middle;\n",
       "    }\n",
       "\n",
       "    .dataframe tbody tr th {\n",
       "        vertical-align: top;\n",
       "    }\n",
       "\n",
       "    .dataframe thead th {\n",
       "        text-align: right;\n",
       "    }\n",
       "</style>\n",
       "<table border=\"1\" class=\"dataframe\">\n",
       "  <thead>\n",
       "    <tr style=\"text-align: right;\">\n",
       "      <th></th>\n",
       "      <th>Comment</th>\n",
       "      <th>Toxicity</th>\n",
       "      <th>Severe_Toxicity</th>\n",
       "      <th>Identity_Attack</th>\n",
       "      <th>Insult</th>\n",
       "      <th>Profanity</th>\n",
       "      <th>Threat</th>\n",
       "    </tr>\n",
       "  </thead>\n",
       "  <tbody>\n",
       "    <tr>\n",
       "      <th>0</th>\n",
       "      <td>Explanation\\nWhy the edits made under my usern...</td>\n",
       "      <td>0.129533</td>\n",
       "      <td>0.005232</td>\n",
       "      <td>0.009843</td>\n",
       "      <td>0.000779</td>\n",
       "      <td>0.000911</td>\n",
       "      <td>0.009409</td>\n",
       "    </tr>\n",
       "    <tr>\n",
       "      <th>1</th>\n",
       "      <td>D'aww! He matches this background colour I'm s...</td>\n",
       "      <td>0.022352</td>\n",
       "      <td>0.001590</td>\n",
       "      <td>0.010376</td>\n",
       "      <td>0.001265</td>\n",
       "      <td>0.001273</td>\n",
       "      <td>0.009809</td>\n",
       "    </tr>\n",
       "    <tr>\n",
       "      <th>2</th>\n",
       "      <td>Hey man, I'm really not trying to edit war. It...</td>\n",
       "      <td>0.168278</td>\n",
       "      <td>0.004964</td>\n",
       "      <td>0.010698</td>\n",
       "      <td>0.004839</td>\n",
       "      <td>0.001866</td>\n",
       "      <td>0.009920</td>\n",
       "    </tr>\n",
       "    <tr>\n",
       "      <th>3</th>\n",
       "      <td>\"\\nMore\\nI can't make any real suggestions on ...</td>\n",
       "      <td>0.056532</td>\n",
       "      <td>0.002854</td>\n",
       "      <td>0.009954</td>\n",
       "      <td>0.001283</td>\n",
       "      <td>0.001134</td>\n",
       "      <td>0.009656</td>\n",
       "    </tr>\n",
       "    <tr>\n",
       "      <th>4</th>\n",
       "      <td>You, sir, are my hero. Any chance you remember...</td>\n",
       "      <td>0.022491</td>\n",
       "      <td>0.002081</td>\n",
       "      <td>0.012285</td>\n",
       "      <td>0.004179</td>\n",
       "      <td>0.003558</td>\n",
       "      <td>0.011320</td>\n",
       "    </tr>\n",
       "  </tbody>\n",
       "</table>\n",
       "</div>"
      ],
      "text/plain": [
       "                                             Comment  Toxicity  \\\n",
       "0  Explanation\\nWhy the edits made under my usern...  0.129533   \n",
       "1  D'aww! He matches this background colour I'm s...  0.022352   \n",
       "2  Hey man, I'm really not trying to edit war. It...  0.168278   \n",
       "3  \"\\nMore\\nI can't make any real suggestions on ...  0.056532   \n",
       "4  You, sir, are my hero. Any chance you remember...  0.022491   \n",
       "\n",
       "   Severe_Toxicity  Identity_Attack    Insult  Profanity    Threat  \n",
       "0         0.005232         0.009843  0.000779   0.000911  0.009409  \n",
       "1         0.001590         0.010376  0.001265   0.001273  0.009809  \n",
       "2         0.004964         0.010698  0.004839   0.001866  0.009920  \n",
       "3         0.002854         0.009954  0.001283   0.001134  0.009656  \n",
       "4         0.002081         0.012285  0.004179   0.003558  0.011320  "
      ]
     },
     "execution_count": 62,
     "metadata": {},
     "output_type": "execute_result"
    }
   ],
   "source": [
    "df_train.head()"
   ]
  },
  {
   "cell_type": "code",
   "execution_count": 132,
   "metadata": {},
   "outputs": [
    {
     "data": {
      "image/png": "[encoded data removed]",
      "text/plain": [
       "<Figure size 864x2160 with 6 Axes>"
      ]
     },
     "metadata": {
      "needs_background": "light"
     },
     "output_type": "display_data"
    }
   ],
   "source": [
    "plotHist(df_train, 30, 'Histogram of the Labels', 'categories_histogram', df_train.columns)"
   ]
  },
  {
   "cell_type": "code",
   "execution_count": 135,
   "metadata": {},
   "outputs": [
    {
     "data": {
      "image/png": "[encoded data removed]",
      "text/plain": [
       "<Figure size 432x288 with 1 Axes>"
      ]
     },
     "metadata": {
      "needs_background": "light"
     },
     "output_type": "display_data"
    }
   ],
   "source": [
    "plotHist(df_train.Comment.str.len(), 50, 'Length of the Comments', 'comments_length_before_preprocess')"
   ]
  },
  {
   "cell_type": "code",
   "execution_count": 65,
   "metadata": {},
   "outputs": [
    {
     "name": "stdout",
     "output_type": "stream",
     "text": [
      "============== Toxicity ==============\n",
      "========== For 0-100 ==========\n",
      "0th Percentile Value = 6.778911e-08\n",
      "10th Percentile Value = 0.016173938\n",
      "20th Percentile Value = 0.024490505\n",
      "30th Percentile Value = 0.03770977\n",
      "40th Percentile Value = 0.059328925\n",
      "50th Percentile Value = 0.09333697\n",
      "60th Percentile Value = 0.14104263\n",
      "70th Percentile Value = 0.19936113\n",
      "80th Percentile Value = 0.29855597\n",
      "90th Percentile Value = 0.5038962\n",
      "100th Percentile Value = 0.9953412\n",
      "\n",
      "\n",
      "========== For 90-100 ==========\n",
      "90th Percentile Value = 0.5038962\n",
      "91th Percentile Value = 0.5535644000000001\n",
      "92th Percentile Value = 0.5958905\n",
      "93th Percentile Value = 0.6662635\n",
      "94th Percentile Value = 0.73034537\n",
      "95th Percentile Value = 0.78524166\n",
      "96th Percentile Value = 0.8546526\n",
      "97th Percentile Value = 0.89158845\n",
      "98th Percentile Value = 0.93413806\n",
      "99th Percentile Value = 0.9646382\n",
      "100th Percentile Value = 0.9953412\n",
      "\n",
      "\n",
      "============== Severe_Toxicity ==============\n",
      "========== For 0-100 ==========\n",
      "0th Percentile Value = 5.8056470000000005e-08\n",
      "10th Percentile Value = 0.0014416583999999999\n",
      "20th Percentile Value = 0.0017834948\n",
      "30th Percentile Value = 0.0021996435\n",
      "40th Percentile Value = 0.002764417\n",
      "50th Percentile Value = 0.003641302\n",
      "60th Percentile Value = 0.005053235\n",
      "70th Percentile Value = 0.0077284775\n",
      "80th Percentile Value = 0.015575855\n",
      "90th Percentile Value = 0.124105975\n",
      "100th Percentile Value = 0.85\n",
      "\n",
      "\n",
      "========== For 90-100 ==========\n",
      "90th Percentile Value = 0.124105975\n",
      "91th Percentile Value = 0.17381348\n",
      "92th Percentile Value = 0.21157408\n",
      "93th Percentile Value = 0.22385511999999996\n",
      "94th Percentile Value = 0.41180557\n",
      "95th Percentile Value = 0.42189923\n",
      "96th Percentile Value = 0.4633291\n",
      "97th Percentile Value = 0.51887757\n",
      "98th Percentile Value = 0.5710703\n",
      "99th Percentile Value = 0.6257666000000001\n",
      "100th Percentile Value = 0.85\n",
      "\n",
      "\n",
      "============== Identity_Attack ==============\n",
      "========== For 0-100 ==========\n",
      "0th Percentile Value = 0.009177678\n",
      "10th Percentile Value = 0.009941293\n",
      "20th Percentile Value = 0.010105887\n",
      "30th Percentile Value = 0.010270482\n",
      "40th Percentile Value = 0.010487746000000001\n",
      "50th Percentile Value = 0.010889356999999999\n",
      "60th Percentile Value = 0.01167941\n",
      "70th Percentile Value = 0.013654544\n",
      "80th Percentile Value = 0.017710151\n",
      "90th Percentile Value = 0.02950828\n",
      "100th Percentile Value = 0.8363224\n",
      "\n",
      "\n",
      "========== For 90-100 ==========\n",
      "90th Percentile Value = 0.02950828\n",
      "91th Percentile Value = 0.03224713\n",
      "92th Percentile Value = 0.035723366\n",
      "93th Percentile Value = 0.040569026\n",
      "94th Percentile Value = 0.04883728\n",
      "95th Percentile Value = 0.06379164\n",
      "96th Percentile Value = 0.08638227\n",
      "97th Percentile Value = 0.11423728300000117\n",
      "98th Percentile Value = 0.14686169\n",
      "99th Percentile Value = 0.29806350000000004\n",
      "100th Percentile Value = 0.8363224\n",
      "\n",
      "\n",
      "============== Insult ==============\n",
      "========== For 0-100 ==========\n",
      "0th Percentile Value = 1.4319432999999998e-07\n",
      "10th Percentile Value = 0.0009805948\n",
      "20th Percentile Value = 0.0013288434\n",
      "30th Percentile Value = 0.0017412431\n",
      "40th Percentile Value = 0.0024743981\n",
      "50th Percentile Value = 0.0037207615\n",
      "60th Percentile Value = 0.006415105999999999\n",
      "70th Percentile Value = 0.013123474\n",
      "80th Percentile Value = 0.030059354\n",
      "90th Percentile Value = 0.08050404\n",
      "100th Percentile Value = 0.8920783000000001\n",
      "\n",
      "\n",
      "========== For 90-100 ==========\n",
      "90th Percentile Value = 0.08050404\n",
      "91th Percentile Value = 0.09517539\n",
      "92th Percentile Value = 0.11716794\n",
      "93th Percentile Value = 0.13399015\n",
      "94th Percentile Value = 0.15396700000000002\n",
      "95th Percentile Value = 0.19799528\n",
      "96th Percentile Value = 0.28602606\n",
      "97th Percentile Value = 0.35278165\n",
      "98th Percentile Value = 0.43649372\n",
      "99th Percentile Value = 0.58619964\n",
      "100th Percentile Value = 0.8920783000000001\n",
      "\n",
      "\n",
      "============== Profanity ==============\n",
      "========== For 0-100 ==========\n",
      "0th Percentile Value = 1.3626074e-07\n",
      "10th Percentile Value = 0.00088514976\n",
      "20th Percentile Value = 0.0010857256\n",
      "30th Percentile Value = 0.0012993824\n",
      "40th Percentile Value = 0.0015610029999999998\n",
      "50th Percentile Value = 0.0021104063\n",
      "60th Percentile Value = 0.0032789784000000002\n",
      "70th Percentile Value = 0.006383543\n",
      "80th Percentile Value = 0.0144414585\n",
      "90th Percentile Value = 0.05104654\n",
      "100th Percentile Value = 0.9286023999999999\n",
      "\n",
      "\n",
      "========== For 90-100 ==========\n",
      "90th Percentile Value = 0.05104654\n",
      "91th Percentile Value = 0.06237638\n",
      "92th Percentile Value = 0.076538675\n",
      "93th Percentile Value = 0.09515198\n",
      "94th Percentile Value = 0.116978616\n",
      "95th Percentile Value = 0.13941896\n",
      "96th Percentile Value = 0.20384872\n",
      "97th Percentile Value = 0.27274632\n",
      "98th Percentile Value = 0.3846113\n",
      "99th Percentile Value = 0.5161462\n",
      "100th Percentile Value = 0.9286023999999999\n",
      "\n",
      "\n",
      "============== Threat ==============\n",
      "========== For 0-100 ==========\n",
      "0th Percentile Value = 0.0\n",
      "10th Percentile Value = 0.009547857\n",
      "20th Percentile Value = 0.009647187\n",
      "30th Percentile Value = 0.009744206\n",
      "40th Percentile Value = 0.009855085999999999\n",
      "50th Percentile Value = 0.010002926\n",
      "60th Percentile Value = 0.010312465\n",
      "70th Percentile Value = 0.011070143999999999\n",
      "80th Percentile Value = 0.012807261\n",
      "90th Percentile Value = 0.016835894\n",
      "100th Percentile Value = 0.80452085\n",
      "\n",
      "\n",
      "========== For 90-100 ==========\n",
      "90th Percentile Value = 0.016835894\n",
      "91th Percentile Value = 0.017612053\n",
      "92th Percentile Value = 0.018646931000000002\n",
      "93th Percentile Value = 0.01990357\n",
      "94th Percentile Value = 0.021677647\n",
      "95th Percentile Value = 0.024117002000000002\n",
      "96th Percentile Value = 0.027960837000000002\n",
      "97th Percentile Value = 0.03855143\n",
      "98th Percentile Value = 0.08811198\n",
      "99th Percentile Value = 0.22530505\n",
      "100th Percentile Value = 0.80452085\n",
      "\n",
      "\n"
     ]
    }
   ],
   "source": [
    "for cat in df_train.columns[1:]:\n",
    "    print(f\"============== {cat} ==============\")\n",
    "    showPercentiles(df_train[cat])\n",
    "    print(\"\\n\")"
   ]
  },
  {
   "cell_type": "code",
   "execution_count": 66,
   "metadata": {},
   "outputs": [
    {
     "name": "stdout",
     "output_type": "stream",
     "text": [
      "========== For 0-100 ==========\n",
      "0th Percentile Value = 6.0\n",
      "10th Percentile Value = 47.0\n",
      "20th Percentile Value = 78.0\n",
      "30th Percentile Value = 114.0\n",
      "40th Percentile Value = 155.0\n",
      "50th Percentile Value = 205.0\n",
      "60th Percentile Value = 274.0\n",
      "70th Percentile Value = 367.0\n",
      "80th Percentile Value = 528.0\n",
      "90th Percentile Value = 889.0\n",
      "100th Percentile Value = 5000.0\n",
      "\n",
      "\n",
      "========== For 90-100 ==========\n",
      "90th Percentile Value = 889.0\n",
      "91th Percentile Value = 956.0\n",
      "92th Percentile Value = 1030.0\n",
      "93th Percentile Value = 1107.0\n",
      "94th Percentile Value = 1215.0\n",
      "95th Percentile Value = 1359.0\n",
      "96th Percentile Value = 1535.0\n",
      "97th Percentile Value = 1819.300000000003\n",
      "98th Percentile Value = 2322.199999999997\n",
      "99th Percentile Value = 3442.100000000006\n",
      "100th Percentile Value = 5000.0\n"
     ]
    }
   ],
   "source": [
    "showPercentiles(df_train.Comment.str.len())"
   ]
  },
  {
   "cell_type": "code",
   "execution_count": 137,
   "metadata": {},
   "outputs": [
    {
     "data": {
      "image/png": "[encoded data removed]",
      "text/plain": [
       "<Figure size 576x432 with 2 Axes>"
      ]
     },
     "metadata": {
      "needs_background": "light"
     },
     "output_type": "display_data"
    }
   ],
   "source": [
    "corrHeatmap(df_train, 'corr_matrix_labels')"
   ]
  },
  {
   "cell_type": "markdown",
   "metadata": {},
   "source": [
    "There is a strong positive relationship between Toxicity-Severe Toxicity, Identity Attack-Insult and Toxicity-Profanity respectively"
   ]
  },
  {
   "cell_type": "code",
   "execution_count": 19,
   "metadata": {},
   "outputs": [
    {
     "name": "stderr",
     "output_type": "stream",
     "text": [
      "  1%|          | 1369/132291 [00:00<00:19, 6710.27it/s]"
     ]
    },
    {
     "name": "stdout",
     "output_type": "stream",
     "text": [
      "final_processing\n"
     ]
    },
    {
     "name": "stderr",
     "output_type": "stream",
     "text": [
      "100%|██████████| 132291/132291 [00:22<00:00, 5830.21it/s]\n"
     ]
    }
   ],
   "source": [
    "processed_comments = cleanComments(df_train.Comment.values)"
   ]
  },
  {
   "cell_type": "code",
   "execution_count": 26,
   "metadata": {},
   "outputs": [],
   "source": [
    "df_processed = df_train[df_train.columns[1:]].copy()\n",
    "df_processed['ProcessedComment'] = processed_comments"
   ]
  },
  {
   "cell_type": "code",
   "execution_count": 75,
   "metadata": {},
   "outputs": [],
   "source": [
    "df_processed = pd.read_csv(r'data\\new_train_10000.csv')\n",
    "df_processed.drop(['Unnamed: 0'], axis = 1, inplace = True)"
   ]
  },
  {
   "cell_type": "code",
   "execution_count": 27,
   "metadata": {},
   "outputs": [
    {
     "data": {
      "text/html": [
       "<div>\n",
       "<style scoped>\n",
       "    .dataframe tbody tr th:only-of-type {\n",
       "        vertical-align: middle;\n",
       "    }\n",
       "\n",
       "    .dataframe tbody tr th {\n",
       "        vertical-align: top;\n",
       "    }\n",
       "\n",
       "    .dataframe thead th {\n",
       "        text-align: right;\n",
       "    }\n",
       "</style>\n",
       "<table border=\"1\" class=\"dataframe\">\n",
       "  <thead>\n",
       "    <tr style=\"text-align: right;\">\n",
       "      <th></th>\n",
       "      <th>Toxicity</th>\n",
       "      <th>Severe_Toxicity</th>\n",
       "      <th>Identity_Attack</th>\n",
       "      <th>Insult</th>\n",
       "      <th>Profanity</th>\n",
       "      <th>Threat</th>\n",
       "      <th>ProcessedComment</th>\n",
       "    </tr>\n",
       "  </thead>\n",
       "  <tbody>\n",
       "    <tr>\n",
       "      <th>0</th>\n",
       "      <td>0.129533</td>\n",
       "      <td>0.005232</td>\n",
       "      <td>0.009843</td>\n",
       "      <td>0.000779</td>\n",
       "      <td>0.000911</td>\n",
       "      <td>0.009409</td>\n",
       "      <td>explanation why the edits made under username ...</td>\n",
       "    </tr>\n",
       "    <tr>\n",
       "      <th>1</th>\n",
       "      <td>0.022352</td>\n",
       "      <td>0.001590</td>\n",
       "      <td>0.010376</td>\n",
       "      <td>0.001265</td>\n",
       "      <td>0.001273</td>\n",
       "      <td>0.009809</td>\n",
       "      <td>daww matches this background colour seemingly ...</td>\n",
       "    </tr>\n",
       "    <tr>\n",
       "      <th>2</th>\n",
       "      <td>0.168278</td>\n",
       "      <td>0.004964</td>\n",
       "      <td>0.010698</td>\n",
       "      <td>0.004839</td>\n",
       "      <td>0.001866</td>\n",
       "      <td>0.009920</td>\n",
       "      <td>hey man really not trying edit war just that t...</td>\n",
       "    </tr>\n",
       "    <tr>\n",
       "      <th>3</th>\n",
       "      <td>0.056532</td>\n",
       "      <td>0.002854</td>\n",
       "      <td>0.009954</td>\n",
       "      <td>0.001283</td>\n",
       "      <td>0.001134</td>\n",
       "      <td>0.009656</td>\n",
       "      <td>more can not make any real suggestions improve...</td>\n",
       "    </tr>\n",
       "    <tr>\n",
       "      <th>4</th>\n",
       "      <td>0.022491</td>\n",
       "      <td>0.002081</td>\n",
       "      <td>0.012285</td>\n",
       "      <td>0.004179</td>\n",
       "      <td>0.003558</td>\n",
       "      <td>0.011320</td>\n",
       "      <td>you sir are hero any chance you remember what ...</td>\n",
       "    </tr>\n",
       "  </tbody>\n",
       "</table>\n",
       "</div>"
      ],
      "text/plain": [
       "   Toxicity  Severe_Toxicity  Identity_Attack    Insult  Profanity    Threat  \\\n",
       "0  0.129533         0.005232         0.009843  0.000779   0.000911  0.009409   \n",
       "1  0.022352         0.001590         0.010376  0.001265   0.001273  0.009809   \n",
       "2  0.168278         0.004964         0.010698  0.004839   0.001866  0.009920   \n",
       "3  0.056532         0.002854         0.009954  0.001283   0.001134  0.009656   \n",
       "4  0.022491         0.002081         0.012285  0.004179   0.003558  0.011320   \n",
       "\n",
       "                                    ProcessedComment  \n",
       "0  explanation why the edits made under username ...  \n",
       "1  daww matches this background colour seemingly ...  \n",
       "2  hey man really not trying edit war just that t...  \n",
       "3  more can not make any real suggestions improve...  \n",
       "4  you sir are hero any chance you remember what ...  "
      ]
     },
     "execution_count": 27,
     "metadata": {},
     "output_type": "execute_result"
    }
   ],
   "source": [
    "df_processed.head()"
   ]
  },
  {
   "cell_type": "code",
   "execution_count": 28,
   "metadata": {},
   "outputs": [],
   "source": [
    "cols = df_processed.columns.tolist()\n",
    "ordered_cols = cols[-1:] + cols[:-1]\n",
    "df_processed = df_processed[ordered_cols]"
   ]
  },
  {
   "cell_type": "code",
   "execution_count": 29,
   "metadata": {},
   "outputs": [
    {
     "data": {
      "text/html": [
       "<div>\n",
       "<style scoped>\n",
       "    .dataframe tbody tr th:only-of-type {\n",
       "        vertical-align: middle;\n",
       "    }\n",
       "\n",
       "    .dataframe tbody tr th {\n",
       "        vertical-align: top;\n",
       "    }\n",
       "\n",
       "    .dataframe thead th {\n",
       "        text-align: right;\n",
       "    }\n",
       "</style>\n",
       "<table border=\"1\" class=\"dataframe\">\n",
       "  <thead>\n",
       "    <tr style=\"text-align: right;\">\n",
       "      <th></th>\n",
       "      <th>ProcessedComment</th>\n",
       "      <th>Toxicity</th>\n",
       "      <th>Severe_Toxicity</th>\n",
       "      <th>Identity_Attack</th>\n",
       "      <th>Insult</th>\n",
       "      <th>Profanity</th>\n",
       "      <th>Threat</th>\n",
       "    </tr>\n",
       "  </thead>\n",
       "  <tbody>\n",
       "    <tr>\n",
       "      <th>0</th>\n",
       "      <td>explanation why the edits made under username ...</td>\n",
       "      <td>0.129533</td>\n",
       "      <td>0.005232</td>\n",
       "      <td>0.009843</td>\n",
       "      <td>0.000779</td>\n",
       "      <td>0.000911</td>\n",
       "      <td>0.009409</td>\n",
       "    </tr>\n",
       "    <tr>\n",
       "      <th>1</th>\n",
       "      <td>daww matches this background colour seemingly ...</td>\n",
       "      <td>0.022352</td>\n",
       "      <td>0.001590</td>\n",
       "      <td>0.010376</td>\n",
       "      <td>0.001265</td>\n",
       "      <td>0.001273</td>\n",
       "      <td>0.009809</td>\n",
       "    </tr>\n",
       "    <tr>\n",
       "      <th>2</th>\n",
       "      <td>hey man really not trying edit war just that t...</td>\n",
       "      <td>0.168278</td>\n",
       "      <td>0.004964</td>\n",
       "      <td>0.010698</td>\n",
       "      <td>0.004839</td>\n",
       "      <td>0.001866</td>\n",
       "      <td>0.009920</td>\n",
       "    </tr>\n",
       "    <tr>\n",
       "      <th>3</th>\n",
       "      <td>more can not make any real suggestions improve...</td>\n",
       "      <td>0.056532</td>\n",
       "      <td>0.002854</td>\n",
       "      <td>0.009954</td>\n",
       "      <td>0.001283</td>\n",
       "      <td>0.001134</td>\n",
       "      <td>0.009656</td>\n",
       "    </tr>\n",
       "    <tr>\n",
       "      <th>4</th>\n",
       "      <td>you sir are hero any chance you remember what ...</td>\n",
       "      <td>0.022491</td>\n",
       "      <td>0.002081</td>\n",
       "      <td>0.012285</td>\n",
       "      <td>0.004179</td>\n",
       "      <td>0.003558</td>\n",
       "      <td>0.011320</td>\n",
       "    </tr>\n",
       "  </tbody>\n",
       "</table>\n",
       "</div>"
      ],
      "text/plain": [
       "                                    ProcessedComment  Toxicity  \\\n",
       "0  explanation why the edits made under username ...  0.129533   \n",
       "1  daww matches this background colour seemingly ...  0.022352   \n",
       "2  hey man really not trying edit war just that t...  0.168278   \n",
       "3  more can not make any real suggestions improve...  0.056532   \n",
       "4  you sir are hero any chance you remember what ...  0.022491   \n",
       "\n",
       "   Severe_Toxicity  Identity_Attack    Insult  Profanity    Threat  \n",
       "0         0.005232         0.009843  0.000779   0.000911  0.009409  \n",
       "1         0.001590         0.010376  0.001265   0.001273  0.009809  \n",
       "2         0.004964         0.010698  0.004839   0.001866  0.009920  \n",
       "3         0.002854         0.009954  0.001283   0.001134  0.009656  \n",
       "4         0.002081         0.012285  0.004179   0.003558  0.011320  "
      ]
     },
     "execution_count": 29,
     "metadata": {},
     "output_type": "execute_result"
    }
   ],
   "source": [
    "df_processed.head()"
   ]
  },
  {
   "cell_type": "code",
   "execution_count": 23,
   "metadata": {},
   "outputs": [
    {
     "data": {
      "text/plain": [
       "(132291, 7)"
      ]
     },
     "execution_count": 23,
     "metadata": {},
     "output_type": "execute_result"
    }
   ],
   "source": [
    "df_processed.shape"
   ]
  },
  {
   "cell_type": "code",
   "execution_count": 40,
   "metadata": {},
   "outputs": [
    {
     "data": {
      "image/png": "[encoded data removed]",
      "text/plain": [
       "<Figure size 432x288 with 1 Axes>"
      ]
     },
     "metadata": {
      "needs_background": "light"
     },
     "output_type": "display_data"
    }
   ],
   "source": [
    "plotHist(df_processed.ProcessedComment.str.len(), 50, 'Comments Length After Preprocessing', 'after_preprocess_comments_histogram')"
   ]
  },
  {
   "cell_type": "markdown",
   "metadata": {},
   "source": [
    "As seen from the histogram above, the length most of the comments have is in between 0-300. Additionally, the histogram fits to logarithmic distribution and it is right-skewed. To examine the histogram furher, we can look into percentiles of the histogram to determine the vector dimensions which will be crucial for our deep learning model"
   ]
  },
  {
   "cell_type": "code",
   "execution_count": 39,
   "metadata": {},
   "outputs": [
    {
     "name": "stdout",
     "output_type": "stream",
     "text": [
      "========== For 0-100 ==========\n",
      "0th Percentile Value = 0.0\n",
      "10th Percentile Value = 36.0\n",
      "20th Percentile Value = 62.0\n",
      "30th Percentile Value = 91.0\n",
      "40th Percentile Value = 125.0\n",
      "50th Percentile Value = 167.0\n",
      "60th Percentile Value = 226.0\n",
      "70th Percentile Value = 303.0\n",
      "80th Percentile Value = 439.0\n",
      "90th Percentile Value = 745.0\n",
      "100th Percentile Value = 5000.0\n",
      "\n",
      "\n",
      "========== For 90-100 ==========\n",
      "90th Percentile Value = 745.0\n",
      "91th Percentile Value = 799.0\n",
      "92th Percentile Value = 866.0\n",
      "93th Percentile Value = 932.0\n",
      "94th Percentile Value = 1019.5999999999913\n",
      "95th Percentile Value = 1137.0\n",
      "96th Percentile Value = 1295.0\n",
      "97th Percentile Value = 1505.0\n",
      "98th Percentile Value = 1931.0\n",
      "99th Percentile Value = 2847.0\n",
      "100th Percentile Value = 5000.0\n"
     ]
    }
   ],
   "source": [
    "showPercentiles(df_processed.ProcessedComment.str.len())"
   ]
  },
  {
   "cell_type": "markdown",
   "metadata": {},
   "source": [
    "Almost 95% of the comments have 1000 characters approximately. As a result, the input dimension of the tokenized vectors can be 1000."
   ]
  },
  {
   "cell_type": "markdown",
   "metadata": {},
   "source": [
    "# Model Building"
   ]
  },
  {
   "cell_type": "markdown",
   "metadata": {},
   "source": [
    "Turn dataset into list(list of tokens, scores x6))"
   ]
  },
  {
   "cell_type": "code",
   "execution_count": null,
   "metadata": {},
   "outputs": [],
   "source": [
    "detections = df_train.loc[:,\"Toxicity\": \"Threat\"].__array__()[:500]\n",
    "mapped = np.array([[processed_comments[i], detections[i]] for i in list(range(len(processed_comments)))], dtype=object)"
   ]
  },
  {
   "cell_type": "code",
   "execution_count": null,
   "metadata": {},
   "outputs": [],
   "source": [
    "np.random.shuffle(mapped)"
   ]
  },
  {
   "cell_type": "code",
   "execution_count": null,
   "metadata": {},
   "outputs": [],
   "source": [
    "train_dataset = mapped[: int(mapped.shape[0] * .9) ]\n",
    "test_dataset = mapped[int(mapped.shape[0] * .9) :]"
   ]
  },
  {
   "cell_type": "code",
   "execution_count": null,
   "metadata": {},
   "outputs": [],
   "source": [
    "BUFFER_SIZE = 1000\n",
    "BATCH_SIZE = 32\n",
    "train_dataset = train_dataset.shuffle(BUFFER_SIZE).batch(BATCH_SIZE).prefetch(tf.data.AUTOTUNE)\n",
    "test_dataset = test_dataset.batch(BATCH_SIZE).prefetch(tf.data.AUTOTUNE)"
   ]
  },
  {
   "cell_type": "code",
   "execution_count": null,
   "metadata": {},
   "outputs": [],
   "source": [
    "VOCAB_SIZE = 1000\n",
    "encoder = layers.TextVectorization(max_tokens = VOCAB_SIZE)\n",
    "encoder.adapt(train_dataset.map(lambda text, label: text))"
   ]
  },
  {
   "cell_type": "code",
   "execution_count": null,
   "metadata": {},
   "outputs": [],
   "source": [
    "model = keras.Sequential([\n",
    "\tencoder,\n",
    "\tlayers.Embedding(\n",
    "\t\tinput_dim = len(encoder.get_vocabulary()),\n",
    "\t\toutput_dim = 64,\n",
    "\t\t# Use masking to handle the variable sequence lengths\n",
    "\t\tmask_zero = True\n",
    "\t),\n",
    "\tlayers.Dropout(0.8),\n",
    "\tlayers.Bidirectional(layers.LSTM(64)),\n",
    "\tlayers.Dropout(0.6),\n",
    "\tlayers.Dense(32, activation='relu'),\n",
    "\tlayers.Dropout(0.5), # ?\n",
    "\tlayers.Dense(6)\n",
    "])\n",
    "\n",
    "model.compile(loss = keras.losses.BinaryCrossentropy(from_logits = True),\n",
    "\t\t\t  optimizer = keras.optimizers.adam_v2.Adam(1e-4),\n",
    "\t\t\t  metrics = ['Toxicity', 'Severe_Toxicity', 'Identity_Attack', 'Insult', 'Profanity', 'Threat'])"
   ]
  },
  {
   "cell_type": "code",
   "execution_count": null,
   "metadata": {},
   "outputs": [],
   "source": [
    "history = model.fit(train_dataset,\n",
    "\t\t\t\t\tepochs = 20,\n",
    "\t\t\t\t\tsteps_per_epoch = 50,\n",
    "\t\t\t\t\tvalidation_data = test_dataset,\n",
    "\t\t\t\t\tvalidation_steps = 30)"
   ]
  },
  {
   "cell_type": "code",
   "execution_count": null,
   "metadata": {},
   "outputs": [],
   "source": [
    "test_loss, test_acc = model.evaluate(test_dataset)\n",
    "\n",
    "print('Test Loss:', test_loss)\n",
    "print('Test Accuracy:', test_acc)"
   ]
  }
 ],
 "metadata": {
  "interpreter": {
   "hash": "9c27eb6091674c73af7ac585eb40475ca82f7aaec6bf96c7e19d14c7a47e78dc"
  },
  "kernelspec": {
   "display_name": "Python 3.6.6 ('python-cvcourse')",
   "language": "python",
   "name": "python3"
  },
  "language_info": {
   "codemirror_mode": {
    "name": "ipython",
    "version": 3
   },
   "file_extension": ".py",
   "mimetype": "text/x-python",
   "name": "python",
   "nbconvert_exporter": "python",
   "pygments_lexer": "ipython3",
   "version": "3.6.6"
  },
  "orig_nbformat": 4
 },
 "nbformat": 4,
 "nbformat_minor": 2
}
