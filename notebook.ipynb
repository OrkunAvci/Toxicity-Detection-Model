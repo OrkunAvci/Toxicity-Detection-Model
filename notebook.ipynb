{
 "cells": [
  {
   "cell_type": "markdown",
   "metadata": {},
   "source": [
    "# Toxicity Detection Model\n",
    "\n",
    "Get live data with `get_comments.py` and transform Kaggle data set with `transform_train.py`\n",
    "\n",
    "Get libraries by running `pip install -r requirements.txt`\n",
    "\n",
    "This is a deep learning model."
   ]
  },
  {
   "cell_type": "code",
   "execution_count": 2,
   "metadata": {},
   "outputs": [],
   "source": [
    "import tensorflow as tf\n",
    "import keras\n",
    "from keras import layers\n",
    "import numpy as np\n",
    "import pandas as pd\n",
    "\n",
    "\n",
    "import matplotlib.pyplot as plt\n",
    "import seaborn as sns\n",
    "\n",
    "from wordcloud import STOPWORDS, wordcloud\n",
    "import re\n",
    "from fuzzywuzzy import fuzz, process\n",
    "from nltk.corpus import stopwords\n",
    "\n",
    "from tqdm import tqdm"
   ]
  },
  {
   "cell_type": "markdown",
   "metadata": {},
   "source": [
    "# Load Dataset"
   ]
  },
  {
   "cell_type": "code",
   "execution_count": 3,
   "metadata": {},
   "outputs": [],
   "source": [
    "df_train = pd.read_csv('./data/new_train.csv')"
   ]
  },
  {
   "cell_type": "markdown",
   "metadata": {},
   "source": [
    "### Data Cleansing\n",
    "<ul>\n",
    "    <li>Removal of special characters</li>\n",
    "    <li>Expanding contractions</li>\n",
    "    <li>Lowering text</li>\n",
    "    <li>Replacing Obfuscated Profane Words</li>\n",
    "</ul>"
   ]
  },
  {
   "cell_type": "code",
   "execution_count": null,
   "metadata": {},
   "outputs": [],
   "source": [
    "def decontracted(phrase):\n",
    "    '''\n",
    "    This function decontracts words like won't to will not\n",
    "    '''\n",
    "\n",
    "    # specific\n",
    "    phrase = re.sub(r\"won't\", \"will not\", phrase)\n",
    "    phrase = re.sub(r\"can\\'t\", \"can not\", phrase)\n",
    "\n",
    "    # general\n",
    "    phrase = re.sub(r\"n\\'t\", \" not\", phrase)\n",
    "    phrase = re.sub(r\"\\'re\", \" are\", phrase)\n",
    "    phrase = re.sub(r\"\\'s\", \" is\", phrase)\n",
    "    phrase = re.sub(r\"\\'d\", \" would\", phrase)\n",
    "    phrase = re.sub(r\"\\'ll\", \" will\", phrase)\n",
    "    phrase = re.sub(r\"\\'t\", \" not\", phrase)\n",
    "    phrase = re.sub(r\"\\'ve\", \" have\", phrase)\n",
    "    phrase = re.sub(r\"\\'m\", \" am\", phrase)\n",
    "    \n",
    "    return phrase"
   ]
  },
  {
   "cell_type": "code",
   "execution_count": null,
   "metadata": {},
   "outputs": [],
   "source": [
    "def removeNonPrintable(com):\n",
    "    com = com.replace('\\\\r', ' ')\n",
    "    com = com.replace('\\\\n', ' ')\n",
    "    com = com.replace('\\\\t', ' ')\n",
    "    com = com.replace('\\\\\"', ' ')\n",
    "    return com"
   ]
  },
  {
   "cell_type": "code",
   "execution_count": null,
   "metadata": {},
   "outputs": [],
   "source": [
    "def getUniqueWords(comments):\n",
    "    unique_words = set()\n",
    "    for comment in tqdm(comments):\n",
    "        words = comment.split(\" \")\n",
    "        for word in words:\n",
    "            if len(word) > 2:\n",
    "                unique_words.add(word)\n",
    "    \n",
    "    return unique_words"
   ]
  },
  {
   "cell_type": "code",
   "execution_count": null,
   "metadata": {},
   "outputs": [],
   "source": [
    "def getProfaneWords():\n",
    "    profane_words = []\n",
    "    with open(\"./data/bad-words.txt\",\"r\") as f:\n",
    "        for word in f:\n",
    "            word = word.replace(\"\\n\",\"\")\n",
    "            profane_words.append(word)\n",
    "    return profane_words\n",
    "    "
   ]
  },
  {
   "cell_type": "code",
   "execution_count": null,
   "metadata": {},
   "outputs": [],
   "source": [
    "def createMappingDict(profane_words, unique_words):\n",
    "    # mapping dictionary\n",
    "    mapping_dict = dict()\n",
    "    \n",
    "    # looping through each profane word\n",
    "    for profane in tqdm(profane_words):\n",
    "        mapped_words = set()\n",
    "        \n",
    "        # looping through each word in vocab\n",
    "        for word in unique_words:\n",
    "            # mapping only if ratio > 80\n",
    "            try:\n",
    "                if fuzz.ratio(profane,word) > 80:\n",
    "                    mapped_words.add(word)\n",
    "            except:\n",
    "                pass\n",
    "                \n",
    "        # list of all vocab words for given profane word\n",
    "        mapping_dict[profane] = mapped_words\n",
    "    \n",
    "    return mapping_dict"
   ]
  },
  {
   "cell_type": "code",
   "execution_count": null,
   "metadata": {},
   "outputs": [],
   "source": [
    "def replaceWords(corpus, mapping_dict):\n",
    "    processed_corpus = []\n",
    "\n",
    "    for document in tqdm(corpus):\n",
    "\n",
    "        # words = document.split()\n",
    "\n",
    "        for mapped_word, v in mapping_dict.items():\n",
    "            \n",
    "            document = re.sub(r'\\b{word}\\b'.format(word = v), mapped_word, document)\n",
    "\n",
    "            # for target_word in v:\n",
    "\n",
    "            #     for i, word in enumerate(words):\n",
    "            #         if word == target_word:\n",
    "            #             words[i] = mapped_word\n",
    "\n",
    "        # document = \" \".join(words)\n",
    "        document = document.strip()\n",
    "\n",
    "        processed_corpus.append(document)\n",
    "\n",
    "    return processed_corpus\n",
    "\n"
   ]
  },
  {
   "cell_type": "code",
   "execution_count": null,
   "metadata": {},
   "outputs": [],
   "source": [
    "def final_processing(corpus):\n",
    "    '''\n",
    "    Function applies final processing steps post profane mapping such as removing special characters,\n",
    "    punctuations etc.\n",
    "    '''\n",
    "    processed_comments = []\n",
    "    stopwords_list = stopwords.words(\"english\")\n",
    "    print('final_processing')\n",
    "\n",
    "    emoj = re.compile(pattern = \"[\"\n",
    "        u\"\\U0001F600-\\U0001F64F\"  # emoticons\n",
    "        u\"\\U0001F300-\\U0001F5FF\"  # symbols & pictographs\n",
    "        u\"\\U0001F680-\\U0001F6FF\"  # transport & map symbols\n",
    "        u\"\\U0001F1E0-\\U0001F1FF\"  # flags (iOS)\n",
    "                           \"]+\", flags = re.UNICODE)\n",
    "\n",
    "\n",
    "    # looping through each comment in corpus\n",
    "    for comment in tqdm(corpus):\n",
    "        try:\n",
    "          processed_words = []\n",
    "          comment = re.sub(emoj, r'', comment)\n",
    "          comment = re.sub(r'http\\S+', '', comment)\n",
    "          # comment = re.sub(\"\\B\\#\\w+\", ' ', comment)\n",
    "          # comment = re.sub(\"\\B\\@\\w+\", '', comment)\n",
    "          comment = re.sub(r'(\\w*#\\w+|\\w+#\\w*)','', comment)\n",
    "          comment = re.sub(r'(\\w*@\\w+|\\w+#\\w*)','',  comment)\n",
    "          comment = re.sub(r'[^A-Za-z\\s]+',\"\",  comment) # retain only letters\n",
    "          for word in comment.split():\n",
    "              if len(word) >= 3:\n",
    "                  processed_words.append(word)\n",
    "              \n",
    "          comment = \" \".join([e for e in processed_words if e.lower() is in stopwords_list])\n",
    "          \n",
    "          processed_comments.append(comment.strip())\n",
    "        except Exception as e:\n",
    "          print(corpus)\n",
    "          print(e)\n",
    "          pass\n",
    "    \n",
    "    return processed_comments"
   ]
  },
  {
   "cell_type": "code",
   "execution_count": null,
   "metadata": {},
   "outputs": [],
   "source": [
    "def cleanComments(comments):\n",
    "    processed_comments = []\n",
    "    for comment in comments:\n",
    "        comment = decontracted(comment)\n",
    "        comment = removeNonPrintable(comment)\n",
    "\n",
    "        # Lower comment\n",
    "        processed_comments.append(comment.lower().strip())\n",
    "      \n",
    "    profane_words = getProfaneWords()\n",
    "    #unique_words = getUniqueWords(processed_comments)\n",
    "    #profane_dict = createMappingDict(profane_words, unique_words)\n",
    "    #processed_comments = replaceWords(processed_comments, profane_dict)\n",
    "    final_comments = final_processing(processed_comments)\n",
    "    return final_comments"
   ]
  },
  {
   "cell_type": "code",
   "execution_count": null,
   "metadata": {},
   "outputs": [],
   "source": [
    "def corrHeatmap(df, fileName = None):\n",
    "    classes = df.columns[1:]\n",
    "    data = df.copy()\n",
    "    data = data[classes]\n",
    "    corr = data.corr()\n",
    "\n",
    "    plt.figure(figsize=(8,6))\n",
    "    sns.heatmap(corr,annot=True,vmin=1,vmax=0,fmt='.2g',cmap='rocket')\n",
    "    plt.title(\"Correlation Matrix: Labels of Comments\")\n",
    "    if fileName:\n",
    "        plt.savefig(fileName + '.png')\n",
    "    plt.show()"
   ]
  },
  {
   "cell_type": "code",
<<<<<<< Updated upstream
   "execution_count": null,
=======
   "execution_count": 43,
>>>>>>> Stashed changes
   "metadata": {},
   "outputs": [],
   "source": [
    "def showPercentiles(data, name):\n",
    "    percentiles_list = []\n",
    "    percentile_names = []\n",
    "    print(\"========== For 0-100 ==========\")\n",
    "    for i in range(10):\n",
    "        print(f'{i*10}th Percentile Value = {np.percentile(data, i*10)}')\n",
    "        percentiles_list.append(np.percentile(data, i*10))\n",
    "        percentile_names.append(i*10)\n",
    "\n",
    "    print(\"\\n\")\n",
    "    print(\"========== For 90-100 ==========\")\n",
    "    for i in range(1,11):\n",
    "        print(f'{90+i}th Percentile Value = {np.percentile(data, 90 + i)}')\n",
    "        percentiles_list.append(np.percentile(data, 90+i))\n",
    "        percentile_names.append(90+i)\n",
    "\n",
    "    return pd.DataFrame({'Percentile' : percentile_names, name : percentiles_list})"
   ]
  },
  {
   "cell_type": "code",
   "execution_count": null,
   "metadata": {},
   "outputs": [],
   "source": [
    "def plotHist(data, bin_size, title, fileName = None, columns = None):\n",
    "    if columns is not None:\n",
    "        fig, axis = plt.subplots(len(columns)-1, 1, figsize = (12,30))\n",
    "        for i, col in enumerate(columns[1:]):\n",
    "            sns.histplot(data=data[col],bins=bin_size,palette=\"rocket\",ax = axis[i])\n",
    "\n",
    "        fig.tight_layout()\n",
    "        fig.subplots_adjust(top = 0.95)\n",
    "        fig.suptitle(title, size = 18)\n",
    "    else:\n",
    "        sns.histplot(data=data,bins=bin_size,palette=\"rocket\")\n",
    "        plt.title(title)\n",
    "    \n",
    "\n",
    "    if fileName:\n",
    "        plt.savefig(fileName + '.png')\n",
    "    \n",
    "    plt.show()"
   ]
  },
  {
   "cell_type": "code",
   "execution_count": null,
   "metadata": {},
   "outputs": [],
   "source": [
    "df_train.shape"
   ]
  },
  {
   "cell_type": "code",
   "execution_count": null,
   "metadata": {},
   "outputs": [],
   "source": [
    "df_train.head()"
   ]
  },
  {
   "cell_type": "code",
   "execution_count": null,
   "metadata": {},
   "outputs": [],
   "source": [
    "plotHist(df_train, 30, 'Histogram of the Labels', 'categories_histogram', df_train.columns)"
   ]
  },
  {
   "cell_type": "code",
   "execution_count": null,
   "metadata": {},
   "outputs": [],
   "source": [
    "plotHist(df_train.Comment.str.len(), 50, 'Length of the Comments', 'comments_length_before_preprocess')"
   ]
  },
  {
   "cell_type": "code",
   "execution_count": null,
   "metadata": {},
   "outputs": [],
   "source": [
    "print(f\"============== {'Toxicity'} ==============\")\n",
    "df_percentile = showPercentiles(df_train['Toxicity'], 'Toxicity')\n",
    "print(\"\\n\")\n",
    "for cat in df_train.columns[2:]:\n",
    "    print(f\"============== {cat} ==============\")\n",
    "    pd.concat((df_percentile, showPercentiles(df_train[cat], cat)), axis = 1)\n",
    "    print(\"\\n\")"
   ]
  },
  {
   "cell_type": "code",
   "execution_count": null,
   "metadata": {},
   "outputs": [],
   "source": [
    "showPercentiles(df_train.Comment.str.len())"
   ]
  },
  {
   "cell_type": "code",
   "execution_count": null,
   "metadata": {},
   "outputs": [],
   "source": [
    "corrHeatmap(df_train, 'corr_matrix_labels')"
   ]
  },
  {
   "cell_type": "markdown",
   "metadata": {},
   "source": [
    "There is a strong positive relationship between Toxicity-Severe Toxicity, Identity Attack-Insult and Toxicity-Profanity respectively"
   ]
  },
  {
   "cell_type": "code",
   "execution_count": null,
   "metadata": {},
   "outputs": [],
   "source": [
    "processed_comments = cleanComments(df_train.Comment.values)"
   ]
  },
  {
   "cell_type": "code",
   "execution_count": null,
   "metadata": {},
   "outputs": [],
   "source": [
    "df_processed = df_train[df_train.columns[1:]].copy()\n",
    "df_processed['ProcessedComment'] = processed_comments"
   ]
  },
  {
   "cell_type": "code",
   "execution_count": 5,
   "metadata": {},
   "outputs": [],
   "source": [
    "df_processed = pd.read_csv('./data/new_train_10k.csv')\n",
    "df_processed.drop(['Unnamed: 0'], axis = 1, inplace = True)"
   ]
  },
  {
   "cell_type": "code",
   "execution_count": null,
   "metadata": {},
   "outputs": [],
   "source": [
    "df_processed.head()"
   ]
  },
  {
   "cell_type": "code",
   "execution_count": 6,
   "metadata": {},
   "outputs": [],
   "source": [
    "cols = df_processed.columns.tolist()\n",
    "ordered_cols = cols[-1:] + cols[:-1]\n",
    "df_processed = df_processed[ordered_cols]"
   ]
  },
  {
   "cell_type": "code",
   "execution_count": null,
   "metadata": {},
   "outputs": [],
   "source": [
    "df_processed.head()"
   ]
  },
  {
   "cell_type": "code",
   "execution_count": null,
   "metadata": {},
   "outputs": [],
   "source": [
    "df_processed.shape"
   ]
  },
  {
   "cell_type": "code",
   "execution_count": null,
   "metadata": {},
   "outputs": [],
   "source": [
    "plotHist(df_processed.ProcessedComment.str.len(), 50, 'Comments Length After Preprocessing', 'after_preprocess_comments_histogram')"
   ]
  },
  {
   "cell_type": "markdown",
   "metadata": {},
   "source": [
    "As seen from the histogram above, the length most of the comments have is in between 0-300. Additionally, the histogram fits to logarithmic distribution and it is right-skewed. To examine the histogram furher, we can look into percentiles of the histogram to determine the vector dimensions which will be crucial for our deep learning model"
   ]
  },
  {
   "cell_type": "code",
<<<<<<< Updated upstream
   "execution_count": null,
   "metadata": {},
   "outputs": [],
=======
   "execution_count": 44,
   "metadata": {},
   "outputs": [
    {
     "name": "stdout",
     "output_type": "stream",
     "text": [
      "========== For 0-100 ==========\n",
      "0th Percentile Value = 0.0\n",
      "10th Percentile Value = 36.0\n",
      "20th Percentile Value = 62.0\n",
      "30th Percentile Value = 91.0\n",
      "40th Percentile Value = 125.0\n",
      "50th Percentile Value = 167.0\n",
      "60th Percentile Value = 226.0\n",
      "70th Percentile Value = 303.0\n",
      "80th Percentile Value = 439.0\n",
      "90th Percentile Value = 745.0\n",
      "\n",
      "\n",
      "========== For 90-100 ==========\n",
      "91th Percentile Value = 799.0\n",
      "92th Percentile Value = 866.0\n",
      "93th Percentile Value = 932.0\n",
      "94th Percentile Value = 1019.5999999999913\n",
      "95th Percentile Value = 1137.0\n",
      "96th Percentile Value = 1295.0\n",
      "97th Percentile Value = 1505.0\n",
      "98th Percentile Value = 1931.0\n",
      "99th Percentile Value = 2847.0\n",
      "100th Percentile Value = 5000.0\n"
     ]
    }
   ],
>>>>>>> Stashed changes
   "source": [
    "df_len = showPercentiles(df_processed.ProcessedComment.str.len(), 'Length of Comment')"
   ]
  },
  {
   "cell_type": "markdown",
   "metadata": {},
   "source": [
    "Almost 95% of the comments have 1000 characters approximately. As a result, the input dimension of the tokenized vectors can be 1000."
   ]
  },
  {
   "cell_type": "code",
   "execution_count": 47,
   "metadata": {},
   "outputs": [],
   "source": [
    "df_len.to_csv('comments_length_percentiles.csv', index = False)"
   ]
  },
  {
   "cell_type": "markdown",
   "metadata": {},
   "source": [
    "# Model Building"
   ]
  },
  {
   "cell_type": "markdown",
   "metadata": {},
   "source": [
    "Turn dataset into list(list of tokens, scores x6))"
   ]
  },
  {
   "cell_type": "code",
   "execution_count": 7,
   "metadata": {},
   "outputs": [],
   "source": [
    "VOCAB_SIZE = 1000\n",
    "tokenizer = keras.preprocessing.text.Tokenizer(num_words=VOCAB_SIZE)\n",
    "# tokenizer = layers.TextVectorization(max_tokens=VOCAB_SIZE, standardize=None, split=\"whitespace\")"
   ]
  },
  {
   "cell_type": "code",
   "execution_count": 8,
   "metadata": {},
   "outputs": [],
   "source": [
    "processed_comments = df_processed.dropna().loc[:,\"ProcessedComment\"].convert_dtypes(infer_objects=True).array\n",
    "detections = df_processed.dropna().loc[:,\"Toxicity\": \"Threat\"].convert_dtypes(infer_objects=True).__array__()"
   ]
  },
  {
   "cell_type": "code",
   "execution_count": 9,
   "metadata": {},
   "outputs": [],
   "source": [
    "tokenizer.fit_on_texts(processed_comments)\n",
    "tokenized_comments = tokenizer.texts_to_sequences(processed_comments)"
   ]
  },
  {
   "cell_type": "code",
   "execution_count": 11,
   "metadata": {},
   "outputs": [],
   "source": [
    "for tokens in tokenized_comments:\n",
    "\ttokens.extend([0] * (VOCAB_SIZE - len(tokens)))"
   ]
  },
  {
   "cell_type": "code",
   "execution_count": 12,
   "metadata": {},
   "outputs": [],
   "source": [
    "train_input = np.asarray([np.array(input[:VOCAB_SIZE], dtype=int) for input in tokenized_comments[: int(len(tokenized_comments) * .9) ]])\n",
    "train_output = np.asarray(detections[: int(len(tokenized_comments) * .9) ], dtype=np.float32)\n",
    "\n",
    "test_input = np.asarray([np.array(input[:VOCAB_SIZE], dtype=int) for input in tokenized_comments[int(len(tokenized_comments) * .9) :]])\n",
    "test_output = np.asarray(detections[int(len(tokenized_comments) * .9) :], dtype=np.float32)"
   ]
  },
  {
   "cell_type": "code",
   "execution_count": 24,
   "metadata": {},
   "outputs": [],
   "source": [
    "model = keras.Sequential()\n",
    "\n",
    "model.add(layers.Dense(64, input_dim=VOCAB_SIZE, kernel_initializer='he_uniform', activation='relu'))\n",
    "model.add(layers.Dense(32, kernel_initializer='he_uniform'))\n",
    "model.add(layers.Dense(6))\n",
    "\n",
    "model.compile(loss = keras.losses.BinaryCrossentropy(from_logits = True),\n",
    "\t\t\t  optimizer = keras.optimizers.adam_v2.Adam(1e-4))"
   ]
  },
  {
   "cell_type": "code",
   "execution_count": 25,
   "metadata": {},
   "outputs": [
    {
     "name": "stdout",
     "output_type": "stream",
     "text": [
      "Epoch 1/100\n",
      "100/100 [==============================] - 1s 5ms/step - loss: 11.6019 - val_loss: 5.3594\n",
      "Epoch 2/100\n",
      "100/100 [==============================] - 0s 3ms/step - loss: 4.2454 - val_loss: 3.8807\n",
      "Epoch 3/100\n",
      "100/100 [==============================] - 0s 3ms/step - loss: 3.3357 - val_loss: 3.3207\n",
      "Epoch 4/100\n",
      "100/100 [==============================] - 0s 3ms/step - loss: 2.8724 - val_loss: 2.9700\n",
      "Epoch 5/100\n",
      "100/100 [==============================] - 0s 3ms/step - loss: 2.5256 - val_loss: 2.7162\n",
      "Epoch 6/100\n",
      "100/100 [==============================] - 0s 3ms/step - loss: 2.2676 - val_loss: 2.5114\n",
      "Epoch 7/100\n",
      "100/100 [==============================] - 0s 3ms/step - loss: 2.0496 - val_loss: 2.3545\n",
      "Epoch 8/100\n",
      "100/100 [==============================] - 0s 3ms/step - loss: 1.8702 - val_loss: 2.1941\n",
      "Epoch 9/100\n",
      "100/100 [==============================] - 0s 3ms/step - loss: 1.7075 - val_loss: 2.0720\n",
      "Epoch 10/100\n",
      "100/100 [==============================] - 0s 3ms/step - loss: 1.5740 - val_loss: 1.9470\n",
      "Epoch 11/100\n",
      "100/100 [==============================] - 0s 3ms/step - loss: 1.4593 - val_loss: 1.8648\n",
      "Epoch 12/100\n",
      "100/100 [==============================] - 0s 3ms/step - loss: 1.3569 - val_loss: 1.7481\n",
      "Epoch 13/100\n",
      "100/100 [==============================] - 0s 3ms/step - loss: 1.2603 - val_loss: 1.6694\n",
      "Epoch 14/100\n",
      "100/100 [==============================] - 0s 3ms/step - loss: 1.1760 - val_loss: 1.5990\n",
      "Epoch 15/100\n",
      "100/100 [==============================] - 0s 3ms/step - loss: 1.1005 - val_loss: 1.5148\n",
      "Epoch 16/100\n",
      "100/100 [==============================] - 0s 3ms/step - loss: 1.0336 - val_loss: 1.4509\n",
      "Epoch 17/100\n",
      "100/100 [==============================] - 0s 3ms/step - loss: 0.9729 - val_loss: 1.4006\n",
      "Epoch 18/100\n",
      "100/100 [==============================] - 0s 3ms/step - loss: 0.9175 - val_loss: 1.3177\n",
      "Epoch 19/100\n",
      "100/100 [==============================] - 0s 3ms/step - loss: 0.8655 - val_loss: 1.2793\n",
      "Epoch 20/100\n",
      "100/100 [==============================] - 0s 3ms/step - loss: 0.8178 - val_loss: 1.2122\n",
      "Epoch 21/100\n",
      "100/100 [==============================] - 0s 3ms/step - loss: 0.7780 - val_loss: 1.1734\n",
      "Epoch 22/100\n",
      "100/100 [==============================] - 0s 3ms/step - loss: 0.7366 - val_loss: 1.1323\n",
      "Epoch 23/100\n",
      "100/100 [==============================] - 0s 3ms/step - loss: 0.7013 - val_loss: 1.1003\n",
      "Epoch 24/100\n",
      "100/100 [==============================] - 0s 3ms/step - loss: 0.6670 - val_loss: 1.0487\n",
      "Epoch 25/100\n",
      "100/100 [==============================] - 0s 3ms/step - loss: 0.6369 - val_loss: 0.9965\n",
      "Epoch 26/100\n",
      "100/100 [==============================] - 0s 3ms/step - loss: 0.6074 - val_loss: 0.9723\n",
      "Epoch 27/100\n",
      "100/100 [==============================] - 0s 3ms/step - loss: 0.5808 - val_loss: 0.9291\n",
      "Epoch 28/100\n",
      "100/100 [==============================] - 0s 3ms/step - loss: 0.5580 - val_loss: 0.8966\n",
      "Epoch 29/100\n",
      "100/100 [==============================] - 0s 3ms/step - loss: 0.5310 - val_loss: 0.8732\n",
      "Epoch 30/100\n",
      "100/100 [==============================] - 0s 3ms/step - loss: 0.5108 - val_loss: 0.8441\n",
      "Epoch 31/100\n",
      "100/100 [==============================] - 0s 3ms/step - loss: 0.4885 - val_loss: 0.8069\n",
      "Epoch 32/100\n",
      "100/100 [==============================] - 0s 3ms/step - loss: 0.4706 - val_loss: 0.7976\n",
      "Epoch 33/100\n",
      "100/100 [==============================] - 0s 3ms/step - loss: 0.4526 - val_loss: 0.7832\n",
      "Epoch 34/100\n",
      "100/100 [==============================] - 0s 3ms/step - loss: 0.4363 - val_loss: 0.7579\n",
      "Epoch 35/100\n",
      "100/100 [==============================] - 0s 3ms/step - loss: 0.4208 - val_loss: 0.7244\n",
      "Epoch 36/100\n",
      "100/100 [==============================] - 0s 3ms/step - loss: 0.4067 - val_loss: 0.7009\n",
      "Epoch 37/100\n",
      "100/100 [==============================] - 0s 3ms/step - loss: 0.3946 - val_loss: 0.6819\n",
      "Epoch 38/100\n",
      "100/100 [==============================] - 0s 3ms/step - loss: 0.3824 - val_loss: 0.6635\n",
      "Epoch 39/100\n",
      "100/100 [==============================] - 0s 3ms/step - loss: 0.3716 - val_loss: 0.6514\n",
      "Epoch 40/100\n",
      "100/100 [==============================] - 0s 3ms/step - loss: 0.3612 - val_loss: 0.6387\n",
      "Epoch 41/100\n",
      "100/100 [==============================] - 0s 3ms/step - loss: 0.3525 - val_loss: 0.6181\n",
      "Epoch 42/100\n",
      "100/100 [==============================] - 0s 3ms/step - loss: 0.3431 - val_loss: 0.6106\n",
      "Epoch 43/100\n",
      "100/100 [==============================] - 0s 3ms/step - loss: 0.3337 - val_loss: 0.5919\n",
      "Epoch 44/100\n",
      "100/100 [==============================] - 0s 3ms/step - loss: 0.3270 - val_loss: 0.5862\n",
      "Epoch 45/100\n",
      "100/100 [==============================] - 0s 3ms/step - loss: 0.3207 - val_loss: 0.5704\n",
      "Epoch 46/100\n",
      "100/100 [==============================] - 0s 3ms/step - loss: 0.3119 - val_loss: 0.5629\n",
      "Epoch 47/100\n",
      "100/100 [==============================] - 0s 3ms/step - loss: 0.3062 - val_loss: 0.5542\n",
      "Epoch 48/100\n",
      "100/100 [==============================] - 0s 4ms/step - loss: 0.3002 - val_loss: 0.5282\n",
      "Epoch 49/100\n",
      "100/100 [==============================] - 0s 3ms/step - loss: 0.2969 - val_loss: 0.5196\n",
      "Epoch 50/100\n",
      "100/100 [==============================] - 0s 3ms/step - loss: 0.2905 - val_loss: 0.5120\n",
      "Epoch 51/100\n",
      "100/100 [==============================] - 0s 3ms/step - loss: 0.2839 - val_loss: 0.5002\n",
      "Epoch 52/100\n",
      "100/100 [==============================] - 0s 3ms/step - loss: 0.2796 - val_loss: 0.4986\n",
      "Epoch 53/100\n",
      "100/100 [==============================] - 0s 3ms/step - loss: 0.2742 - val_loss: 0.4753\n",
      "Epoch 54/100\n",
      "100/100 [==============================] - 0s 3ms/step - loss: 0.2703 - val_loss: 0.4744\n",
      "Epoch 55/100\n",
      "100/100 [==============================] - 0s 3ms/step - loss: 0.2659 - val_loss: 0.4633\n",
      "Epoch 56/100\n",
      "100/100 [==============================] - 0s 3ms/step - loss: 0.2620 - val_loss: 0.4665\n",
      "Epoch 57/100\n",
      "100/100 [==============================] - 0s 3ms/step - loss: 0.2579 - val_loss: 0.4582\n",
      "Epoch 58/100\n",
      "100/100 [==============================] - 0s 3ms/step - loss: 0.2539 - val_loss: 0.4427\n",
      "Epoch 59/100\n",
      "100/100 [==============================] - 0s 3ms/step - loss: 0.2516 - val_loss: 0.4358\n",
      "Epoch 60/100\n",
      "100/100 [==============================] - 0s 3ms/step - loss: 0.2480 - val_loss: 0.4339\n",
      "Epoch 61/100\n",
      "100/100 [==============================] - 0s 3ms/step - loss: 0.2446 - val_loss: 0.4242\n",
      "Epoch 62/100\n",
      "100/100 [==============================] - 0s 3ms/step - loss: 0.2421 - val_loss: 0.4144\n",
      "Epoch 63/100\n",
      "100/100 [==============================] - 0s 3ms/step - loss: 0.2392 - val_loss: 0.4098\n",
      "Epoch 64/100\n",
      "100/100 [==============================] - 0s 3ms/step - loss: 0.2365 - val_loss: 0.4090\n",
      "Epoch 65/100\n",
      "100/100 [==============================] - 0s 3ms/step - loss: 0.2337 - val_loss: 0.3994\n",
      "Epoch 66/100\n",
      "100/100 [==============================] - 0s 3ms/step - loss: 0.2323 - val_loss: 0.3959\n",
      "Epoch 67/100\n",
      "100/100 [==============================] - 0s 3ms/step - loss: 0.2294 - val_loss: 0.3911\n",
      "Epoch 68/100\n",
      "100/100 [==============================] - 0s 3ms/step - loss: 0.2280 - val_loss: 0.3795\n",
      "Epoch 69/100\n",
      "100/100 [==============================] - 0s 3ms/step - loss: 0.2252 - val_loss: 0.3794\n",
      "Epoch 70/100\n",
      "100/100 [==============================] - 0s 3ms/step - loss: 0.2230 - val_loss: 0.3708\n",
      "Epoch 71/100\n",
      "100/100 [==============================] - 0s 3ms/step - loss: 0.2219 - val_loss: 0.3724\n",
      "Epoch 72/100\n",
      "100/100 [==============================] - 0s 3ms/step - loss: 0.2196 - val_loss: 0.3650\n",
      "Epoch 73/100\n",
      "100/100 [==============================] - 0s 3ms/step - loss: 0.2183 - val_loss: 0.3491\n",
      "Epoch 74/100\n",
      "100/100 [==============================] - 0s 3ms/step - loss: 0.2169 - val_loss: 0.3516\n",
      "Epoch 75/100\n",
      "100/100 [==============================] - 0s 3ms/step - loss: 0.2161 - val_loss: 0.3393\n",
      "Epoch 76/100\n",
      "100/100 [==============================] - 0s 3ms/step - loss: 0.2162 - val_loss: 0.3421\n",
      "Epoch 77/100\n",
      "100/100 [==============================] - 0s 3ms/step - loss: 0.2142 - val_loss: 0.3389\n",
      "Epoch 78/100\n",
      "100/100 [==============================] - 0s 3ms/step - loss: 0.2122 - val_loss: 0.3342\n",
      "Epoch 79/100\n",
      "100/100 [==============================] - 0s 3ms/step - loss: 0.2105 - val_loss: 0.3330\n",
      "Epoch 80/100\n",
      "100/100 [==============================] - 0s 3ms/step - loss: 0.2090 - val_loss: 0.3297\n",
      "Epoch 81/100\n",
      "100/100 [==============================] - 0s 3ms/step - loss: 0.2078 - val_loss: 0.3278\n",
      "Epoch 82/100\n",
      "100/100 [==============================] - 0s 4ms/step - loss: 0.2064 - val_loss: 0.3250\n",
      "Epoch 83/100\n",
      "100/100 [==============================] - 0s 3ms/step - loss: 0.2056 - val_loss: 0.3200\n",
      "Epoch 84/100\n",
      "100/100 [==============================] - 0s 3ms/step - loss: 0.2050 - val_loss: 0.3179\n",
      "Epoch 85/100\n",
      "100/100 [==============================] - 0s 3ms/step - loss: 0.2043 - val_loss: 0.3149\n",
      "Epoch 86/100\n",
      "100/100 [==============================] - 0s 3ms/step - loss: 0.2032 - val_loss: 0.3192\n",
      "Epoch 87/100\n",
      "100/100 [==============================] - 0s 3ms/step - loss: 0.2021 - val_loss: 0.3158\n",
      "Epoch 88/100\n",
      "100/100 [==============================] - 0s 3ms/step - loss: 0.2014 - val_loss: 0.3161\n",
      "Epoch 89/100\n",
      "100/100 [==============================] - 0s 3ms/step - loss: 0.2011 - val_loss: 0.3080\n",
      "Epoch 90/100\n",
      "100/100 [==============================] - 0s 3ms/step - loss: 0.2004 - val_loss: 0.2939\n",
      "Epoch 91/100\n",
      "100/100 [==============================] - 0s 3ms/step - loss: 0.2000 - val_loss: 0.3048\n",
      "Epoch 92/100\n",
      "100/100 [==============================] - 0s 3ms/step - loss: 0.1990 - val_loss: 0.3043\n",
      "Epoch 93/100\n",
      "100/100 [==============================] - 0s 3ms/step - loss: 0.1982 - val_loss: 0.2912\n",
      "Epoch 94/100\n",
      "100/100 [==============================] - 0s 3ms/step - loss: 0.1979 - val_loss: 0.2854\n",
      "Epoch 95/100\n",
      "100/100 [==============================] - 0s 3ms/step - loss: 0.1972 - val_loss: 0.2964\n",
      "Epoch 96/100\n",
      "100/100 [==============================] - 0s 3ms/step - loss: 0.1962 - val_loss: 0.2895\n",
      "Epoch 97/100\n",
      "100/100 [==============================] - 0s 3ms/step - loss: 0.1954 - val_loss: 0.2874\n",
      "Epoch 98/100\n",
      "100/100 [==============================] - 0s 3ms/step - loss: 0.1951 - val_loss: 0.2849\n",
      "Epoch 99/100\n",
      "100/100 [==============================] - 0s 3ms/step - loss: 0.1955 - val_loss: 0.2879\n",
      "Epoch 100/100\n",
      "100/100 [==============================] - 0s 3ms/step - loss: 0.1949 - val_loss: 0.2847\n"
     ]
    }
   ],
   "source": [
    "history = model.fit(x=train_input,\n",
    "\t\t\t\t\ty=train_output,\n",
    "\t\t\t\t\tepochs = 100,\n",
    "\t\t\t\t\tsteps_per_epoch = 100,\n",
    "\t\t\t\t\tverbose=1,\n",
    "\t\t\t\t\tvalidation_data=(test_input, test_output))"
   ]
  },
  {
   "cell_type": "code",
   "execution_count": 27,
   "metadata": {},
   "outputs": [
    {
     "name": "stdout",
     "output_type": "stream",
     "text": [
      "INFO:tensorflow:Assets written to: ./model\\assets\n"
     ]
    }
   ],
   "source": [
    "# model.save(\"./model\")"
   ]
  },
  {
   "cell_type": "code",
   "execution_count": 26,
   "metadata": {},
   "outputs": [
    {
     "name": "stdout",
     "output_type": "stream",
     "text": [
      "32/32 [==============================] - 0s 2ms/step - loss: 0.2847\n"
     ]
    },
    {
     "ename": "TypeError",
     "evalue": "cannot unpack non-iterable float object",
     "output_type": "error",
     "traceback": [
      "\u001b[1;31m---------------------------------------------------------------------------\u001b[0m",
      "\u001b[1;31mTypeError\u001b[0m                                 Traceback (most recent call last)",
      "\u001b[1;32md:\\GitHub\\AI\\Toxicity Detection Model\\notebook.ipynb Cell 45'\u001b[0m in \u001b[0;36m<cell line: 1>\u001b[1;34m()\u001b[0m\n\u001b[1;32m----> <a href='vscode-notebook-cell:/d%3A/GitHub/AI/Toxicity%20Detection%20Model/notebook.ipynb#ch0000044?line=0'>1</a>\u001b[0m test_loss, test_acc \u001b[39m=\u001b[39m model\u001b[39m.\u001b[39mevaluate(x\u001b[39m=\u001b[39mtest_input, y\u001b[39m=\u001b[39mtest_output)\n\u001b[0;32m      <a href='vscode-notebook-cell:/d%3A/GitHub/AI/Toxicity%20Detection%20Model/notebook.ipynb#ch0000044?line=2'>3</a>\u001b[0m \u001b[39mprint\u001b[39m(\u001b[39m'\u001b[39m\u001b[39mTest Loss:\u001b[39m\u001b[39m'\u001b[39m, test_loss)\n\u001b[0;32m      <a href='vscode-notebook-cell:/d%3A/GitHub/AI/Toxicity%20Detection%20Model/notebook.ipynb#ch0000044?line=3'>4</a>\u001b[0m \u001b[39mprint\u001b[39m(\u001b[39m'\u001b[39m\u001b[39mTest Accuracy:\u001b[39m\u001b[39m'\u001b[39m, test_acc)\n",
      "\u001b[1;31mTypeError\u001b[0m: cannot unpack non-iterable float object"
     ]
    }
   ],
   "source": [
    "test_loss, test_acc = model.evaluate(x=test_input, y=test_output)\n",
    "\n",
    "print('Test Loss:', test_loss)\n",
    "print('Test Accuracy:', test_acc)"
   ]
  }
 ],
 "metadata": {
  "interpreter": {
   "hash": "3c92edb50b0d3c17cb874491556f3b23517a1eaeecdd98db06b8cc77892b6a96"
  },
  "kernelspec": {
   "display_name": "Python 3.9.4 ('venv': venv)",
   "language": "python",
   "name": "python3"
  },
  "language_info": {
   "codemirror_mode": {
    "name": "ipython",
    "version": 3
   },
   "file_extension": ".py",
   "mimetype": "text/x-python",
   "name": "python",
   "nbconvert_exporter": "python",
   "pygments_lexer": "ipython3",
   "version": "3.9.4"
  },
  "orig_nbformat": 4
 },
 "nbformat": 4,
 "nbformat_minor": 2
}
