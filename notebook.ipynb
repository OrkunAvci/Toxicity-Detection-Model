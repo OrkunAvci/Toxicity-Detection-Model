{
  "cells": [
    {
      "cell_type": "markdown",
      "metadata": {
        "id": "K4o0uCysJdGN"
      },
      "source": [
        "# Toxicity Detection Model\n",
        "\n",
        "Get live data with `get_comments.py` and transform Kaggle data set with `transform_train.py`\n",
        "\n",
        "Get libraries by running `pip install -r requirements.txt`\n",
        "\n",
        "This is a deep learning model."
      ]
    },
    {
      "cell_type": "code",
      "execution_count": 43,
      "metadata": {
        "id": "eo3EBLEiJdGX"
      },
      "outputs": [],
      "source": [
        "import tensorflow as tf\n",
        "import keras\n",
        "from keras import layers, Model\n",
        "from keras.layers import Input, Bidirectional, Dense, Embedding, LSTM, Dropout\n",
        "import numpy as np\n",
        "import pandas as pd\n",
        "\n",
        "from keras.utils import pad_sequences\n",
        "from keras.callbacks import ReduceLROnPlateau, EarlyStopping\n",
        "\n",
        "from sklearn.model_selection import train_test_split\n",
        "\n",
        "import matplotlib.pyplot as plt\n",
        "import seaborn as sns\n",
        "\n",
        "from wordcloud import STOPWORDS, wordcloud\n",
        "import re\n",
        "from fuzzywuzzy import fuzz, process\n",
        "from nltk.corpus import stopwords\n",
        "import nltk\n",
        "\n",
        "from tqdm import tqdm\n",
        "import math"
      ]
    },
    {
      "cell_type": "markdown",
      "metadata": {
        "id": "yk6V5JKTJdGc"
      },
      "source": [
        "# Load Dataset"
      ]
    },
    {
      "cell_type": "code",
      "execution_count": 44,
      "metadata": {
        "id": "-7gIw83yJdGd"
      },
      "outputs": [],
      "source": [
        "df_train = pd.read_csv('./data/new_train.csv')"
      ]
    },
    {
      "cell_type": "markdown",
      "metadata": {
        "id": "CGmkZ2RqJdGe"
      },
      "source": [
        "### Data Cleansing\n",
        "<ul>\n",
        "    <li>Removal of special characters</li>\n",
        "    <li>Expanding contractions</li>\n",
        "    <li>Removal of stopping words</li>\n",
        "    <li>Lowering text</li>\n",
        "    <li>Replacing Obfuscated Profane Words</li>\n",
        "</ul>"
      ]
    },
    {
      "cell_type": "code",
      "execution_count": 45,
      "metadata": {
        "id": "V6vwyaSdJdGg"
      },
      "outputs": [],
      "source": [
        "def decontracted(phrase):\n",
        "    '''\n",
        "    This function decontracts words like won't to will not\n",
        "    '''\n",
        "\n",
        "    # specific\n",
        "    phrase = re.sub(r\"won't\", \"will not\", phrase)\n",
        "    phrase = re.sub(r\"can\\'t\", \"can not\", phrase)\n",
        "\n",
        "    # general\n",
        "    phrase = re.sub(r\"n\\'t\", \" not\", phrase)\n",
        "    phrase = re.sub(r\"\\'re\", \" are\", phrase)\n",
        "    phrase = re.sub(r\"\\'s\", \" is\", phrase)\n",
        "    phrase = re.sub(r\"\\'d\", \" would\", phrase)\n",
        "    phrase = re.sub(r\"\\'ll\", \" will\", phrase)\n",
        "    phrase = re.sub(r\"\\'t\", \" not\", phrase)\n",
        "    phrase = re.sub(r\"\\'ve\", \" have\", phrase)\n",
        "    phrase = re.sub(r\"\\'m\", \" am\", phrase)\n",
        "    \n",
        "    return phrase"
      ]
    },
    {
      "cell_type": "code",
      "execution_count": 46,
      "metadata": {
        "id": "F4cLuLE8JdGi"
      },
      "outputs": [],
      "source": [
        "def removeNonPrintable(com):\n",
        "    com = com.replace('\\\\r', ' ')\n",
        "    com = com.replace('\\\\n', ' ')\n",
        "    com = com.replace('\\\\t', ' ')\n",
        "    com = com.replace('\\\\\"', ' ')\n",
        "    return com"
      ]
    },
    {
      "cell_type": "code",
      "execution_count": 47,
      "metadata": {
        "id": "dbRlbk1VJdGk"
      },
      "outputs": [],
      "source": [
        "def getUniqueWords(comments):\n",
        "    unique_words = set()\n",
        "    for comment in tqdm(comments):\n",
        "        words = comment.split(\" \")\n",
        "        for word in words:\n",
        "            if len(word) > 2:\n",
        "                unique_words.add(word)\n",
        "    \n",
        "    return unique_words"
      ]
    },
    {
      "cell_type": "code",
      "execution_count": 48,
      "metadata": {
        "id": "AcQrMnfsJdGl"
      },
      "outputs": [],
      "source": [
        "def getProfaneWords():\n",
        "    profane_words = []\n",
        "    with open(\"./data/bad-words.txt\",\"r\") as f:\n",
        "        for word in f:\n",
        "            word = word.replace(\"\\n\",\"\")\n",
        "            profane_words.append(word)\n",
        "    return profane_words\n",
        "    "
      ]
    },
    {
      "cell_type": "code",
      "execution_count": 49,
      "metadata": {
        "id": "i7WJNXzXJdGm"
      },
      "outputs": [],
      "source": [
        "def createMappingDict(profane_words, unique_words):\n",
        "    # mapping dictionary\n",
        "    mapping_dict = dict()\n",
        "    \n",
        "    # looping through each profane word\n",
        "    for profane in tqdm(profane_words):\n",
        "        mapped_words = set()\n",
        "        \n",
        "        # looping through each word in vocab\n",
        "        for word in unique_words:\n",
        "            # mapping only if ratio > 80\n",
        "            try:\n",
        "                if fuzz.ratio(profane,word) > 80:\n",
        "                    mapped_words.add(word)\n",
        "            except:\n",
        "                pass\n",
        "                \n",
        "        # list of all vocab words for given profane word\n",
        "        mapping_dict[profane] = mapped_words\n",
        "    \n",
        "    return mapping_dict"
      ]
    },
    {
      "cell_type": "code",
      "execution_count": 50,
      "metadata": {
        "id": "oxu-qzVrJdGn"
      },
      "outputs": [],
      "source": [
        "def replaceWords(corpus, mapping_dict):\n",
        "    processed_corpus = []\n",
        "\n",
        "    for document in tqdm(corpus):\n",
        "\n",
        "        # words = document.split()\n",
        "\n",
        "        for mapped_word, v in mapping_dict.items():\n",
        "            \n",
        "            document = re.sub(r'\\b{word}\\b'.format(word = v), mapped_word, document)\n",
        "\n",
        "            # for target_word in v:\n",
        "\n",
        "            #     for i, word in enumerate(words):\n",
        "            #         if word == target_word:\n",
        "            #             words[i] = mapped_word\n",
        "\n",
        "        # document = \" \".join(words)\n",
        "        document = document.strip()\n",
        "\n",
        "        processed_corpus.append(document)\n",
        "\n",
        "    return processed_corpus\n",
        "\n"
      ]
    },
    {
      "cell_type": "code",
      "execution_count": 51,
      "metadata": {
        "id": "d-ZFhK35JdGp"
      },
      "outputs": [],
      "source": [
        "def final_processing(corpus):\n",
        "    '''\n",
        "    Function applies final processing steps post profane mapping such as removing special characters,\n",
        "    punctuations etc.\n",
        "    '''\n",
        "    processed_comments = []\n",
        "    stopwords_list = stopwords.words(\"english\")\n",
        "    # stopwords_list = nltk.download('stopwords')\n",
        "    print('final_processing')\n",
        "\n",
        "    emoj = re.compile(pattern = \"[\"\n",
        "        u\"\\U0001F600-\\U0001F64F\"  # emoticons\n",
        "        u\"\\U0001F300-\\U0001F5FF\"  # symbols & pictographs\n",
        "        u\"\\U0001F680-\\U0001F6FF\"  # transport & map symbols\n",
        "        u\"\\U0001F1E0-\\U0001F1FF\"  # flags (iOS)\n",
        "                           \"]+\", flags = re.UNICODE)\n",
        "\n",
        "\n",
        "    # looping through each comment in corpus\n",
        "    for comment in tqdm(corpus):\n",
        "        try:\n",
        "          processed_words = []\n",
        "          comment = re.sub(emoj, r'', comment)\n",
        "          comment = re.sub(r'http\\S+', '', comment)\n",
        "          # comment = re.sub(\"\\B\\#\\w+\", ' ', comment)\n",
        "          # comment = re.sub(\"\\B\\@\\w+\", '', comment)\n",
        "          comment = re.sub(r'(\\w*#\\w+|\\w+#\\w*)','', comment)\n",
        "          comment = re.sub(r'(\\w*@\\w+|\\w+#\\w*)','',  comment)\n",
        "          comment = re.sub(r'[^A-Za-z\\s]+',\"\",  comment) # retain only letters\n",
        "          for word in comment.split():\n",
        "              if len(word) >= 3:\n",
        "                  processed_words.append(word)\n",
        "          \n",
        "          comment = \" \".join([e for e in processed_words if e.lower() not in stopwords_list])\n",
        "          processed_comments.append(comment.strip())\n",
        "        except Exception as e:\n",
        "          print(corpus)\n",
        "          print(e)\n",
        "          pass\n",
        "    \n",
        "    return processed_comments"
      ]
    },
    {
      "cell_type": "code",
      "execution_count": 52,
      "metadata": {
        "id": "s4GPWLgSJdGq"
      },
      "outputs": [],
      "source": [
        "def cleanComments(comments):\n",
        "    processed_comments = []\n",
        "    for comment in comments:\n",
        "        comment = decontracted(comment)\n",
        "        comment = removeNonPrintable(comment)\n",
        "\n",
        "        # Lower comment\n",
        "        processed_comments.append(comment.lower().strip())\n",
        "      \n",
        "    #profane_words = getProfaneWords()\n",
        "    #unique_words = getUniqueWords(processed_comments)\n",
        "    #profane_dict = createMappingDict(profane_words, unique_words)\n",
        "    #processed_comments = replaceWords(processed_comments, profane_dict)\n",
        "    final_comments = final_processing(processed_comments)\n",
        "    return final_comments"
      ]
    },
    {
      "cell_type": "code",
      "execution_count": 53,
      "metadata": {
        "id": "lPPd7Sg7JdGr"
      },
      "outputs": [],
      "source": [
        "def corrHeatmap(df, fileName = None):\n",
        "    classes = df.columns[1:]\n",
        "    data = df.copy()\n",
        "    data = data[classes]\n",
        "    corr = data.corr()\n",
        "\n",
        "    plt.figure(figsize=(8,6))\n",
        "    sns.heatmap(corr,annot=True,vmin=1,vmax=0,fmt='.2g',cmap='rocket')\n",
        "    plt.title(\"Correlation Matrix: Labels of Comments\")\n",
        "    if fileName:\n",
        "        plt.savefig(fileName + '.png')\n",
        "    plt.show()"
      ]
    },
    {
      "cell_type": "code",
      "execution_count": 54,
      "metadata": {
        "id": "Qrl6vNPlJdGr"
      },
      "outputs": [],
      "source": [
        "def showPercentiles(data):\n",
        "    print(\"========== For 0-100 ==========\")\n",
        "    for i in range(11):\n",
        "        print(f'{i*10}th Percentile Value = {np.percentile(data, i*10)}')\n",
        "\n",
        "    print(\"\\n\")\n",
        "    print(\"========== For 90-100 ==========\")\n",
        "    for i in range(11):\n",
        "        print(f'{90+i}th Percentile Value = {np.percentile(data, 90 + i)}')"
      ]
    },
    {
      "cell_type": "code",
      "execution_count": 55,
      "metadata": {
        "id": "UalYBmPaJdGs"
      },
      "outputs": [],
      "source": [
        "def plotHist(data, bin_size, title, fileName = None, columns = None):\n",
        "    if columns is not None:\n",
        "        fig, axis = plt.subplots(len(columns)-1, 1, figsize = (12,30))\n",
        "        for i, col in enumerate(columns[1:]):\n",
        "            sns.histplot(data=data[col],bins=bin_size,palette=\"rocket\",ax = axis[i])\n",
        "\n",
        "        fig.tight_layout()\n",
        "        fig.subplots_adjust(top = 0.95)\n",
        "        fig.suptitle(title, size = 18)\n",
        "    else:\n",
        "        sns.histplot(data=data,bins=bin_size,palette=\"rocket\")\n",
        "        plt.title(title)\n",
        "    \n",
        "\n",
        "    if fileName:\n",
        "        plt.savefig(fileName + '.png')\n",
        "    \n",
        "    plt.show()"
      ]
    },
    {
      "cell_type": "code",
      "execution_count": 56,
      "metadata": {
        "id": "FL4gF8OHJdGt"
      },
      "outputs": [
        {
          "data": {
            "text/plain": [
              "(132291, 7)"
            ]
          },
          "execution_count": 56,
          "metadata": {},
          "output_type": "execute_result"
        }
      ],
      "source": [
        "df_train.shape"
      ]
    },
    {
      "cell_type": "code",
      "execution_count": 57,
      "metadata": {
        "id": "daSu_QehJdGv"
      },
      "outputs": [
        {
          "data": {
            "text/html": [
              "<div>\n",
              "<style scoped>\n",
              "    .dataframe tbody tr th:only-of-type {\n",
              "        vertical-align: middle;\n",
              "    }\n",
              "\n",
              "    .dataframe tbody tr th {\n",
              "        vertical-align: top;\n",
              "    }\n",
              "\n",
              "    .dataframe thead th {\n",
              "        text-align: right;\n",
              "    }\n",
              "</style>\n",
              "<table border=\"1\" class=\"dataframe\">\n",
              "  <thead>\n",
              "    <tr style=\"text-align: right;\">\n",
              "      <th></th>\n",
              "      <th>Comment</th>\n",
              "      <th>Toxicity</th>\n",
              "      <th>Severe_Toxicity</th>\n",
              "      <th>Identity_Attack</th>\n",
              "      <th>Insult</th>\n",
              "      <th>Profanity</th>\n",
              "      <th>Threat</th>\n",
              "    </tr>\n",
              "  </thead>\n",
              "  <tbody>\n",
              "    <tr>\n",
              "      <th>0</th>\n",
              "      <td>Explanation\\nWhy the edits made under my usern...</td>\n",
              "      <td>0.129533</td>\n",
              "      <td>0.005232</td>\n",
              "      <td>0.009843</td>\n",
              "      <td>0.000779</td>\n",
              "      <td>0.000911</td>\n",
              "      <td>0.009409</td>\n",
              "    </tr>\n",
              "    <tr>\n",
              "      <th>1</th>\n",
              "      <td>D'aww! He matches this background colour I'm s...</td>\n",
              "      <td>0.022352</td>\n",
              "      <td>0.001590</td>\n",
              "      <td>0.010376</td>\n",
              "      <td>0.001265</td>\n",
              "      <td>0.001273</td>\n",
              "      <td>0.009809</td>\n",
              "    </tr>\n",
              "    <tr>\n",
              "      <th>2</th>\n",
              "      <td>Hey man, I'm really not trying to edit war. It...</td>\n",
              "      <td>0.168278</td>\n",
              "      <td>0.004964</td>\n",
              "      <td>0.010698</td>\n",
              "      <td>0.004839</td>\n",
              "      <td>0.001866</td>\n",
              "      <td>0.009920</td>\n",
              "    </tr>\n",
              "    <tr>\n",
              "      <th>3</th>\n",
              "      <td>\"\\nMore\\nI can't make any real suggestions on ...</td>\n",
              "      <td>0.056532</td>\n",
              "      <td>0.002854</td>\n",
              "      <td>0.009954</td>\n",
              "      <td>0.001283</td>\n",
              "      <td>0.001134</td>\n",
              "      <td>0.009656</td>\n",
              "    </tr>\n",
              "    <tr>\n",
              "      <th>4</th>\n",
              "      <td>You, sir, are my hero. Any chance you remember...</td>\n",
              "      <td>0.022491</td>\n",
              "      <td>0.002081</td>\n",
              "      <td>0.012285</td>\n",
              "      <td>0.004179</td>\n",
              "      <td>0.003558</td>\n",
              "      <td>0.011320</td>\n",
              "    </tr>\n",
              "  </tbody>\n",
              "</table>\n",
              "</div>"
            ],
            "text/plain": [
              "                                             Comment  Toxicity  \\\n",
              "0  Explanation\\nWhy the edits made under my usern...  0.129533   \n",
              "1  D'aww! He matches this background colour I'm s...  0.022352   \n",
              "2  Hey man, I'm really not trying to edit war. It...  0.168278   \n",
              "3  \"\\nMore\\nI can't make any real suggestions on ...  0.056532   \n",
              "4  You, sir, are my hero. Any chance you remember...  0.022491   \n",
              "\n",
              "   Severe_Toxicity  Identity_Attack    Insult  Profanity    Threat  \n",
              "0         0.005232         0.009843  0.000779   0.000911  0.009409  \n",
              "1         0.001590         0.010376  0.001265   0.001273  0.009809  \n",
              "2         0.004964         0.010698  0.004839   0.001866  0.009920  \n",
              "3         0.002854         0.009954  0.001283   0.001134  0.009656  \n",
              "4         0.002081         0.012285  0.004179   0.003558  0.011320  "
            ]
          },
          "execution_count": 57,
          "metadata": {},
          "output_type": "execute_result"
        }
      ],
      "source": [
        "df_train.head()"
      ]
    },
    {
      "cell_type": "code",
      "execution_count": 58,
      "metadata": {
        "id": "T76PbuSHJdGv"
      },
      "outputs": [
        {
          "data": {
            "image/png": "[encoded data removed]",
            "text/plain": [
              "<Figure size 864x2160 with 6 Axes>"
            ]
          },
          "metadata": {},
          "output_type": "display_data"
        }
      ],
      "source": [
        "plotHist(df_train, 30, 'Histogram of the Labels', 'categories_histogram', df_train.columns)"
      ]
    },
    {
      "cell_type": "code",
      "execution_count": 59,
      "metadata": {
        "id": "n3PPZ9ynJdGw"
      },
      "outputs": [
        {
          "data": {
            "image/png": "[encoded data removed]",
            "text/plain": [
              "<Figure size 432x288 with 1 Axes>"
            ]
          },
          "metadata": {},
          "output_type": "display_data"
        }
      ],
      "source": [
        "plotHist(df_train.Comment.str.len(), 50, 'Length of the Comments', 'comments_length_before_preprocess')"
      ]
    },
    {
      "cell_type": "code",
      "execution_count": 60,
      "metadata": {
        "id": "I4PSb6vNJdGy"
      },
      "outputs": [
        {
          "name": "stdout",
          "output_type": "stream",
          "text": [
            "============== Toxicity ==============\n",
            "========== For 0-100 ==========\n",
            "0th Percentile Value = 6.778911e-08\n",
            "10th Percentile Value = 0.016173938\n",
            "20th Percentile Value = 0.024490505\n",
            "30th Percentile Value = 0.03770977\n",
            "40th Percentile Value = 0.059328925\n",
            "50th Percentile Value = 0.09333697\n",
            "60th Percentile Value = 0.14104263\n",
            "70th Percentile Value = 0.19936113\n",
            "80th Percentile Value = 0.29855597\n",
            "90th Percentile Value = 0.5038962\n",
            "100th Percentile Value = 0.9953412\n",
            "\n",
            "\n",
            "========== For 90-100 ==========\n",
            "90th Percentile Value = 0.5038962\n",
            "91th Percentile Value = 0.5535644\n",
            "92th Percentile Value = 0.5958905\n",
            "93th Percentile Value = 0.6662635\n",
            "94th Percentile Value = 0.73034537\n",
            "95th Percentile Value = 0.78524166\n",
            "96th Percentile Value = 0.8546526\n",
            "97th Percentile Value = 0.89158845\n",
            "98th Percentile Value = 0.93413806\n",
            "99th Percentile Value = 0.9646382\n",
            "100th Percentile Value = 0.9953412\n",
            "\n",
            "\n",
            "============== Severe_Toxicity ==============\n",
            "========== For 0-100 ==========\n",
            "0th Percentile Value = 5.805647e-08\n",
            "10th Percentile Value = 0.0014416584\n",
            "20th Percentile Value = 0.0017834948\n",
            "30th Percentile Value = 0.0021996435\n",
            "40th Percentile Value = 0.002764417\n",
            "50th Percentile Value = 0.003641302\n",
            "60th Percentile Value = 0.005053235\n",
            "70th Percentile Value = 0.0077284775\n",
            "80th Percentile Value = 0.015575855\n",
            "90th Percentile Value = 0.124105975\n",
            "100th Percentile Value = 0.85\n",
            "\n",
            "\n",
            "========== For 90-100 ==========\n",
            "90th Percentile Value = 0.124105975\n",
            "91th Percentile Value = 0.17381348\n",
            "92th Percentile Value = 0.21157408\n",
            "93th Percentile Value = 0.22385512\n",
            "94th Percentile Value = 0.41180557\n",
            "95th Percentile Value = 0.42189923\n",
            "96th Percentile Value = 0.4633291\n",
            "97th Percentile Value = 0.51887757\n",
            "98th Percentile Value = 0.5710703\n",
            "99th Percentile Value = 0.6257666\n",
            "100th Percentile Value = 0.85\n",
            "\n",
            "\n",
            "============== Identity_Attack ==============\n",
            "========== For 0-100 ==========\n",
            "0th Percentile Value = 0.009177678\n",
            "10th Percentile Value = 0.009941293\n",
            "20th Percentile Value = 0.010105887\n",
            "30th Percentile Value = 0.010270482\n",
            "40th Percentile Value = 0.010487746\n",
            "50th Percentile Value = 0.010889357\n",
            "60th Percentile Value = 0.01167941\n",
            "70th Percentile Value = 0.013654544\n",
            "80th Percentile Value = 0.017710151\n",
            "90th Percentile Value = 0.02950828\n",
            "100th Percentile Value = 0.8363224\n",
            "\n",
            "\n",
            "========== For 90-100 ==========\n",
            "90th Percentile Value = 0.02950828\n",
            "91th Percentile Value = 0.03224713\n",
            "92th Percentile Value = 0.035723366\n",
            "93th Percentile Value = 0.040569026\n",
            "94th Percentile Value = 0.04883728\n",
            "95th Percentile Value = 0.06379164\n",
            "96th Percentile Value = 0.08638227\n",
            "97th Percentile Value = 0.11423728300000117\n",
            "98th Percentile Value = 0.14686169\n",
            "99th Percentile Value = 0.2980635\n",
            "100th Percentile Value = 0.8363224\n",
            "\n",
            "\n",
            "============== Insult ==============\n",
            "========== For 0-100 ==========\n",
            "0th Percentile Value = 1.4319433e-07\n",
            "10th Percentile Value = 0.0009805948\n",
            "20th Percentile Value = 0.0013288434\n",
            "30th Percentile Value = 0.0017412431\n",
            "40th Percentile Value = 0.0024743981\n",
            "50th Percentile Value = 0.0037207615\n",
            "60th Percentile Value = 0.006415106\n",
            "70th Percentile Value = 0.013123474\n",
            "80th Percentile Value = 0.030059354\n",
            "90th Percentile Value = 0.08050404\n",
            "100th Percentile Value = 0.8920783\n",
            "\n",
            "\n",
            "========== For 90-100 ==========\n",
            "90th Percentile Value = 0.08050404\n",
            "91th Percentile Value = 0.09517539\n",
            "92th Percentile Value = 0.11716794\n",
            "93th Percentile Value = 0.13399015\n",
            "94th Percentile Value = 0.153967\n",
            "95th Percentile Value = 0.19799528\n",
            "96th Percentile Value = 0.28602606\n",
            "97th Percentile Value = 0.35278165\n",
            "98th Percentile Value = 0.43649372\n",
            "99th Percentile Value = 0.58619964\n",
            "100th Percentile Value = 0.8920783\n",
            "\n",
            "\n",
            "============== Profanity ==============\n",
            "========== For 0-100 ==========\n",
            "0th Percentile Value = 1.3626074e-07\n",
            "10th Percentile Value = 0.00088514976\n",
            "20th Percentile Value = 0.0010857256\n",
            "30th Percentile Value = 0.0012993824\n",
            "40th Percentile Value = 0.001561003\n",
            "50th Percentile Value = 0.0021104063\n",
            "60th Percentile Value = 0.0032789784\n",
            "70th Percentile Value = 0.006383543\n",
            "80th Percentile Value = 0.0144414585\n",
            "90th Percentile Value = 0.05104654\n",
            "100th Percentile Value = 0.9286024\n",
            "\n",
            "\n",
            "========== For 90-100 ==========\n",
            "90th Percentile Value = 0.05104654\n",
            "91th Percentile Value = 0.06237638\n",
            "92th Percentile Value = 0.076538675\n",
            "93th Percentile Value = 0.09515198\n",
            "94th Percentile Value = 0.116978616\n",
            "95th Percentile Value = 0.13941896\n",
            "96th Percentile Value = 0.20384872\n",
            "97th Percentile Value = 0.27274632\n",
            "98th Percentile Value = 0.3846113\n",
            "99th Percentile Value = 0.5161462\n",
            "100th Percentile Value = 0.9286024\n",
            "\n",
            "\n",
            "============== Threat ==============\n",
            "========== For 0-100 ==========\n",
            "0th Percentile Value = 0.0\n",
            "10th Percentile Value = 0.009547857\n",
            "20th Percentile Value = 0.009647187\n",
            "30th Percentile Value = 0.009744206\n",
            "40th Percentile Value = 0.009855086\n",
            "50th Percentile Value = 0.010002926\n",
            "60th Percentile Value = 0.010312465\n",
            "70th Percentile Value = 0.011070144\n",
            "80th Percentile Value = 0.012807261\n",
            "90th Percentile Value = 0.016835894\n",
            "100th Percentile Value = 0.80452085\n",
            "\n",
            "\n",
            "========== For 90-100 ==========\n",
            "90th Percentile Value = 0.016835894\n",
            "91th Percentile Value = 0.017612053\n",
            "92th Percentile Value = 0.018646931\n",
            "93th Percentile Value = 0.01990357\n",
            "94th Percentile Value = 0.021677647\n",
            "95th Percentile Value = 0.024117002\n",
            "96th Percentile Value = 0.027960837\n",
            "97th Percentile Value = 0.03855143\n",
            "98th Percentile Value = 0.08811198\n",
            "99th Percentile Value = 0.22530505\n",
            "100th Percentile Value = 0.80452085\n",
            "\n",
            "\n"
          ]
        }
      ],
      "source": [
        "for cat in df_train.columns[1:]:\n",
        "    print(f\"============== {cat} ==============\")\n",
        "    showPercentiles(df_train[cat])\n",
        "    print(\"\\n\")"
      ]
    },
    {
      "cell_type": "code",
      "execution_count": 61,
      "metadata": {
        "id": "nkzxiTNXJdGz"
      },
      "outputs": [
        {
          "name": "stdout",
          "output_type": "stream",
          "text": [
            "========== For 0-100 ==========\n",
            "0th Percentile Value = 6.0\n",
            "10th Percentile Value = 47.0\n",
            "20th Percentile Value = 78.0\n",
            "30th Percentile Value = 114.0\n",
            "40th Percentile Value = 155.0\n",
            "50th Percentile Value = 205.0\n",
            "60th Percentile Value = 274.0\n",
            "70th Percentile Value = 367.0\n",
            "80th Percentile Value = 528.0\n",
            "90th Percentile Value = 889.0\n",
            "100th Percentile Value = 5000.0\n",
            "\n",
            "\n",
            "========== For 90-100 ==========\n",
            "90th Percentile Value = 889.0\n",
            "91th Percentile Value = 956.0\n",
            "92th Percentile Value = 1030.0\n",
            "93th Percentile Value = 1107.0\n",
            "94th Percentile Value = 1215.0\n",
            "95th Percentile Value = 1359.0\n",
            "96th Percentile Value = 1535.0\n",
            "97th Percentile Value = 1819.300000000003\n",
            "98th Percentile Value = 2322.199999999997\n",
            "99th Percentile Value = 3442.100000000006\n",
            "100th Percentile Value = 5000.0\n"
          ]
        }
      ],
      "source": [
        "showPercentiles(df_train.Comment.str.len())"
      ]
    },
    {
      "cell_type": "code",
      "execution_count": 62,
      "metadata": {
        "id": "gz5_84BDJdGz"
      },
      "outputs": [
        {
          "data": {
            "image/png": "[encoded data removed]",
            "text/plain": [
              "<Figure size 576x432 with 2 Axes>"
            ]
          },
          "metadata": {},
          "output_type": "display_data"
        }
      ],
      "source": [
        "corrHeatmap(df_train, 'corr_matrix_labels')"
      ]
    },
    {
      "cell_type": "markdown",
      "metadata": {
        "id": "CnX2z1DjJdG0"
      },
      "source": [
        "There is a strong positive relationship between Toxicity-Severe Toxicity, Identity Attack-Insult and Toxicity-Profanity respectively"
      ]
    },
    {
      "cell_type": "code",
      "execution_count": 63,
      "metadata": {
        "id": "aqznn-8SJdG0"
      },
      "outputs": [
        {
          "name": "stdout",
          "output_type": "stream",
          "text": [
            "final_processing\n"
          ]
        },
        {
          "name": "stderr",
          "output_type": "stream",
          "text": [
            "100%|██████████| 132291/132291 [00:37<00:00, 3493.26it/s]\n"
          ]
        }
      ],
      "source": [
        "processed_comments = cleanComments(df_train.Comment.values)"
      ]
    },
    {
      "cell_type": "code",
      "execution_count": 64,
      "metadata": {
        "id": "U6RMrFrzJdG1"
      },
      "outputs": [],
      "source": [
        "df_processed = df_train[df_train.columns[1:]].copy()\n",
        "df_processed['ProcessedComment'] = processed_comments"
      ]
    },
    {
      "cell_type": "code",
      "execution_count": 65,
      "metadata": {
        "id": "lfasVWgyJdG2"
      },
      "outputs": [],
      "source": [
        "cols = df_processed.columns.tolist()\n",
        "ordered_cols = cols[-1:] + cols[:-1]\n",
        "df_processed = df_processed[ordered_cols]"
      ]
    },
    {
      "cell_type": "code",
      "execution_count": 66,
      "metadata": {
        "id": "s1sJ2FwBJdG3"
      },
      "outputs": [
        {
          "data": {
            "text/html": [
              "<div>\n",
              "<style scoped>\n",
              "    .dataframe tbody tr th:only-of-type {\n",
              "        vertical-align: middle;\n",
              "    }\n",
              "\n",
              "    .dataframe tbody tr th {\n",
              "        vertical-align: top;\n",
              "    }\n",
              "\n",
              "    .dataframe thead th {\n",
              "        text-align: right;\n",
              "    }\n",
              "</style>\n",
              "<table border=\"1\" class=\"dataframe\">\n",
              "  <thead>\n",
              "    <tr style=\"text-align: right;\">\n",
              "      <th></th>\n",
              "      <th>ProcessedComment</th>\n",
              "      <th>Toxicity</th>\n",
              "      <th>Severe_Toxicity</th>\n",
              "      <th>Identity_Attack</th>\n",
              "      <th>Insult</th>\n",
              "      <th>Profanity</th>\n",
              "      <th>Threat</th>\n",
              "    </tr>\n",
              "  </thead>\n",
              "  <tbody>\n",
              "    <tr>\n",
              "      <th>0</th>\n",
              "      <td>explanation edits made username hardcore metal...</td>\n",
              "      <td>0.129533</td>\n",
              "      <td>0.005232</td>\n",
              "      <td>0.009843</td>\n",
              "      <td>0.000779</td>\n",
              "      <td>0.000911</td>\n",
              "      <td>0.009409</td>\n",
              "    </tr>\n",
              "    <tr>\n",
              "      <th>1</th>\n",
              "      <td>daww matches background colour seemingly stuck...</td>\n",
              "      <td>0.022352</td>\n",
              "      <td>0.001590</td>\n",
              "      <td>0.010376</td>\n",
              "      <td>0.001265</td>\n",
              "      <td>0.001273</td>\n",
              "      <td>0.009809</td>\n",
              "    </tr>\n",
              "    <tr>\n",
              "      <th>2</th>\n",
              "      <td>hey man really trying edit war guy constantly ...</td>\n",
              "      <td>0.168278</td>\n",
              "      <td>0.004964</td>\n",
              "      <td>0.010698</td>\n",
              "      <td>0.004839</td>\n",
              "      <td>0.001866</td>\n",
              "      <td>0.009920</td>\n",
              "    </tr>\n",
              "    <tr>\n",
              "      <th>3</th>\n",
              "      <td>make real suggestions improvement wondered sec...</td>\n",
              "      <td>0.056532</td>\n",
              "      <td>0.002854</td>\n",
              "      <td>0.009954</td>\n",
              "      <td>0.001283</td>\n",
              "      <td>0.001134</td>\n",
              "      <td>0.009656</td>\n",
              "    </tr>\n",
              "    <tr>\n",
              "      <th>4</th>\n",
              "      <td>sir hero chance remember page</td>\n",
              "      <td>0.022491</td>\n",
              "      <td>0.002081</td>\n",
              "      <td>0.012285</td>\n",
              "      <td>0.004179</td>\n",
              "      <td>0.003558</td>\n",
              "      <td>0.011320</td>\n",
              "    </tr>\n",
              "  </tbody>\n",
              "</table>\n",
              "</div>"
            ],
            "text/plain": [
              "                                    ProcessedComment  Toxicity  \\\n",
              "0  explanation edits made username hardcore metal...  0.129533   \n",
              "1  daww matches background colour seemingly stuck...  0.022352   \n",
              "2  hey man really trying edit war guy constantly ...  0.168278   \n",
              "3  make real suggestions improvement wondered sec...  0.056532   \n",
              "4                      sir hero chance remember page  0.022491   \n",
              "\n",
              "   Severe_Toxicity  Identity_Attack    Insult  Profanity    Threat  \n",
              "0         0.005232         0.009843  0.000779   0.000911  0.009409  \n",
              "1         0.001590         0.010376  0.001265   0.001273  0.009809  \n",
              "2         0.004964         0.010698  0.004839   0.001866  0.009920  \n",
              "3         0.002854         0.009954  0.001283   0.001134  0.009656  \n",
              "4         0.002081         0.012285  0.004179   0.003558  0.011320  "
            ]
          },
          "execution_count": 66,
          "metadata": {},
          "output_type": "execute_result"
        }
      ],
      "source": [
        "df_processed.head()"
      ]
    },
    {
      "cell_type": "code",
      "execution_count": 67,
      "metadata": {
        "id": "_28lUwe9JdG3"
      },
      "outputs": [
        {
          "data": {
            "text/plain": [
              "(132291, 7)"
            ]
          },
          "execution_count": 67,
          "metadata": {},
          "output_type": "execute_result"
        }
      ],
      "source": [
        "df_processed.shape"
      ]
    },
    {
      "cell_type": "code",
      "execution_count": 68,
      "metadata": {
        "id": "sWalIW_ZJdG3"
      },
      "outputs": [
        {
          "data": {
            "image/png": "[encoded data removed]",
            "text/plain": [
              "<Figure size 432x288 with 1 Axes>"
            ]
          },
          "metadata": {},
          "output_type": "display_data"
        }
      ],
      "source": [
        "plotHist(df_processed.ProcessedComment.str.len(), 50, 'Comments Length After Preprocessing', 'after_preprocess_comments_histogram')"
      ]
    },
    {
      "cell_type": "markdown",
      "metadata": {
        "id": "e8y5eQR_JdG4"
      },
      "source": [
        "As seen from the histogram above, the length most of the comments have is in between 0-300. Additionally, the histogram fits to logarithmic distribution and it is right-skewed. To examine the histogram furher, we can look into percentiles of the histogram to determine the vector dimensions which will be crucial for our deep learning model"
      ]
    },
    {
      "cell_type": "code",
      "execution_count": 69,
      "metadata": {
        "id": "NopHSyg-JdG4"
      },
      "outputs": [
        {
          "name": "stdout",
          "output_type": "stream",
          "text": [
            "========== For 0-100 ==========\n",
            "0th Percentile Value = 0.0\n",
            "10th Percentile Value = 28.0\n",
            "20th Percentile Value = 46.0\n",
            "30th Percentile Value = 66.0\n",
            "40th Percentile Value = 91.0\n",
            "50th Percentile Value = 123.0\n",
            "60th Percentile Value = 164.0\n",
            "70th Percentile Value = 222.0\n",
            "80th Percentile Value = 322.0\n",
            "90th Percentile Value = 548.0\n",
            "100th Percentile Value = 5000.0\n",
            "\n",
            "\n",
            "========== For 90-100 ==========\n",
            "90th Percentile Value = 548.0\n",
            "91th Percentile Value = 591.0\n",
            "92th Percentile Value = 638.0\n",
            "93th Percentile Value = 690.0\n",
            "94th Percentile Value = 756.0\n",
            "95th Percentile Value = 842.0\n",
            "96th Percentile Value = 956.0\n",
            "97th Percentile Value = 1137.0\n",
            "98th Percentile Value = 1452.0\n",
            "99th Percentile Value = 2141.0\n",
            "100th Percentile Value = 5000.0\n"
          ]
        }
      ],
      "source": [
        "showPercentiles(df_processed.ProcessedComment.str.len())"
      ]
    },
    {
      "cell_type": "markdown",
      "metadata": {
        "id": "BDu_jILDJdG5"
      },
      "source": [
        "Almost 95% of the comments have 1000 characters approximately. As a result, the input dimension of the tokenized vectors can be 1000."
      ]
    },
    {
      "cell_type": "markdown",
      "metadata": {
        "id": "K9idEfZbJdG5"
      },
      "source": [
        "# Model Building"
      ]
    },
    {
      "cell_type": "markdown",
      "metadata": {
        "id": "20Ov5caJJdG6"
      },
      "source": [
        "Turn dataset into list(list of tokens, scores x6))"
      ]
    },
    {
      "cell_type": "code",
      "execution_count": 70,
      "metadata": {
        "id": "lieKcmEzJdG6"
      },
      "outputs": [],
      "source": [
        "VOCAB_SIZE = 1000\n",
        "tokenizer = keras.preprocessing.text.Tokenizer(num_words=VOCAB_SIZE+1)"
      ]
    },
    {
      "cell_type": "code",
      "execution_count": 71,
      "metadata": {
        "id": "Xu_n-2F7MdDO"
      },
      "outputs": [],
      "source": [
        "labels_list = df_processed.dropna().loc[:,\"Toxicity\": \"Threat\"].convert_dtypes(infer_objects=True).__array__()[:,np.newaxis,:]"
      ]
    },
    {
      "cell_type": "code",
      "execution_count": 72,
      "metadata": {
        "id": "qLdKShW9ML4n"
      },
      "outputs": [
        {
          "data": {
            "text/html": [
              "<div>\n",
              "<style scoped>\n",
              "    .dataframe tbody tr th:only-of-type {\n",
              "        vertical-align: middle;\n",
              "    }\n",
              "\n",
              "    .dataframe tbody tr th {\n",
              "        vertical-align: top;\n",
              "    }\n",
              "\n",
              "    .dataframe thead th {\n",
              "        text-align: right;\n",
              "    }\n",
              "</style>\n",
              "<table border=\"1\" class=\"dataframe\">\n",
              "  <thead>\n",
              "    <tr style=\"text-align: right;\">\n",
              "      <th></th>\n",
              "      <th>ProcessedComment</th>\n",
              "      <th>Toxicity</th>\n",
              "      <th>Severe_Toxicity</th>\n",
              "      <th>Identity_Attack</th>\n",
              "      <th>Insult</th>\n",
              "      <th>Profanity</th>\n",
              "      <th>Threat</th>\n",
              "    </tr>\n",
              "  </thead>\n",
              "  <tbody>\n",
              "    <tr>\n",
              "      <th>0</th>\n",
              "      <td>explanation edits made username hardcore metal...</td>\n",
              "      <td>0.129533</td>\n",
              "      <td>0.005232</td>\n",
              "      <td>0.009843</td>\n",
              "      <td>0.000779</td>\n",
              "      <td>0.000911</td>\n",
              "      <td>0.009409</td>\n",
              "    </tr>\n",
              "    <tr>\n",
              "      <th>1</th>\n",
              "      <td>daww matches background colour seemingly stuck...</td>\n",
              "      <td>0.022352</td>\n",
              "      <td>0.001590</td>\n",
              "      <td>0.010376</td>\n",
              "      <td>0.001265</td>\n",
              "      <td>0.001273</td>\n",
              "      <td>0.009809</td>\n",
              "    </tr>\n",
              "    <tr>\n",
              "      <th>2</th>\n",
              "      <td>hey man really trying edit war guy constantly ...</td>\n",
              "      <td>0.168278</td>\n",
              "      <td>0.004964</td>\n",
              "      <td>0.010698</td>\n",
              "      <td>0.004839</td>\n",
              "      <td>0.001866</td>\n",
              "      <td>0.009920</td>\n",
              "    </tr>\n",
              "    <tr>\n",
              "      <th>3</th>\n",
              "      <td>make real suggestions improvement wondered sec...</td>\n",
              "      <td>0.056532</td>\n",
              "      <td>0.002854</td>\n",
              "      <td>0.009954</td>\n",
              "      <td>0.001283</td>\n",
              "      <td>0.001134</td>\n",
              "      <td>0.009656</td>\n",
              "    </tr>\n",
              "    <tr>\n",
              "      <th>4</th>\n",
              "      <td>sir hero chance remember page</td>\n",
              "      <td>0.022491</td>\n",
              "      <td>0.002081</td>\n",
              "      <td>0.012285</td>\n",
              "      <td>0.004179</td>\n",
              "      <td>0.003558</td>\n",
              "      <td>0.011320</td>\n",
              "    </tr>\n",
              "  </tbody>\n",
              "</table>\n",
              "</div>"
            ],
            "text/plain": [
              "                                    ProcessedComment  Toxicity  \\\n",
              "0  explanation edits made username hardcore metal...  0.129533   \n",
              "1  daww matches background colour seemingly stuck...  0.022352   \n",
              "2  hey man really trying edit war guy constantly ...  0.168278   \n",
              "3  make real suggestions improvement wondered sec...  0.056532   \n",
              "4                      sir hero chance remember page  0.022491   \n",
              "\n",
              "   Severe_Toxicity  Identity_Attack    Insult  Profanity    Threat  \n",
              "0         0.005232         0.009843  0.000779   0.000911  0.009409  \n",
              "1         0.001590         0.010376  0.001265   0.001273  0.009809  \n",
              "2         0.004964         0.010698  0.004839   0.001866  0.009920  \n",
              "3         0.002854         0.009954  0.001283   0.001134  0.009656  \n",
              "4         0.002081         0.012285  0.004179   0.003558  0.011320  "
            ]
          },
          "execution_count": 72,
          "metadata": {},
          "output_type": "execute_result"
        }
      ],
      "source": [
        "df_processed.head()"
      ]
    },
    {
      "cell_type": "code",
      "execution_count": 73,
      "metadata": {
        "id": "T8Z-A8BCL9Wv"
      },
      "outputs": [],
      "source": [
        "X_train, X_test, y_train, y_test = train_test_split(df_processed['ProcessedComment'].values, labels_list, train_size = 0.9)"
      ]
    },
    {
      "cell_type": "code",
      "execution_count": 74,
      "metadata": {
        "id": "pJCdccNTNYnE"
      },
      "outputs": [],
      "source": [
        "y_train = y_train[:,0,:]\n",
        "y_test = y_test[:,0,:]\n"
      ]
    },
    {
      "cell_type": "code",
      "execution_count": 75,
      "metadata": {
        "id": "q5Zgvg39NyKN"
      },
      "outputs": [],
      "source": [
        "tokenizer.fit_on_texts(X_train)\n",
        "X_train = tokenizer.texts_to_sequences(X_train)\n",
        "X_test = tokenizer.texts_to_sequences(X_test)"
      ]
    },
    {
      "cell_type": "code",
      "execution_count": 76,
      "metadata": {
        "id": "NxMKKsuON_ez"
      },
      "outputs": [],
      "source": [
        "X_train = pad_sequences(sequences=X_train, maxlen=VOCAB_SIZE, padding='post', truncating='post')\n",
        "X_test = pad_sequences(sequences=X_test, maxlen=VOCAB_SIZE, padding='post', truncating='post')"
      ]
    },
    {
      "cell_type": "code",
      "execution_count": 77,
      "metadata": {
        "id": "w7--BCZtQObM"
      },
      "outputs": [],
      "source": [
        "X_train = np.asarray(X_train).astype(np.float32)\n",
        "X_test = np.asarray(X_test).astype(np.float32)\n",
        "y_train = np.asarray(y_train).astype(np.float32)\n",
        "y_test = np.asarray(y_test).astype(np.float32)"
      ]
    },
    {
      "cell_type": "code",
      "execution_count": 78,
      "metadata": {
        "id": "1946XQgWQ2H4"
      },
      "outputs": [
        {
          "data": {
            "text/plain": [
              "(119061, 1000)"
            ]
          },
          "execution_count": 78,
          "metadata": {},
          "output_type": "execute_result"
        }
      ],
      "source": [
        "X_train.shape"
      ]
    },
    {
      "cell_type": "code",
      "execution_count": 79,
      "metadata": {
        "id": "HjRkOs9GOYfJ"
      },
      "outputs": [],
      "source": [
        "import pickle\n",
        "# saving the training, validation and test tokenized data\n",
        "fp = \"./data/tokenized_data.pkl\"\n",
        "with open(fp,mode=\"wb\") as f:\n",
        "    pickle.dump(obj=(X_train,\n",
        "                     y_train,\n",
        "                     X_test,\n",
        "                     y_test),\n",
        "                    file=f)"
      ]
    },
    {
      "cell_type": "code",
      "execution_count": 80,
      "metadata": {
        "id": "TRtGxhJ2MK7w"
      },
      "outputs": [],
      "source": [
        "def get_sequential_architecture():\n",
        "  model = keras.Sequential()\n",
        "\n",
        "  model.add(layers.Dense(64, input_dim=VOCAB_SIZE, kernel_initializer='he_uniform', activation='relu'))\n",
        "  model.add(layers.Dense(32, kernel_initializer='he_uniform'))\n",
        "  model.add(layers.Dense(6))\n",
        "  return model\n"
      ]
    },
    {
      "cell_type": "code",
      "execution_count": 81,
      "metadata": {
        "id": "kOh56ra2JdG7"
      },
      "outputs": [],
      "source": [
        "model_seq = get_sequential_architecture()\n",
        "model_seq.compile(loss = keras.losses.BinaryCrossentropy(from_logits = True),\n",
        "          optimizer = keras.optimizers.adam_v2.Adam(1e-4))"
      ]
    },
    {
      "cell_type": "code",
      "execution_count": 82,
      "metadata": {
        "id": "f4HOpYXENohp"
      },
      "outputs": [
        {
          "name": "stdout",
          "output_type": "stream",
          "text": [
            "Epoch 1/100\n",
            "1190/1190 [==============================] - 5s 3ms/step - loss: 2.9689 - val_loss: 1.1276\n",
            "Epoch 2/100\n",
            "1190/1190 [==============================] - 3s 3ms/step - loss: 0.8261 - val_loss: 0.5999\n",
            "Epoch 3/100\n",
            "1190/1190 [==============================] - 3s 3ms/step - loss: 0.4606 - val_loss: 0.3694\n",
            "Epoch 4/100\n",
            "1190/1190 [==============================] - 3s 3ms/step - loss: 0.3106 - val_loss: 0.2729\n",
            "Epoch 5/100\n",
            "1190/1190 [==============================] - 3s 3ms/step - loss: 0.2461 - val_loss: 0.2300\n",
            "Epoch 6/100\n",
            "1190/1190 [==============================] - 3s 2ms/step - loss: 0.2176 - val_loss: 0.2115\n",
            "Epoch 7/100\n",
            "1190/1190 [==============================] - 3s 2ms/step - loss: 0.2043 - val_loss: 0.2033\n",
            "Epoch 8/100\n",
            "1190/1190 [==============================] - 3s 2ms/step - loss: 0.1989 - val_loss: 0.1989\n",
            "Epoch 9/100\n",
            "1190/1190 [==============================] - 3s 2ms/step - loss: 0.1959 - val_loss: 0.1966\n",
            "Epoch 10/100\n",
            "1190/1190 [==============================] - 3s 2ms/step - loss: 0.1941 - val_loss: 0.1946\n",
            "Epoch 11/100\n",
            "1190/1190 [==============================] - 3s 2ms/step - loss: 0.1928 - val_loss: 0.1937\n",
            "Epoch 12/100\n",
            "1190/1190 [==============================] - 3s 2ms/step - loss: 0.1925 - val_loss: 0.1936\n",
            "Epoch 13/100\n",
            "1190/1190 [==============================] - 3s 2ms/step - loss: 0.1919 - val_loss: 0.1936\n",
            "Epoch 14/100\n",
            "1190/1190 [==============================] - 3s 2ms/step - loss: 0.1912 - val_loss: 0.1924\n",
            "Epoch 15/100\n",
            "1190/1190 [==============================] - 3s 2ms/step - loss: 0.1908 - val_loss: 0.1925\n",
            "Epoch 16/100\n",
            "1190/1190 [==============================] - 3s 2ms/step - loss: 0.1912 - val_loss: 0.1921\n",
            "Epoch 17/100\n",
            "1190/1190 [==============================] - 3s 2ms/step - loss: 0.1904 - val_loss: 0.1920\n",
            "Epoch 18/100\n",
            "1190/1190 [==============================] - 3s 2ms/step - loss: 0.1908 - val_loss: 0.1921\n",
            "Epoch 19/100\n",
            "1190/1190 [==============================] - 3s 2ms/step - loss: 0.1899 - val_loss: 0.1917\n",
            "Epoch 20/100\n",
            "1190/1190 [==============================] - 3s 2ms/step - loss: 0.1902 - val_loss: 0.1920\n",
            "Epoch 21/100\n",
            "1190/1190 [==============================] - 3s 2ms/step - loss: 0.1898 - val_loss: 0.1917\n",
            "Epoch 22/100\n",
            "1190/1190 [==============================] - 3s 2ms/step - loss: 0.1903 - val_loss: 0.1918\n",
            "Epoch 23/100\n",
            "1190/1190 [==============================] - 3s 2ms/step - loss: 0.1897 - val_loss: 0.1911\n",
            "Epoch 24/100\n",
            "1190/1190 [==============================] - 3s 2ms/step - loss: 0.1895 - val_loss: 0.1916\n",
            "Epoch 25/100\n",
            "1190/1190 [==============================] - 3s 2ms/step - loss: 0.1900 - val_loss: 0.1912\n",
            "Epoch 26/100\n",
            "1190/1190 [==============================] - 3s 2ms/step - loss: 0.1889 - val_loss: 0.1911\n",
            "Epoch 27/100\n",
            "1190/1190 [==============================] - 3s 2ms/step - loss: 0.1897 - val_loss: 0.1912\n",
            "Epoch 28/100\n",
            "1190/1190 [==============================] - 3s 3ms/step - loss: 0.1893 - val_loss: 0.1910\n",
            "Epoch 29/100\n",
            "1190/1190 [==============================] - 3s 2ms/step - loss: 0.1896 - val_loss: 0.1912\n",
            "Epoch 30/100\n",
            "1190/1190 [==============================] - 3s 3ms/step - loss: 0.1895 - val_loss: 0.1913\n",
            "Epoch 31/100\n",
            "1190/1190 [==============================] - 3s 2ms/step - loss: 0.1883 - val_loss: 0.1910\n",
            "Epoch 32/100\n",
            "1190/1190 [==============================] - 3s 2ms/step - loss: 0.1893 - val_loss: 0.1911\n",
            "Epoch 33/100\n",
            "1190/1190 [==============================] - 3s 2ms/step - loss: 0.1893 - val_loss: 0.1908\n",
            "Epoch 34/100\n",
            "1190/1190 [==============================] - 3s 2ms/step - loss: 0.1884 - val_loss: 0.1912\n",
            "Epoch 35/100\n",
            "1190/1190 [==============================] - 3s 2ms/step - loss: 0.1893 - val_loss: 0.1911\n",
            "Epoch 36/100\n",
            "1190/1190 [==============================] - 3s 2ms/step - loss: 0.1885 - val_loss: 0.1913\n",
            "Epoch 37/100\n",
            "1190/1190 [==============================] - 3s 2ms/step - loss: 0.1893 - val_loss: 0.1908\n",
            "Epoch 38/100\n",
            "1190/1190 [==============================] - 3s 2ms/step - loss: 0.1886 - val_loss: 0.1908\n",
            "Epoch 39/100\n",
            "1190/1190 [==============================] - 4s 3ms/step - loss: 0.1890 - val_loss: 0.1908\n",
            "Epoch 40/100\n",
            "1190/1190 [==============================] - 3s 3ms/step - loss: 0.1891 - val_loss: 0.1912\n",
            "Epoch 41/100\n",
            "1190/1190 [==============================] - 3s 2ms/step - loss: 0.1881 - val_loss: 0.1907\n",
            "Epoch 42/100\n",
            "1190/1190 [==============================] - 3s 2ms/step - loss: 0.1890 - val_loss: 0.1909\n",
            "Epoch 43/100\n",
            "1190/1190 [==============================] - 3s 2ms/step - loss: 0.1885 - val_loss: 0.1909\n",
            "Epoch 44/100\n",
            "1190/1190 [==============================] - 3s 2ms/step - loss: 0.1884 - val_loss: 0.1909\n",
            "Epoch 45/100\n",
            "1190/1190 [==============================] - 3s 2ms/step - loss: 0.1883 - val_loss: 0.1909\n",
            "Epoch 46/100\n",
            "1190/1190 [==============================] - 3s 2ms/step - loss: 0.1879 - val_loss: 0.1911\n",
            "Epoch 47/100\n",
            "1190/1190 [==============================] - 3s 2ms/step - loss: 0.1892 - val_loss: 0.1908\n",
            "Epoch 48/100\n",
            "1190/1190 [==============================] - 3s 2ms/step - loss: 0.1880 - val_loss: 0.1910\n",
            "Epoch 49/100\n",
            "1190/1190 [==============================] - 3s 2ms/step - loss: 0.1887 - val_loss: 0.1915\n",
            "Epoch 50/100\n",
            "1190/1190 [==============================] - 3s 2ms/step - loss: 0.1878 - val_loss: 0.1909\n",
            "Epoch 51/100\n",
            "1190/1190 [==============================] - 3s 2ms/step - loss: 0.1893 - val_loss: 0.1910\n",
            "Epoch 52/100\n",
            "1190/1190 [==============================] - 3s 2ms/step - loss: 0.1886 - val_loss: 0.1909\n",
            "Epoch 53/100\n",
            "1190/1190 [==============================] - 3s 2ms/step - loss: 0.1882 - val_loss: 0.1911\n",
            "Epoch 54/100\n",
            "1190/1190 [==============================] - 3s 2ms/step - loss: 0.1880 - val_loss: 0.1911\n",
            "Epoch 55/100\n",
            "1190/1190 [==============================] - 3s 2ms/step - loss: 0.1888 - val_loss: 0.1909\n",
            "Epoch 56/100\n",
            "1190/1190 [==============================] - 3s 2ms/step - loss: 0.1880 - val_loss: 0.1910\n",
            "Epoch 57/100\n",
            "1190/1190 [==============================] - 3s 2ms/step - loss: 0.1875 - val_loss: 0.1909\n",
            "Epoch 58/100\n",
            "1190/1190 [==============================] - 3s 2ms/step - loss: 0.1889 - val_loss: 0.1910\n",
            "Epoch 59/100\n",
            "1190/1190 [==============================] - 3s 2ms/step - loss: 0.1882 - val_loss: 0.1910\n",
            "Epoch 60/100\n",
            "1190/1190 [==============================] - 3s 2ms/step - loss: 0.1877 - val_loss: 0.1912\n",
            "Epoch 61/100\n",
            "1190/1190 [==============================] - 3s 2ms/step - loss: 0.1884 - val_loss: 0.1912\n",
            "Epoch 62/100\n",
            "1190/1190 [==============================] - 3s 2ms/step - loss: 0.1883 - val_loss: 0.1911\n",
            "Epoch 63/100\n",
            "1190/1190 [==============================] - 3s 2ms/step - loss: 0.1881 - val_loss: 0.1909\n",
            "Epoch 64/100\n",
            "1190/1190 [==============================] - 3s 2ms/step - loss: 0.1880 - val_loss: 0.1911\n",
            "Epoch 65/100\n",
            "1190/1190 [==============================] - 3s 2ms/step - loss: 0.1880 - val_loss: 0.1914\n",
            "Epoch 66/100\n",
            "1190/1190 [==============================] - 3s 2ms/step - loss: 0.1884 - val_loss: 0.1910\n",
            "Epoch 67/100\n",
            "1190/1190 [==============================] - 3s 2ms/step - loss: 0.1883 - val_loss: 0.1914\n",
            "Epoch 68/100\n",
            "1190/1190 [==============================] - 3s 2ms/step - loss: 0.1880 - val_loss: 0.1911\n",
            "Epoch 69/100\n",
            "1190/1190 [==============================] - 3s 2ms/step - loss: 0.1883 - val_loss: 0.1912\n",
            "Epoch 70/100\n",
            "1190/1190 [==============================] - 3s 2ms/step - loss: 0.1879 - val_loss: 0.1913\n",
            "Epoch 71/100\n",
            "1190/1190 [==============================] - 3s 3ms/step - loss: 0.1880 - val_loss: 0.1912\n",
            "Epoch 72/100\n",
            "1190/1190 [==============================] - 3s 3ms/step - loss: 0.1884 - val_loss: 0.1912\n",
            "Epoch 73/100\n",
            "1190/1190 [==============================] - 3s 3ms/step - loss: 0.1872 - val_loss: 0.1911\n",
            "Epoch 74/100\n",
            "1190/1190 [==============================] - 3s 2ms/step - loss: 0.1885 - val_loss: 0.1910\n",
            "Epoch 75/100\n",
            "1190/1190 [==============================] - 3s 2ms/step - loss: 0.1875 - val_loss: 0.1911\n",
            "Epoch 76/100\n",
            "1190/1190 [==============================] - 3s 2ms/step - loss: 0.1883 - val_loss: 0.1913\n",
            "Epoch 77/100\n",
            "1190/1190 [==============================] - 3s 2ms/step - loss: 0.1883 - val_loss: 0.1914\n",
            "Epoch 78/100\n",
            "1190/1190 [==============================] - 3s 2ms/step - loss: 0.1878 - val_loss: 0.1912\n",
            "Epoch 79/100\n",
            "1190/1190 [==============================] - 3s 2ms/step - loss: 0.1881 - val_loss: 0.1910\n",
            "Epoch 80/100\n",
            "1190/1190 [==============================] - 3s 2ms/step - loss: 0.1883 - val_loss: 0.1913\n",
            "Epoch 81/100\n",
            "1190/1190 [==============================] - 3s 2ms/step - loss: 0.1881 - val_loss: 0.1912\n",
            "Epoch 82/100\n",
            "1190/1190 [==============================] - 3s 2ms/step - loss: 0.1880 - val_loss: 0.1913\n",
            "Epoch 83/100\n",
            "1190/1190 [==============================] - 3s 2ms/step - loss: 0.1877 - val_loss: 0.1912\n",
            "Epoch 84/100\n",
            "1190/1190 [==============================] - 3s 2ms/step - loss: 0.1874 - val_loss: 0.1913\n",
            "Epoch 85/100\n",
            "1190/1190 [==============================] - 3s 2ms/step - loss: 0.1881 - val_loss: 0.1910\n",
            "Epoch 86/100\n",
            "1190/1190 [==============================] - 3s 2ms/step - loss: 0.1881 - val_loss: 0.1911\n",
            "Epoch 87/100\n",
            "1190/1190 [==============================] - 3s 2ms/step - loss: 0.1883 - val_loss: 0.1912\n",
            "Epoch 88/100\n",
            "1190/1190 [==============================] - 3s 2ms/step - loss: 0.1875 - val_loss: 0.1912\n",
            "Epoch 89/100\n",
            "1190/1190 [==============================] - 3s 2ms/step - loss: 0.1878 - val_loss: 0.1912\n",
            "Epoch 90/100\n",
            "1190/1190 [==============================] - 3s 2ms/step - loss: 0.1880 - val_loss: 0.1912\n",
            "Epoch 91/100\n",
            "1190/1190 [==============================] - 3s 2ms/step - loss: 0.1878 - val_loss: 0.1913\n",
            "Epoch 92/100\n",
            "1190/1190 [==============================] - 3s 2ms/step - loss: 0.1881 - val_loss: 0.1915\n",
            "Epoch 93/100\n",
            "1190/1190 [==============================] - 3s 2ms/step - loss: 0.1876 - val_loss: 0.1911\n",
            "Epoch 94/100\n",
            "1190/1190 [==============================] - 3s 2ms/step - loss: 0.1884 - val_loss: 0.1913\n",
            "Epoch 95/100\n",
            "1190/1190 [==============================] - 3s 2ms/step - loss: 0.1876 - val_loss: 0.1914\n",
            "Epoch 96/100\n",
            "1190/1190 [==============================] - 3s 2ms/step - loss: 0.1880 - val_loss: 0.1912\n",
            "Epoch 97/100\n",
            "1190/1190 [==============================] - 3s 2ms/step - loss: 0.1874 - val_loss: 0.1915\n",
            "Epoch 98/100\n",
            "1190/1190 [==============================] - 3s 2ms/step - loss: 0.1879 - val_loss: 0.1915\n",
            "Epoch 99/100\n",
            "1190/1190 [==============================] - 3s 2ms/step - loss: 0.1880 - val_loss: 0.1912\n",
            "Epoch 100/100\n",
            "  85/1190 [=>............................] - ETA: 2s - loss: 0.1873WARNING:tensorflow:Your input ran out of data; interrupting training. Make sure that your dataset or generator can generate at least `steps_per_epoch * epochs` batches (in this case, 119000 batches). You may need to use the repeat() function when building your dataset.\n",
            "1190/1190 [==============================] - 3s 3ms/step - loss: 0.1866 - val_loss: 0.1911\n"
          ]
        },
        {
          "data": {
            "text/plain": [
              "<keras.callbacks.History at 0x2638105b700>"
            ]
          },
          "execution_count": 82,
          "metadata": {},
          "output_type": "execute_result"
        }
      ],
      "source": [
        "model_seq.fit(\tx=X_train,\n",
        "\t\t\t\ty=y_train,\n",
        "\t\t\t\tepochs = 100,\n",
        "\t\t\t\tsteps_per_epoch = math.floor(len(X_train)/100),\n",
        "\t\t\t\tverbose=1,\n",
        "\t\t\t\tvalidation_data=(X_test, y_test))"
      ]
    },
    {
      "cell_type": "code",
      "execution_count": 83,
      "metadata": {
        "id": "t62jEPwzK38t"
      },
      "outputs": [],
      "source": [
        "def get_lstm_architecture(max_length,vocab_size,embedding_matrix):\n",
        "\t'''\n",
        "\tFunction creates LSTM architecture with the input embedding matrix specified \n",
        "\t'''\n",
        "\n",
        "\t# clearing backend session\n",
        "\tkeras.backend.clear_session()\n",
        "\n",
        "\tinput_layer = Input(shape=(max_length,))\n",
        "\tembedding = Embedding(input_dim=vocab_size, output_dim=64, input_length=max_length, trainable=True)(input_layer) \n",
        "\n",
        "\t# bi-directional lstm layers\n",
        "\tlstm_output_1 = Bidirectional(LSTM(units=64, return_sequences=True))(embedding)\n",
        "\tdrop = Dropout(rate=0.6)(lstm_output_1)\n",
        "\tlstm_output_2 = Bidirectional(LSTM(units=64, return_sequences=False))(drop)\n",
        "\tdrop = Dropout(rate=0.5)(lstm_output_1)\n",
        "\n",
        "\t# output layer\n",
        "\toutput_layer = Dense(units=6, activation='sigmoid')(lstm_output_2)\n",
        "\n",
        "\t# creating the model\n",
        "\tmodel = Model(inputs=input_layer,outputs=output_layer)\n",
        "\n",
        "\treturn model"
      ]
    },
    {
      "cell_type": "code",
      "execution_count": 84,
      "metadata": {
        "id": "zKtKRo75PMuj"
      },
      "outputs": [],
      "source": [
        "model_lstm = get_lstm_architecture(VOCAB_SIZE, VOCAB_SIZE+1, None)"
      ]
    },
    {
      "cell_type": "code",
      "execution_count": 85,
      "metadata": {
        "id": "2W3muMb1Pwsl"
      },
      "outputs": [],
      "source": [
        "optimizer = tf.keras.optimizers.Adam(learning_rate=0.001)\n",
        "model_lstm.compile(optimizer=optimizer,\n",
        "\t\t\t\tloss='binary_crossentropy', metrics = ['MAE'])"
      ]
    },
    {
      "cell_type": "code",
      "execution_count": 86,
      "metadata": {
        "id": "8QK1u6BpuytK"
      },
      "outputs": [],
      "source": [
        "reduced_lr = ReduceLROnPlateau(monitor=\"val_loss\",\n",
        "                               patience=1,\n",
        "                               verbose=1)\n",
        "early_stop = EarlyStopping(monitor=\"val_loss\",\n",
        "                           patience=2,\n",
        "                           verbose=1)"
      ]
    },
    {
      "cell_type": "code",
      "execution_count": 87,
      "metadata": {
        "id": "X_LTjD9iPnai"
      },
      "outputs": [
        {
          "name": "stdout",
          "output_type": "stream",
          "text": [
            "Epoch 1/10\n",
            " 391/3721 [==>...........................] - ETA: 1:29:04 - loss: 0.1978 - MAE: 0.0664"
          ]
        },
        {
          "ename": "KeyboardInterrupt",
          "evalue": "",
          "output_type": "error",
          "traceback": [
            "\u001b[1;31m---------------------------------------------------------------------------\u001b[0m",
            "\u001b[1;31mKeyboardInterrupt\u001b[0m                         Traceback (most recent call last)",
            "\u001b[1;32md:\\GitHub\\AI\\Toxicity Detection Model\\notebook.ipynb Cell 53'\u001b[0m in \u001b[0;36m<cell line: 1>\u001b[1;34m()\u001b[0m\n\u001b[1;32m----> <a href='vscode-notebook-cell:/d%3A/GitHub/AI/Toxicity%20Detection%20Model/notebook.ipynb#ch0000053?line=0'>1</a>\u001b[0m history \u001b[39m=\u001b[39m model_lstm\u001b[39m.\u001b[39;49mfit(X_train, y_train, batch_size \u001b[39m=\u001b[39;49m \u001b[39m32\u001b[39;49m, epochs \u001b[39m=\u001b[39;49m \u001b[39m10\u001b[39;49m, validation_data \u001b[39m=\u001b[39;49m (X_test[:\u001b[39m-\u001b[39;49m\u001b[39m5000\u001b[39;49m], y_test[:\u001b[39m-\u001b[39;49m\u001b[39m5000\u001b[39;49m]))\n",
            "File \u001b[1;32md:\\GitHub\\AI\\Toxicity Detection Model\\venv\\lib\\site-packages\\keras\\utils\\traceback_utils.py:64\u001b[0m, in \u001b[0;36mfilter_traceback.<locals>.error_handler\u001b[1;34m(*args, **kwargs)\u001b[0m\n\u001b[0;32m     <a href='file:///d%3A/GitHub/AI/Toxicity%20Detection%20Model/venv/lib/site-packages/keras/utils/traceback_utils.py?line=61'>62</a>\u001b[0m filtered_tb \u001b[39m=\u001b[39m \u001b[39mNone\u001b[39;00m\n\u001b[0;32m     <a href='file:///d%3A/GitHub/AI/Toxicity%20Detection%20Model/venv/lib/site-packages/keras/utils/traceback_utils.py?line=62'>63</a>\u001b[0m \u001b[39mtry\u001b[39;00m:\n\u001b[1;32m---> <a href='file:///d%3A/GitHub/AI/Toxicity%20Detection%20Model/venv/lib/site-packages/keras/utils/traceback_utils.py?line=63'>64</a>\u001b[0m   \u001b[39mreturn\u001b[39;00m fn(\u001b[39m*\u001b[39margs, \u001b[39m*\u001b[39m\u001b[39m*\u001b[39mkwargs)\n\u001b[0;32m     <a href='file:///d%3A/GitHub/AI/Toxicity%20Detection%20Model/venv/lib/site-packages/keras/utils/traceback_utils.py?line=64'>65</a>\u001b[0m \u001b[39mexcept\u001b[39;00m \u001b[39mException\u001b[39;00m \u001b[39mas\u001b[39;00m e:  \u001b[39m# pylint: disable=broad-except\u001b[39;00m\n\u001b[0;32m     <a href='file:///d%3A/GitHub/AI/Toxicity%20Detection%20Model/venv/lib/site-packages/keras/utils/traceback_utils.py?line=65'>66</a>\u001b[0m   filtered_tb \u001b[39m=\u001b[39m _process_traceback_frames(e\u001b[39m.\u001b[39m__traceback__)\n",
            "File \u001b[1;32md:\\GitHub\\AI\\Toxicity Detection Model\\venv\\lib\\site-packages\\keras\\engine\\training.py:1409\u001b[0m, in \u001b[0;36mModel.fit\u001b[1;34m(self, x, y, batch_size, epochs, verbose, callbacks, validation_split, validation_data, shuffle, class_weight, sample_weight, initial_epoch, steps_per_epoch, validation_steps, validation_batch_size, validation_freq, max_queue_size, workers, use_multiprocessing)\u001b[0m\n\u001b[0;32m   <a href='file:///d%3A/GitHub/AI/Toxicity%20Detection%20Model/venv/lib/site-packages/keras/engine/training.py?line=1401'>1402</a>\u001b[0m \u001b[39mwith\u001b[39;00m tf\u001b[39m.\u001b[39mprofiler\u001b[39m.\u001b[39mexperimental\u001b[39m.\u001b[39mTrace(\n\u001b[0;32m   <a href='file:///d%3A/GitHub/AI/Toxicity%20Detection%20Model/venv/lib/site-packages/keras/engine/training.py?line=1402'>1403</a>\u001b[0m     \u001b[39m'\u001b[39m\u001b[39mtrain\u001b[39m\u001b[39m'\u001b[39m,\n\u001b[0;32m   <a href='file:///d%3A/GitHub/AI/Toxicity%20Detection%20Model/venv/lib/site-packages/keras/engine/training.py?line=1403'>1404</a>\u001b[0m     epoch_num\u001b[39m=\u001b[39mepoch,\n\u001b[0;32m   <a href='file:///d%3A/GitHub/AI/Toxicity%20Detection%20Model/venv/lib/site-packages/keras/engine/training.py?line=1404'>1405</a>\u001b[0m     step_num\u001b[39m=\u001b[39mstep,\n\u001b[0;32m   <a href='file:///d%3A/GitHub/AI/Toxicity%20Detection%20Model/venv/lib/site-packages/keras/engine/training.py?line=1405'>1406</a>\u001b[0m     batch_size\u001b[39m=\u001b[39mbatch_size,\n\u001b[0;32m   <a href='file:///d%3A/GitHub/AI/Toxicity%20Detection%20Model/venv/lib/site-packages/keras/engine/training.py?line=1406'>1407</a>\u001b[0m     _r\u001b[39m=\u001b[39m\u001b[39m1\u001b[39m):\n\u001b[0;32m   <a href='file:///d%3A/GitHub/AI/Toxicity%20Detection%20Model/venv/lib/site-packages/keras/engine/training.py?line=1407'>1408</a>\u001b[0m   callbacks\u001b[39m.\u001b[39mon_train_batch_begin(step)\n\u001b[1;32m-> <a href='file:///d%3A/GitHub/AI/Toxicity%20Detection%20Model/venv/lib/site-packages/keras/engine/training.py?line=1408'>1409</a>\u001b[0m   tmp_logs \u001b[39m=\u001b[39m \u001b[39mself\u001b[39;49m\u001b[39m.\u001b[39;49mtrain_function(iterator)\n\u001b[0;32m   <a href='file:///d%3A/GitHub/AI/Toxicity%20Detection%20Model/venv/lib/site-packages/keras/engine/training.py?line=1409'>1410</a>\u001b[0m   \u001b[39mif\u001b[39;00m data_handler\u001b[39m.\u001b[39mshould_sync:\n\u001b[0;32m   <a href='file:///d%3A/GitHub/AI/Toxicity%20Detection%20Model/venv/lib/site-packages/keras/engine/training.py?line=1410'>1411</a>\u001b[0m     context\u001b[39m.\u001b[39masync_wait()\n",
            "File \u001b[1;32md:\\GitHub\\AI\\Toxicity Detection Model\\venv\\lib\\site-packages\\tensorflow\\python\\util\\traceback_utils.py:150\u001b[0m, in \u001b[0;36mfilter_traceback.<locals>.error_handler\u001b[1;34m(*args, **kwargs)\u001b[0m\n\u001b[0;32m    <a href='file:///d%3A/GitHub/AI/Toxicity%20Detection%20Model/venv/lib/site-packages/tensorflow/python/util/traceback_utils.py?line=147'>148</a>\u001b[0m filtered_tb \u001b[39m=\u001b[39m \u001b[39mNone\u001b[39;00m\n\u001b[0;32m    <a href='file:///d%3A/GitHub/AI/Toxicity%20Detection%20Model/venv/lib/site-packages/tensorflow/python/util/traceback_utils.py?line=148'>149</a>\u001b[0m \u001b[39mtry\u001b[39;00m:\n\u001b[1;32m--> <a href='file:///d%3A/GitHub/AI/Toxicity%20Detection%20Model/venv/lib/site-packages/tensorflow/python/util/traceback_utils.py?line=149'>150</a>\u001b[0m   \u001b[39mreturn\u001b[39;00m fn(\u001b[39m*\u001b[39margs, \u001b[39m*\u001b[39m\u001b[39m*\u001b[39mkwargs)\n\u001b[0;32m    <a href='file:///d%3A/GitHub/AI/Toxicity%20Detection%20Model/venv/lib/site-packages/tensorflow/python/util/traceback_utils.py?line=150'>151</a>\u001b[0m \u001b[39mexcept\u001b[39;00m \u001b[39mException\u001b[39;00m \u001b[39mas\u001b[39;00m e:\n\u001b[0;32m    <a href='file:///d%3A/GitHub/AI/Toxicity%20Detection%20Model/venv/lib/site-packages/tensorflow/python/util/traceback_utils.py?line=151'>152</a>\u001b[0m   filtered_tb \u001b[39m=\u001b[39m _process_traceback_frames(e\u001b[39m.\u001b[39m__traceback__)\n",
            "File \u001b[1;32md:\\GitHub\\AI\\Toxicity Detection Model\\venv\\lib\\site-packages\\tensorflow\\python\\eager\\def_function.py:915\u001b[0m, in \u001b[0;36mFunction.__call__\u001b[1;34m(self, *args, **kwds)\u001b[0m\n\u001b[0;32m    <a href='file:///d%3A/GitHub/AI/Toxicity%20Detection%20Model/venv/lib/site-packages/tensorflow/python/eager/def_function.py?line=911'>912</a>\u001b[0m compiler \u001b[39m=\u001b[39m \u001b[39m\"\u001b[39m\u001b[39mxla\u001b[39m\u001b[39m\"\u001b[39m \u001b[39mif\u001b[39;00m \u001b[39mself\u001b[39m\u001b[39m.\u001b[39m_jit_compile \u001b[39melse\u001b[39;00m \u001b[39m\"\u001b[39m\u001b[39mnonXla\u001b[39m\u001b[39m\"\u001b[39m\n\u001b[0;32m    <a href='file:///d%3A/GitHub/AI/Toxicity%20Detection%20Model/venv/lib/site-packages/tensorflow/python/eager/def_function.py?line=913'>914</a>\u001b[0m \u001b[39mwith\u001b[39;00m OptionalXlaContext(\u001b[39mself\u001b[39m\u001b[39m.\u001b[39m_jit_compile):\n\u001b[1;32m--> <a href='file:///d%3A/GitHub/AI/Toxicity%20Detection%20Model/venv/lib/site-packages/tensorflow/python/eager/def_function.py?line=914'>915</a>\u001b[0m   result \u001b[39m=\u001b[39m \u001b[39mself\u001b[39m\u001b[39m.\u001b[39m_call(\u001b[39m*\u001b[39margs, \u001b[39m*\u001b[39m\u001b[39m*\u001b[39mkwds)\n\u001b[0;32m    <a href='file:///d%3A/GitHub/AI/Toxicity%20Detection%20Model/venv/lib/site-packages/tensorflow/python/eager/def_function.py?line=916'>917</a>\u001b[0m new_tracing_count \u001b[39m=\u001b[39m \u001b[39mself\u001b[39m\u001b[39m.\u001b[39mexperimental_get_tracing_count()\n\u001b[0;32m    <a href='file:///d%3A/GitHub/AI/Toxicity%20Detection%20Model/venv/lib/site-packages/tensorflow/python/eager/def_function.py?line=917'>918</a>\u001b[0m without_tracing \u001b[39m=\u001b[39m (tracing_count \u001b[39m==\u001b[39m new_tracing_count)\n",
            "File \u001b[1;32md:\\GitHub\\AI\\Toxicity Detection Model\\venv\\lib\\site-packages\\tensorflow\\python\\eager\\def_function.py:947\u001b[0m, in \u001b[0;36mFunction._call\u001b[1;34m(self, *args, **kwds)\u001b[0m\n\u001b[0;32m    <a href='file:///d%3A/GitHub/AI/Toxicity%20Detection%20Model/venv/lib/site-packages/tensorflow/python/eager/def_function.py?line=943'>944</a>\u001b[0m   \u001b[39mself\u001b[39m\u001b[39m.\u001b[39m_lock\u001b[39m.\u001b[39mrelease()\n\u001b[0;32m    <a href='file:///d%3A/GitHub/AI/Toxicity%20Detection%20Model/venv/lib/site-packages/tensorflow/python/eager/def_function.py?line=944'>945</a>\u001b[0m   \u001b[39m# In this case we have created variables on the first call, so we run the\u001b[39;00m\n\u001b[0;32m    <a href='file:///d%3A/GitHub/AI/Toxicity%20Detection%20Model/venv/lib/site-packages/tensorflow/python/eager/def_function.py?line=945'>946</a>\u001b[0m   \u001b[39m# defunned version which is guaranteed to never create variables.\u001b[39;00m\n\u001b[1;32m--> <a href='file:///d%3A/GitHub/AI/Toxicity%20Detection%20Model/venv/lib/site-packages/tensorflow/python/eager/def_function.py?line=946'>947</a>\u001b[0m   \u001b[39mreturn\u001b[39;00m \u001b[39mself\u001b[39m\u001b[39m.\u001b[39m_stateless_fn(\u001b[39m*\u001b[39margs, \u001b[39m*\u001b[39m\u001b[39m*\u001b[39mkwds)  \u001b[39m# pylint: disable=not-callable\u001b[39;00m\n\u001b[0;32m    <a href='file:///d%3A/GitHub/AI/Toxicity%20Detection%20Model/venv/lib/site-packages/tensorflow/python/eager/def_function.py?line=947'>948</a>\u001b[0m \u001b[39melif\u001b[39;00m \u001b[39mself\u001b[39m\u001b[39m.\u001b[39m_stateful_fn \u001b[39mis\u001b[39;00m \u001b[39mnot\u001b[39;00m \u001b[39mNone\u001b[39;00m:\n\u001b[0;32m    <a href='file:///d%3A/GitHub/AI/Toxicity%20Detection%20Model/venv/lib/site-packages/tensorflow/python/eager/def_function.py?line=948'>949</a>\u001b[0m   \u001b[39m# Release the lock early so that multiple threads can perform the call\u001b[39;00m\n\u001b[0;32m    <a href='file:///d%3A/GitHub/AI/Toxicity%20Detection%20Model/venv/lib/site-packages/tensorflow/python/eager/def_function.py?line=949'>950</a>\u001b[0m   \u001b[39m# in parallel.\u001b[39;00m\n\u001b[0;32m    <a href='file:///d%3A/GitHub/AI/Toxicity%20Detection%20Model/venv/lib/site-packages/tensorflow/python/eager/def_function.py?line=950'>951</a>\u001b[0m   \u001b[39mself\u001b[39m\u001b[39m.\u001b[39m_lock\u001b[39m.\u001b[39mrelease()\n",
            "File \u001b[1;32md:\\GitHub\\AI\\Toxicity Detection Model\\venv\\lib\\site-packages\\tensorflow\\python\\eager\\function.py:2453\u001b[0m, in \u001b[0;36mFunction.__call__\u001b[1;34m(self, *args, **kwargs)\u001b[0m\n\u001b[0;32m   <a href='file:///d%3A/GitHub/AI/Toxicity%20Detection%20Model/venv/lib/site-packages/tensorflow/python/eager/function.py?line=2449'>2450</a>\u001b[0m \u001b[39mwith\u001b[39;00m \u001b[39mself\u001b[39m\u001b[39m.\u001b[39m_lock:\n\u001b[0;32m   <a href='file:///d%3A/GitHub/AI/Toxicity%20Detection%20Model/venv/lib/site-packages/tensorflow/python/eager/function.py?line=2450'>2451</a>\u001b[0m   (graph_function,\n\u001b[0;32m   <a href='file:///d%3A/GitHub/AI/Toxicity%20Detection%20Model/venv/lib/site-packages/tensorflow/python/eager/function.py?line=2451'>2452</a>\u001b[0m    filtered_flat_args) \u001b[39m=\u001b[39m \u001b[39mself\u001b[39m\u001b[39m.\u001b[39m_maybe_define_function(args, kwargs)\n\u001b[1;32m-> <a href='file:///d%3A/GitHub/AI/Toxicity%20Detection%20Model/venv/lib/site-packages/tensorflow/python/eager/function.py?line=2452'>2453</a>\u001b[0m \u001b[39mreturn\u001b[39;00m graph_function\u001b[39m.\u001b[39;49m_call_flat(\n\u001b[0;32m   <a href='file:///d%3A/GitHub/AI/Toxicity%20Detection%20Model/venv/lib/site-packages/tensorflow/python/eager/function.py?line=2453'>2454</a>\u001b[0m     filtered_flat_args, captured_inputs\u001b[39m=\u001b[39;49mgraph_function\u001b[39m.\u001b[39;49mcaptured_inputs)\n",
            "File \u001b[1;32md:\\GitHub\\AI\\Toxicity Detection Model\\venv\\lib\\site-packages\\tensorflow\\python\\eager\\function.py:1860\u001b[0m, in \u001b[0;36mConcreteFunction._call_flat\u001b[1;34m(self, args, captured_inputs, cancellation_manager)\u001b[0m\n\u001b[0;32m   <a href='file:///d%3A/GitHub/AI/Toxicity%20Detection%20Model/venv/lib/site-packages/tensorflow/python/eager/function.py?line=1855'>1856</a>\u001b[0m possible_gradient_type \u001b[39m=\u001b[39m gradients_util\u001b[39m.\u001b[39mPossibleTapeGradientTypes(args)\n\u001b[0;32m   <a href='file:///d%3A/GitHub/AI/Toxicity%20Detection%20Model/venv/lib/site-packages/tensorflow/python/eager/function.py?line=1856'>1857</a>\u001b[0m \u001b[39mif\u001b[39;00m (possible_gradient_type \u001b[39m==\u001b[39m gradients_util\u001b[39m.\u001b[39mPOSSIBLE_GRADIENT_TYPES_NONE\n\u001b[0;32m   <a href='file:///d%3A/GitHub/AI/Toxicity%20Detection%20Model/venv/lib/site-packages/tensorflow/python/eager/function.py?line=1857'>1858</a>\u001b[0m     \u001b[39mand\u001b[39;00m executing_eagerly):\n\u001b[0;32m   <a href='file:///d%3A/GitHub/AI/Toxicity%20Detection%20Model/venv/lib/site-packages/tensorflow/python/eager/function.py?line=1858'>1859</a>\u001b[0m   \u001b[39m# No tape is watching; skip to running the function.\u001b[39;00m\n\u001b[1;32m-> <a href='file:///d%3A/GitHub/AI/Toxicity%20Detection%20Model/venv/lib/site-packages/tensorflow/python/eager/function.py?line=1859'>1860</a>\u001b[0m   \u001b[39mreturn\u001b[39;00m \u001b[39mself\u001b[39m\u001b[39m.\u001b[39m_build_call_outputs(\u001b[39mself\u001b[39;49m\u001b[39m.\u001b[39;49m_inference_function\u001b[39m.\u001b[39;49mcall(\n\u001b[0;32m   <a href='file:///d%3A/GitHub/AI/Toxicity%20Detection%20Model/venv/lib/site-packages/tensorflow/python/eager/function.py?line=1860'>1861</a>\u001b[0m       ctx, args, cancellation_manager\u001b[39m=\u001b[39;49mcancellation_manager))\n\u001b[0;32m   <a href='file:///d%3A/GitHub/AI/Toxicity%20Detection%20Model/venv/lib/site-packages/tensorflow/python/eager/function.py?line=1861'>1862</a>\u001b[0m forward_backward \u001b[39m=\u001b[39m \u001b[39mself\u001b[39m\u001b[39m.\u001b[39m_select_forward_and_backward_functions(\n\u001b[0;32m   <a href='file:///d%3A/GitHub/AI/Toxicity%20Detection%20Model/venv/lib/site-packages/tensorflow/python/eager/function.py?line=1862'>1863</a>\u001b[0m     args,\n\u001b[0;32m   <a href='file:///d%3A/GitHub/AI/Toxicity%20Detection%20Model/venv/lib/site-packages/tensorflow/python/eager/function.py?line=1863'>1864</a>\u001b[0m     possible_gradient_type,\n\u001b[0;32m   <a href='file:///d%3A/GitHub/AI/Toxicity%20Detection%20Model/venv/lib/site-packages/tensorflow/python/eager/function.py?line=1864'>1865</a>\u001b[0m     executing_eagerly)\n\u001b[0;32m   <a href='file:///d%3A/GitHub/AI/Toxicity%20Detection%20Model/venv/lib/site-packages/tensorflow/python/eager/function.py?line=1865'>1866</a>\u001b[0m forward_function, args_with_tangents \u001b[39m=\u001b[39m forward_backward\u001b[39m.\u001b[39mforward()\n",
            "File \u001b[1;32md:\\GitHub\\AI\\Toxicity Detection Model\\venv\\lib\\site-packages\\tensorflow\\python\\eager\\function.py:497\u001b[0m, in \u001b[0;36m_EagerDefinedFunction.call\u001b[1;34m(self, ctx, args, cancellation_manager)\u001b[0m\n\u001b[0;32m    <a href='file:///d%3A/GitHub/AI/Toxicity%20Detection%20Model/venv/lib/site-packages/tensorflow/python/eager/function.py?line=494'>495</a>\u001b[0m \u001b[39mwith\u001b[39;00m _InterpolateFunctionError(\u001b[39mself\u001b[39m):\n\u001b[0;32m    <a href='file:///d%3A/GitHub/AI/Toxicity%20Detection%20Model/venv/lib/site-packages/tensorflow/python/eager/function.py?line=495'>496</a>\u001b[0m   \u001b[39mif\u001b[39;00m cancellation_manager \u001b[39mis\u001b[39;00m \u001b[39mNone\u001b[39;00m:\n\u001b[1;32m--> <a href='file:///d%3A/GitHub/AI/Toxicity%20Detection%20Model/venv/lib/site-packages/tensorflow/python/eager/function.py?line=496'>497</a>\u001b[0m     outputs \u001b[39m=\u001b[39m execute\u001b[39m.\u001b[39;49mexecute(\n\u001b[0;32m    <a href='file:///d%3A/GitHub/AI/Toxicity%20Detection%20Model/venv/lib/site-packages/tensorflow/python/eager/function.py?line=497'>498</a>\u001b[0m         \u001b[39mstr\u001b[39;49m(\u001b[39mself\u001b[39;49m\u001b[39m.\u001b[39;49msignature\u001b[39m.\u001b[39;49mname),\n\u001b[0;32m    <a href='file:///d%3A/GitHub/AI/Toxicity%20Detection%20Model/venv/lib/site-packages/tensorflow/python/eager/function.py?line=498'>499</a>\u001b[0m         num_outputs\u001b[39m=\u001b[39;49m\u001b[39mself\u001b[39;49m\u001b[39m.\u001b[39;49m_num_outputs,\n\u001b[0;32m    <a href='file:///d%3A/GitHub/AI/Toxicity%20Detection%20Model/venv/lib/site-packages/tensorflow/python/eager/function.py?line=499'>500</a>\u001b[0m         inputs\u001b[39m=\u001b[39;49margs,\n\u001b[0;32m    <a href='file:///d%3A/GitHub/AI/Toxicity%20Detection%20Model/venv/lib/site-packages/tensorflow/python/eager/function.py?line=500'>501</a>\u001b[0m         attrs\u001b[39m=\u001b[39;49mattrs,\n\u001b[0;32m    <a href='file:///d%3A/GitHub/AI/Toxicity%20Detection%20Model/venv/lib/site-packages/tensorflow/python/eager/function.py?line=501'>502</a>\u001b[0m         ctx\u001b[39m=\u001b[39;49mctx)\n\u001b[0;32m    <a href='file:///d%3A/GitHub/AI/Toxicity%20Detection%20Model/venv/lib/site-packages/tensorflow/python/eager/function.py?line=502'>503</a>\u001b[0m   \u001b[39melse\u001b[39;00m:\n\u001b[0;32m    <a href='file:///d%3A/GitHub/AI/Toxicity%20Detection%20Model/venv/lib/site-packages/tensorflow/python/eager/function.py?line=503'>504</a>\u001b[0m     outputs \u001b[39m=\u001b[39m execute\u001b[39m.\u001b[39mexecute_with_cancellation(\n\u001b[0;32m    <a href='file:///d%3A/GitHub/AI/Toxicity%20Detection%20Model/venv/lib/site-packages/tensorflow/python/eager/function.py?line=504'>505</a>\u001b[0m         \u001b[39mstr\u001b[39m(\u001b[39mself\u001b[39m\u001b[39m.\u001b[39msignature\u001b[39m.\u001b[39mname),\n\u001b[0;32m    <a href='file:///d%3A/GitHub/AI/Toxicity%20Detection%20Model/venv/lib/site-packages/tensorflow/python/eager/function.py?line=505'>506</a>\u001b[0m         num_outputs\u001b[39m=\u001b[39m\u001b[39mself\u001b[39m\u001b[39m.\u001b[39m_num_outputs,\n\u001b[1;32m   (...)\u001b[0m\n\u001b[0;32m    <a href='file:///d%3A/GitHub/AI/Toxicity%20Detection%20Model/venv/lib/site-packages/tensorflow/python/eager/function.py?line=508'>509</a>\u001b[0m         ctx\u001b[39m=\u001b[39mctx,\n\u001b[0;32m    <a href='file:///d%3A/GitHub/AI/Toxicity%20Detection%20Model/venv/lib/site-packages/tensorflow/python/eager/function.py?line=509'>510</a>\u001b[0m         cancellation_manager\u001b[39m=\u001b[39mcancellation_manager)\n",
            "File \u001b[1;32md:\\GitHub\\AI\\Toxicity Detection Model\\venv\\lib\\site-packages\\tensorflow\\python\\eager\\execute.py:54\u001b[0m, in \u001b[0;36mquick_execute\u001b[1;34m(op_name, num_outputs, inputs, attrs, ctx, name)\u001b[0m\n\u001b[0;32m     <a href='file:///d%3A/GitHub/AI/Toxicity%20Detection%20Model/venv/lib/site-packages/tensorflow/python/eager/execute.py?line=51'>52</a>\u001b[0m \u001b[39mtry\u001b[39;00m:\n\u001b[0;32m     <a href='file:///d%3A/GitHub/AI/Toxicity%20Detection%20Model/venv/lib/site-packages/tensorflow/python/eager/execute.py?line=52'>53</a>\u001b[0m   ctx\u001b[39m.\u001b[39mensure_initialized()\n\u001b[1;32m---> <a href='file:///d%3A/GitHub/AI/Toxicity%20Detection%20Model/venv/lib/site-packages/tensorflow/python/eager/execute.py?line=53'>54</a>\u001b[0m   tensors \u001b[39m=\u001b[39m pywrap_tfe\u001b[39m.\u001b[39;49mTFE_Py_Execute(ctx\u001b[39m.\u001b[39;49m_handle, device_name, op_name,\n\u001b[0;32m     <a href='file:///d%3A/GitHub/AI/Toxicity%20Detection%20Model/venv/lib/site-packages/tensorflow/python/eager/execute.py?line=54'>55</a>\u001b[0m                                       inputs, attrs, num_outputs)\n\u001b[0;32m     <a href='file:///d%3A/GitHub/AI/Toxicity%20Detection%20Model/venv/lib/site-packages/tensorflow/python/eager/execute.py?line=55'>56</a>\u001b[0m \u001b[39mexcept\u001b[39;00m core\u001b[39m.\u001b[39m_NotOkStatusException \u001b[39mas\u001b[39;00m e:\n\u001b[0;32m     <a href='file:///d%3A/GitHub/AI/Toxicity%20Detection%20Model/venv/lib/site-packages/tensorflow/python/eager/execute.py?line=56'>57</a>\u001b[0m   \u001b[39mif\u001b[39;00m name \u001b[39mis\u001b[39;00m \u001b[39mnot\u001b[39;00m \u001b[39mNone\u001b[39;00m:\n",
            "\u001b[1;31mKeyboardInterrupt\u001b[0m: "
          ]
        }
      ],
      "source": [
        "history = model_lstm.fit(X_train, y_train, batch_size = 32, epochs = 10, validation_data = (X_test[:-5000], y_test[:-5000]))"
      ]
    },
    {
      "cell_type": "code",
      "execution_count": null,
      "metadata": {
        "id": "Wt6FsTnN3NIz"
      },
      "outputs": [],
      "source": [
        "model_lstm.save(\"./model_lstm\")"
      ]
    },
    {
      "cell_type": "code",
      "execution_count": null,
      "metadata": {
        "id": "PdhSZgZr3b42"
      },
      "outputs": [],
      "source": [
        "y_pred = model_lstm.predict(X_test[-5000:])"
      ]
    },
    {
      "cell_type": "code",
      "execution_count": null,
      "metadata": {
        "id": "uK90JmP_JdG8"
      },
      "outputs": [],
      "source": [
        "model_lstm.history"
      ]
    }
  ],
  "metadata": {
    "accelerator": "GPU",
    "colab": {
      "collapsed_sections": [],
      "name": "AI Project Notebook",
      "private_outputs": true,
      "provenance": []
    },
    "interpreter": {
      "hash": "3c92edb50b0d3c17cb874491556f3b23517a1eaeecdd98db06b8cc77892b6a96"
    },
    "kernelspec": {
      "display_name": "Python 3.9.4 ('venv': venv)",
      "language": "python",
      "name": "python3"
    },
    "language_info": {
      "codemirror_mode": {
        "name": "ipython",
        "version": 3
      },
      "file_extension": ".py",
      "mimetype": "text/x-python",
      "name": "python",
      "nbconvert_exporter": "python",
      "pygments_lexer": "ipython3",
      "version": "3.9.4"
    },
    "orig_nbformat": 4
  },
  "nbformat": 4,
  "nbformat_minor": 0
}
