{
 "cells": [
  {
   "cell_type": "markdown",
   "metadata": {},
   "source": [
    "# Toxicity Detection Model\n",
    "\n",
    "Get live data with `get_comments.py` and transform Kaggle data set with `transform_train.py`\n",
    "\n",
    "Get libraries by running `pip install -r requirements.txt`\n",
    "\n",
    "This is a deep learning model."
   ]
  },
  {
   "cell_type": "code",
   "execution_count": 27,
   "metadata": {},
   "outputs": [],
   "source": [
    "import tensorflow as tf\n",
    "import keras\n",
    "from keras import layers\n",
    "import numpy as np\n",
    "import pandas as pd\n",
    "\n",
    "import matplotlib.pyplot as plt\n",
    "import seaborn as sns\n",
    "\n",
    "from wordcloud import STOPWORDS, wordcloud\n",
    "import re\n",
    "from fuzzywuzzy import fuzz, process\n",
    "from nltk.corpus import stopwords\n",
    "\n",
    "from tqdm import tqdm\n",
    "\n",
    "import math"
   ]
  },
  {
   "cell_type": "markdown",
   "metadata": {},
   "source": [
    "# Load Dataset"
   ]
  },
  {
   "cell_type": "code",
   "execution_count": 2,
   "metadata": {},
   "outputs": [],
   "source": [
    "df_train = pd.read_csv('./data/new_train.csv')"
   ]
  },
  {
   "cell_type": "markdown",
   "metadata": {},
   "source": [
    "### Data Cleansing\n",
    "<ul>\n",
    "    <li>Removal of special characters</li>\n",
    "    <li>Expanding contractions</li>\n",
    "    <li>Lowering text</li>\n",
    "    <li>Replacing Obfuscated Profane Words</li>\n",
    "</ul>"
   ]
  },
  {
   "cell_type": "code",
   "execution_count": 4,
   "metadata": {},
   "outputs": [],
   "source": [
    "def decontracted(phrase):\n",
    "    '''\n",
    "    This function decontracts words like won't to will not\n",
    "    '''\n",
    "\n",
    "    # specific\n",
    "    phrase = re.sub(r\"won't\", \"will not\", phrase)\n",
    "    phrase = re.sub(r\"can\\'t\", \"can not\", phrase)\n",
    "\n",
    "    # general\n",
    "    phrase = re.sub(r\"n\\'t\", \" not\", phrase)\n",
    "    phrase = re.sub(r\"\\'re\", \" are\", phrase)\n",
    "    phrase = re.sub(r\"\\'s\", \" is\", phrase)\n",
    "    phrase = re.sub(r\"\\'d\", \" would\", phrase)\n",
    "    phrase = re.sub(r\"\\'ll\", \" will\", phrase)\n",
    "    phrase = re.sub(r\"\\'t\", \" not\", phrase)\n",
    "    phrase = re.sub(r\"\\'ve\", \" have\", phrase)\n",
    "    phrase = re.sub(r\"\\'m\", \" am\", phrase)\n",
    "    \n",
    "    return phrase"
   ]
  },
  {
   "cell_type": "code",
   "execution_count": 5,
   "metadata": {},
   "outputs": [],
   "source": [
    "def removeNonPrintable(com):\n",
    "    com = com.replace('\\\\r', ' ')\n",
    "    com = com.replace('\\\\n', ' ')\n",
    "    com = com.replace('\\\\t', ' ')\n",
    "    com = com.replace('\\\\\"', ' ')\n",
    "    return com"
   ]
  },
  {
   "cell_type": "code",
   "execution_count": 6,
   "metadata": {},
   "outputs": [],
   "source": [
    "def getUniqueWords(comments):\n",
    "    unique_words = set()\n",
    "    for comment in tqdm(comments):\n",
    "        words = comment.split(\" \")\n",
    "        for word in words:\n",
    "            if len(word) > 2:\n",
    "                unique_words.add(word)\n",
    "    \n",
    "    return unique_words"
   ]
  },
  {
   "cell_type": "code",
   "execution_count": 7,
   "metadata": {},
   "outputs": [],
   "source": [
    "def getProfaneWords():\n",
    "    profane_words = []\n",
    "    with open(\"./data/bad-words.txt\",\"r\") as f:\n",
    "        for word in f:\n",
    "            word = word.replace(\"\\n\",\"\")\n",
    "            profane_words.append(word)\n",
    "    return profane_words\n",
    "    "
   ]
  },
  {
   "cell_type": "code",
   "execution_count": 8,
   "metadata": {},
   "outputs": [],
   "source": [
    "def createMappingDict(profane_words, unique_words):\n",
    "    # mapping dictionary\n",
    "    mapping_dict = dict()\n",
    "    \n",
    "    # looping through each profane word\n",
    "    for profane in tqdm(profane_words):\n",
    "        mapped_words = set()\n",
    "        \n",
    "        # looping through each word in vocab\n",
    "        for word in unique_words:\n",
    "            # mapping only if ratio > 80\n",
    "            try:\n",
    "                if fuzz.ratio(profane,word) > 80:\n",
    "                    mapped_words.add(word)\n",
    "            except:\n",
    "                pass\n",
    "                \n",
    "        # list of all vocab words for given profane word\n",
    "        mapping_dict[profane] = mapped_words\n",
    "    \n",
    "    return mapping_dict"
   ]
  },
  {
   "cell_type": "code",
   "execution_count": 9,
   "metadata": {},
   "outputs": [],
   "source": [
    "def replaceWords(corpus, mapping_dict):\n",
    "    processed_corpus = []\n",
    "\n",
    "    for document in tqdm(corpus):\n",
    "\n",
    "        # words = document.split()\n",
    "\n",
    "        for mapped_word, v in mapping_dict.items():\n",
    "            \n",
    "            document = re.sub(r'\\b{word}\\b'.format(word = v), mapped_word, document)\n",
    "\n",
    "            # for target_word in v:\n",
    "\n",
    "            #     for i, word in enumerate(words):\n",
    "            #         if word == target_word:\n",
    "            #             words[i] = mapped_word\n",
    "\n",
    "        # document = \" \".join(words)\n",
    "        document = document.strip()\n",
    "\n",
    "        processed_corpus.append(document)\n",
    "\n",
    "    return processed_corpus\n",
    "\n"
   ]
  },
  {
   "cell_type": "code",
   "execution_count": 10,
   "metadata": {},
   "outputs": [],
   "source": [
    "def final_processing(corpus):\n",
    "    '''\n",
    "    Function applies final processing steps post profane mapping such as removing special characters,\n",
    "    punctuations etc.\n",
    "    '''\n",
    "    processed_comments = []\n",
    "    stopwords_list = stopwords.words(\"english\")\n",
    "    print('final_processing')\n",
    "\n",
    "    emoj = re.compile(pattern = \"[\"\n",
    "        u\"\\U0001F600-\\U0001F64F\"  # emoticons\n",
    "        u\"\\U0001F300-\\U0001F5FF\"  # symbols & pictographs\n",
    "        u\"\\U0001F680-\\U0001F6FF\"  # transport & map symbols\n",
    "        u\"\\U0001F1E0-\\U0001F1FF\"  # flags (iOS)\n",
    "                           \"]+\", flags = re.UNICODE)\n",
    "\n",
    "\n",
    "    # looping through each comment in corpus\n",
    "    for comment in tqdm(corpus):\n",
    "        try:\n",
    "          processed_words = []\n",
    "          comment = re.sub(emoj, r'', comment)\n",
    "          comment = re.sub(r'http\\S+', '', comment)\n",
    "          # comment = re.sub(\"\\B\\#\\w+\", ' ', comment)\n",
    "          # comment = re.sub(\"\\B\\@\\w+\", '', comment)\n",
    "          comment = re.sub(r'(\\w*#\\w+|\\w+#\\w*)','', comment)\n",
    "          comment = re.sub(r'(\\w*@\\w+|\\w+#\\w*)','',  comment)\n",
    "          comment = re.sub(r'[^A-Za-z\\s]+',\"\",  comment) # retain only letters\n",
    "          for word in comment.split():\n",
    "              if len(word) >= 3:\n",
    "                  processed_words.append(word)\n",
    "          \n",
    "          processed_comments.append(comment.strip())\n",
    "        except Exception as e:\n",
    "          print(corpus)\n",
    "          print(e)\n",
    "          pass\n",
    "    \n",
    "    return processed_comments"
   ]
  },
  {
   "cell_type": "code",
   "execution_count": 11,
   "metadata": {},
   "outputs": [],
   "source": [
    "def cleanComments(comments):\n",
    "    processed_comments = []\n",
    "    for comment in comments:\n",
    "        comment = decontracted(comment)\n",
    "        comment = removeNonPrintable(comment)\n",
    "\n",
    "        # Lower comment\n",
    "        processed_comments.append(comment.lower().strip())\n",
    "      \n",
    "    profane_words = getProfaneWords()\n",
    "    #unique_words = getUniqueWords(processed_comments)\n",
    "    #profane_dict = createMappingDict(profane_words, unique_words)\n",
    "    #processed_comments = replaceWords(processed_comments, profane_dict)\n",
    "    final_comments = final_processing(processed_comments)\n",
    "    return final_comments"
   ]
  },
  {
   "cell_type": "code",
   "execution_count": 12,
   "metadata": {},
   "outputs": [],
   "source": [
    "def corrHeatmap(df, fileName = None):\n",
    "    classes = df.columns[1:]\n",
    "    data = df.copy()\n",
    "    data = data[classes]\n",
    "    corr = data.corr()\n",
    "\n",
    "    plt.figure(figsize=(8,6))\n",
    "    sns.heatmap(corr,annot=True,vmin=1,vmax=0,fmt='.2g',cmap='rocket')\n",
    "    plt.title(\"Correlation Matrix: Labels of Comments\")\n",
    "    if fileName:\n",
    "        plt.savefig(fileName + '.png')\n",
    "    plt.show()"
   ]
  },
  {
   "cell_type": "code",
   "execution_count": 13,
   "metadata": {},
   "outputs": [],
   "source": [
    "def showPercentiles(data):\n",
    "    print(\"========== For 0-100 ==========\")\n",
    "    for i in range(11):\n",
    "        print(f'{i*10}th Percentile Value = {np.percentile(data, i*10)}')\n",
    "\n",
    "    print(\"\\n\")\n",
    "    print(\"========== For 90-100 ==========\")\n",
    "    for i in range(11):\n",
    "        print(f'{90+i}th Percentile Value = {np.percentile(data, 90 + i)}')"
   ]
  },
  {
   "cell_type": "code",
   "execution_count": 14,
   "metadata": {},
   "outputs": [],
   "source": [
    "def plotHist(data, bin_size, title, fileName = None, columns = None):\n",
    "    if columns is not None:\n",
    "        fig, axis = plt.subplots(len(columns)-1, 1, figsize = (12,30))\n",
    "        for i, col in enumerate(columns[1:]):\n",
    "            sns.histplot(data=data[col],bins=bin_size,palette=\"rocket\",ax = axis[i])\n",
    "\n",
    "        fig.tight_layout()\n",
    "        fig.subplots_adjust(top = 0.95)\n",
    "        fig.suptitle(title, size = 18)\n",
    "    else:\n",
    "        sns.histplot(data=data,bins=bin_size,palette=\"rocket\")\n",
    "        plt.title(title)\n",
    "    \n",
    "\n",
    "    if fileName:\n",
    "        plt.savefig(fileName + '.png')\n",
    "    \n",
    "    plt.show()"
   ]
  },
  {
   "cell_type": "code",
   "execution_count": null,
   "metadata": {},
   "outputs": [],
   "source": [
    "df_train.shape"
   ]
  },
  {
   "cell_type": "code",
   "execution_count": null,
   "metadata": {},
   "outputs": [],
   "source": [
    "df_train.head()"
   ]
  },
  {
   "cell_type": "code",
   "execution_count": null,
   "metadata": {},
   "outputs": [],
   "source": [
    "plotHist(df_train, 30, 'Histogram of the Labels', 'categories_histogram', df_train.columns)"
   ]
  },
  {
   "cell_type": "code",
   "execution_count": null,
   "metadata": {},
   "outputs": [],
   "source": [
    "plotHist(df_train.Comment.str.len(), 50, 'Length of the Comments', 'comments_length_before_preprocess')"
   ]
  },
  {
   "cell_type": "code",
   "execution_count": null,
   "metadata": {},
   "outputs": [],
   "source": [
    "for cat in df_train.columns[1:]:\n",
    "    print(f\"============== {cat} ==============\")\n",
    "    showPercentiles(df_train[cat])\n",
    "    print(\"\\n\")"
   ]
  },
  {
   "cell_type": "code",
   "execution_count": null,
   "metadata": {},
   "outputs": [],
   "source": [
    "showPercentiles(df_train.Comment.str.len())"
   ]
  },
  {
   "cell_type": "code",
   "execution_count": null,
   "metadata": {},
   "outputs": [],
   "source": [
    "corrHeatmap(df_train, 'corr_matrix_labels')"
   ]
  },
  {
   "cell_type": "markdown",
   "metadata": {},
   "source": [
    "There is a strong positive relationship between Toxicity-Severe Toxicity, Identity Attack-Insult and Toxicity-Profanity respectively"
   ]
  },
  {
   "cell_type": "code",
   "execution_count": 15,
   "metadata": {},
   "outputs": [
    {
     "name": "stdout",
     "output_type": "stream",
     "text": [
      "final_processing\n"
     ]
    },
    {
     "name": "stderr",
     "output_type": "stream",
     "text": [
      "100%|██████████| 132291/132291 [00:21<00:00, 6041.94it/s]\n"
     ]
    }
   ],
   "source": [
    "processed_comments = cleanComments(df_train.Comment.values)"
   ]
  },
  {
   "cell_type": "code",
   "execution_count": 16,
   "metadata": {},
   "outputs": [],
   "source": [
    "df_processed = df_train[df_train.columns[1:]].copy()\n",
    "df_processed['ProcessedComment'] = processed_comments"
   ]
  },
  {
   "cell_type": "code",
   "execution_count": null,
   "metadata": {},
   "outputs": [],
   "source": [
    "df_processed = pd.read_csv('./data/new_train_10k.csv')\n",
    "df_processed.drop(['Unnamed: 0'], axis = 1, inplace = True)"
   ]
  },
  {
   "cell_type": "code",
   "execution_count": null,
   "metadata": {},
   "outputs": [],
   "source": [
    "df_processed.head()"
   ]
  },
  {
   "cell_type": "code",
   "execution_count": 17,
   "metadata": {},
   "outputs": [],
   "source": [
    "cols = df_processed.columns.tolist()\n",
    "ordered_cols = cols[-1:] + cols[:-1]\n",
    "df_processed = df_processed[ordered_cols]"
   ]
  },
  {
   "cell_type": "code",
   "execution_count": null,
   "metadata": {},
   "outputs": [],
   "source": [
    "df_processed.head()"
   ]
  },
  {
   "cell_type": "code",
   "execution_count": null,
   "metadata": {},
   "outputs": [],
   "source": [
    "df_processed.shape"
   ]
  },
  {
   "cell_type": "code",
   "execution_count": null,
   "metadata": {},
   "outputs": [],
   "source": [
    "plotHist(df_processed.ProcessedComment.str.len(), 50, 'Comments Length After Preprocessing', 'after_preprocess_comments_histogram')"
   ]
  },
  {
   "cell_type": "markdown",
   "metadata": {},
   "source": [
    "As seen from the histogram above, the length most of the comments have is in between 0-300. Additionally, the histogram fits to logarithmic distribution and it is right-skewed. To examine the histogram furher, we can look into percentiles of the histogram to determine the vector dimensions which will be crucial for our deep learning model"
   ]
  },
  {
   "cell_type": "code",
   "execution_count": null,
   "metadata": {},
   "outputs": [],
   "source": [
    "showPercentiles(df_processed.ProcessedComment.str.len())"
   ]
  },
  {
   "cell_type": "markdown",
   "metadata": {},
   "source": [
    "Almost 95% of the comments have 1000 characters approximately. As a result, the input dimension of the tokenized vectors can be 1000."
   ]
  },
  {
   "cell_type": "markdown",
   "metadata": {},
   "source": [
    "# Model Building"
   ]
  },
  {
   "cell_type": "markdown",
   "metadata": {},
   "source": [
    "Turn dataset into list(list of tokens, scores x6))"
   ]
  },
  {
   "cell_type": "code",
   "execution_count": 18,
   "metadata": {},
   "outputs": [],
   "source": [
    "VOCAB_SIZE = 1000\n",
    "tokenizer = keras.preprocessing.text.Tokenizer(num_words=VOCAB_SIZE)"
   ]
  },
  {
   "cell_type": "code",
   "execution_count": 20,
   "metadata": {},
   "outputs": [],
   "source": [
    "processed_comments = df_processed.dropna().loc[:,\"ProcessedComment\"].convert_dtypes(infer_objects=True).array\n",
    "detections = df_processed.dropna().loc[:,\"Toxicity\": \"Threat\"].convert_dtypes(infer_objects=True).__array__()"
   ]
  },
  {
   "cell_type": "code",
   "execution_count": 21,
   "metadata": {},
   "outputs": [],
   "source": [
    "tokenizer.fit_on_texts(processed_comments)\n",
    "tokenized_comments = tokenizer.texts_to_sequences(processed_comments)"
   ]
  },
  {
   "cell_type": "code",
   "execution_count": 22,
   "metadata": {},
   "outputs": [],
   "source": [
    "for tokens in tokenized_comments:\n",
    "\ttokens.extend([0] * (VOCAB_SIZE - len(tokens)))"
   ]
  },
  {
   "cell_type": "code",
   "execution_count": 23,
   "metadata": {},
   "outputs": [],
   "source": [
    "train_input = np.asarray([np.array(input[:VOCAB_SIZE], dtype=int) for input in tokenized_comments[: int(len(tokenized_comments) * .9) ]])\n",
    "train_output = np.asarray(detections[: int(len(tokenized_comments) * .9) ], dtype=np.float32)\n",
    "\n",
    "test_input = np.asarray([np.array(input[:VOCAB_SIZE], dtype=int) for input in tokenized_comments[int(len(tokenized_comments) * .9) :]])\n",
    "test_output = np.asarray(detections[int(len(tokenized_comments) * .9) :], dtype=np.float32)"
   ]
  },
  {
   "cell_type": "code",
   "execution_count": 24,
   "metadata": {},
   "outputs": [],
   "source": [
    "model = keras.Sequential()\n",
    "\n",
    "model.add(layers.Dense(64, input_dim=VOCAB_SIZE, kernel_initializer='he_uniform', activation='relu'))\n",
    "model.add(layers.Dense(32, kernel_initializer='he_uniform'))\n",
    "model.add(layers.Dense(6))\n",
    "\n",
    "model.compile(loss = keras.losses.BinaryCrossentropy(from_logits = True),\n",
    "\t\t\t  optimizer = keras.optimizers.adam_v2.Adam(1e-4))"
   ]
  },
  {
   "cell_type": "code",
   "execution_count": 25,
   "metadata": {},
   "outputs": [
    {
     "name": "stdout",
     "output_type": "stream",
     "text": [
      "Epoch 1/100\n",
      "1190/1190 [==============================] - 4s 3ms/step - loss: 3.4901 - val_loss: 1.4328\n",
      "Epoch 2/100\n",
      "1190/1190 [==============================] - 3s 3ms/step - loss: 0.9819 - val_loss: 0.6357\n",
      "Epoch 3/100\n",
      "1190/1190 [==============================] - 3s 3ms/step - loss: 0.4603 - val_loss: 0.3390\n",
      "Epoch 4/100\n",
      "1190/1190 [==============================] - 3s 3ms/step - loss: 0.2799 - val_loss: 0.2451\n",
      "Epoch 5/100\n",
      "1190/1190 [==============================] - 3s 3ms/step - loss: 0.2255 - val_loss: 0.2159\n",
      "Epoch 6/100\n",
      "1190/1190 [==============================] - 4s 3ms/step - loss: 0.2080 - val_loss: 0.2063\n",
      "Epoch 7/100\n",
      "1190/1190 [==============================] - 3s 2ms/step - loss: 0.2015 - val_loss: 0.2012\n",
      "Epoch 8/100\n",
      "1190/1190 [==============================] - 3s 2ms/step - loss: 0.1974 - val_loss: 0.1976\n",
      "Epoch 9/100\n",
      "1190/1190 [==============================] - 3s 2ms/step - loss: 0.1954 - val_loss: 0.1960\n",
      "Epoch 10/100\n",
      "1190/1190 [==============================] - 3s 2ms/step - loss: 0.1933 - val_loss: 0.1946\n",
      "Epoch 11/100\n",
      "1190/1190 [==============================] - 3s 2ms/step - loss: 0.1923 - val_loss: 0.1940\n",
      "Epoch 12/100\n",
      "1190/1190 [==============================] - 3s 2ms/step - loss: 0.1915 - val_loss: 0.1932\n",
      "Epoch 13/100\n",
      "1190/1190 [==============================] - 3s 2ms/step - loss: 0.1908 - val_loss: 0.1928\n",
      "Epoch 14/100\n",
      "1190/1190 [==============================] - 3s 2ms/step - loss: 0.1910 - val_loss: 0.1926\n",
      "Epoch 15/100\n",
      "1190/1190 [==============================] - 3s 2ms/step - loss: 0.1906 - val_loss: 0.1926\n",
      "Epoch 16/100\n",
      "1190/1190 [==============================] - 3s 2ms/step - loss: 0.1895 - val_loss: 0.1924\n",
      "Epoch 17/100\n",
      "1190/1190 [==============================] - 3s 2ms/step - loss: 0.1903 - val_loss: 0.1929\n",
      "Epoch 18/100\n",
      "1190/1190 [==============================] - 3s 2ms/step - loss: 0.1901 - val_loss: 0.1923\n",
      "Epoch 19/100\n",
      "1190/1190 [==============================] - 3s 2ms/step - loss: 0.1894 - val_loss: 0.1922\n",
      "Epoch 20/100\n",
      "1190/1190 [==============================] - 3s 2ms/step - loss: 0.1893 - val_loss: 0.1920\n",
      "Epoch 21/100\n",
      "1190/1190 [==============================] - 3s 2ms/step - loss: 0.1901 - val_loss: 0.1921\n",
      "Epoch 22/100\n",
      "1190/1190 [==============================] - 3s 2ms/step - loss: 0.1890 - val_loss: 0.1920\n",
      "Epoch 23/100\n",
      "1190/1190 [==============================] - 3s 2ms/step - loss: 0.1890 - val_loss: 0.1921\n",
      "Epoch 24/100\n",
      "1190/1190 [==============================] - 3s 2ms/step - loss: 0.1889 - val_loss: 0.1921\n",
      "Epoch 25/100\n",
      "1190/1190 [==============================] - 3s 2ms/step - loss: 0.1893 - val_loss: 0.1922\n",
      "Epoch 26/100\n",
      "1190/1190 [==============================] - 3s 2ms/step - loss: 0.1888 - val_loss: 0.1920\n",
      "Epoch 27/100\n",
      "1190/1190 [==============================] - 3s 2ms/step - loss: 0.1886 - val_loss: 0.1922\n",
      "Epoch 28/100\n",
      "1190/1190 [==============================] - 3s 2ms/step - loss: 0.1890 - val_loss: 0.1924\n",
      "Epoch 29/100\n",
      "1190/1190 [==============================] - 3s 2ms/step - loss: 0.1892 - val_loss: 0.1923\n",
      "Epoch 30/100\n",
      "1190/1190 [==============================] - 3s 2ms/step - loss: 0.1880 - val_loss: 0.1920\n",
      "Epoch 31/100\n",
      "1190/1190 [==============================] - 3s 2ms/step - loss: 0.1890 - val_loss: 0.1920\n",
      "Epoch 32/100\n",
      "1190/1190 [==============================] - 3s 2ms/step - loss: 0.1888 - val_loss: 0.1921\n",
      "Epoch 33/100\n",
      "1190/1190 [==============================] - 3s 2ms/step - loss: 0.1886 - val_loss: 0.1925\n",
      "Epoch 34/100\n",
      "1190/1190 [==============================] - 3s 2ms/step - loss: 0.1884 - val_loss: 0.1921\n",
      "Epoch 35/100\n",
      "1190/1190 [==============================] - 3s 2ms/step - loss: 0.1884 - val_loss: 0.1921\n",
      "Epoch 36/100\n",
      "1190/1190 [==============================] - 3s 2ms/step - loss: 0.1882 - val_loss: 0.1923\n",
      "Epoch 37/100\n",
      "1190/1190 [==============================] - 3s 2ms/step - loss: 0.1885 - val_loss: 0.1922\n",
      "Epoch 38/100\n",
      "1190/1190 [==============================] - 3s 2ms/step - loss: 0.1881 - val_loss: 0.1922\n",
      "Epoch 39/100\n",
      "1190/1190 [==============================] - 3s 2ms/step - loss: 0.1884 - val_loss: 0.1922\n",
      "Epoch 40/100\n",
      "1190/1190 [==============================] - 3s 2ms/step - loss: 0.1883 - val_loss: 0.1921\n",
      "Epoch 41/100\n",
      "1190/1190 [==============================] - 3s 2ms/step - loss: 0.1877 - val_loss: 0.1924\n",
      "Epoch 42/100\n",
      "1190/1190 [==============================] - 3s 2ms/step - loss: 0.1884 - val_loss: 0.1922\n",
      "Epoch 43/100\n",
      "1190/1190 [==============================] - 3s 2ms/step - loss: 0.1886 - val_loss: 0.1925\n",
      "Epoch 44/100\n",
      "1190/1190 [==============================] - 3s 2ms/step - loss: 0.1876 - val_loss: 0.1924\n",
      "Epoch 45/100\n",
      "1190/1190 [==============================] - 3s 2ms/step - loss: 0.1884 - val_loss: 0.1925\n",
      "Epoch 46/100\n",
      "1190/1190 [==============================] - 3s 2ms/step - loss: 0.1883 - val_loss: 0.1925\n",
      "Epoch 47/100\n",
      "1190/1190 [==============================] - 3s 2ms/step - loss: 0.1877 - val_loss: 0.1927\n",
      "Epoch 48/100\n",
      "1190/1190 [==============================] - 3s 2ms/step - loss: 0.1878 - val_loss: 0.1925\n",
      "Epoch 49/100\n",
      "1190/1190 [==============================] - 3s 2ms/step - loss: 0.1877 - val_loss: 0.1923\n",
      "Epoch 50/100\n",
      "1190/1190 [==============================] - 3s 3ms/step - loss: 0.1882 - val_loss: 0.1925\n",
      "Epoch 51/100\n",
      "1190/1190 [==============================] - 4s 3ms/step - loss: 0.1877 - val_loss: 0.1924\n",
      "Epoch 52/100\n",
      "1190/1190 [==============================] - 4s 3ms/step - loss: 0.1879 - val_loss: 0.1926\n",
      "Epoch 53/100\n",
      "1190/1190 [==============================] - 4s 3ms/step - loss: 0.1875 - val_loss: 0.1924\n",
      "Epoch 54/100\n",
      "1190/1190 [==============================] - 3s 3ms/step - loss: 0.1881 - val_loss: 0.1927\n",
      "Epoch 55/100\n",
      "1190/1190 [==============================] - 3s 3ms/step - loss: 0.1881 - val_loss: 0.1925\n",
      "Epoch 56/100\n",
      "1190/1190 [==============================] - 3s 3ms/step - loss: 0.1879 - val_loss: 0.1926\n",
      "Epoch 57/100\n",
      "1190/1190 [==============================] - 4s 3ms/step - loss: 0.1876 - val_loss: 0.1926\n",
      "Epoch 58/100\n",
      "1190/1190 [==============================] - 3s 3ms/step - loss: 0.1881 - val_loss: 0.1926\n",
      "Epoch 59/100\n",
      "1190/1190 [==============================] - 3s 3ms/step - loss: 0.1873 - val_loss: 0.1927\n",
      "Epoch 60/100\n",
      "1190/1190 [==============================] - 3s 2ms/step - loss: 0.1876 - val_loss: 0.1928\n",
      "Epoch 61/100\n",
      "1190/1190 [==============================] - 3s 2ms/step - loss: 0.1870 - val_loss: 0.1927\n",
      "Epoch 62/100\n",
      "1190/1190 [==============================] - 3s 2ms/step - loss: 0.1889 - val_loss: 0.1926\n",
      "Epoch 63/100\n",
      "1190/1190 [==============================] - 3s 2ms/step - loss: 0.1874 - val_loss: 0.1929\n",
      "Epoch 64/100\n",
      "1190/1190 [==============================] - 3s 2ms/step - loss: 0.1874 - val_loss: 0.1928\n",
      "Epoch 65/100\n",
      "1190/1190 [==============================] - 3s 2ms/step - loss: 0.1881 - val_loss: 0.1927\n",
      "Epoch 66/100\n",
      "1190/1190 [==============================] - 3s 3ms/step - loss: 0.1878 - val_loss: 0.1931\n",
      "Epoch 67/100\n",
      "1190/1190 [==============================] - 3s 3ms/step - loss: 0.1874 - val_loss: 0.1928\n",
      "Epoch 68/100\n",
      "1190/1190 [==============================] - 3s 3ms/step - loss: 0.1876 - val_loss: 0.1929\n",
      "Epoch 69/100\n",
      "1190/1190 [==============================] - 3s 3ms/step - loss: 0.1881 - val_loss: 0.1930\n",
      "Epoch 70/100\n",
      "1190/1190 [==============================] - 3s 3ms/step - loss: 0.1873 - val_loss: 0.1928\n",
      "Epoch 71/100\n",
      "1190/1190 [==============================] - 3s 3ms/step - loss: 0.1873 - val_loss: 0.1930\n",
      "Epoch 72/100\n",
      "1190/1190 [==============================] - 3s 3ms/step - loss: 0.1871 - val_loss: 0.1926\n",
      "Epoch 73/100\n",
      "1190/1190 [==============================] - 3s 3ms/step - loss: 0.1881 - val_loss: 0.1929\n",
      "Epoch 74/100\n",
      "1190/1190 [==============================] - 3s 3ms/step - loss: 0.1879 - val_loss: 0.1930\n",
      "Epoch 75/100\n",
      "1190/1190 [==============================] - 3s 3ms/step - loss: 0.1871 - val_loss: 0.1927\n",
      "Epoch 76/100\n",
      "1190/1190 [==============================] - 3s 3ms/step - loss: 0.1876 - val_loss: 0.1932\n",
      "Epoch 77/100\n",
      "1190/1190 [==============================] - 3s 3ms/step - loss: 0.1878 - val_loss: 0.1930\n",
      "Epoch 78/100\n",
      "1190/1190 [==============================] - 4s 3ms/step - loss: 0.1871 - val_loss: 0.1930\n",
      "Epoch 79/100\n",
      "1190/1190 [==============================] - 4s 3ms/step - loss: 0.1878 - val_loss: 0.1929\n",
      "Epoch 80/100\n",
      "1190/1190 [==============================] - 3s 3ms/step - loss: 0.1872 - val_loss: 0.1928\n",
      "Epoch 81/100\n",
      "1190/1190 [==============================] - 3s 3ms/step - loss: 0.1877 - val_loss: 0.1930\n",
      "Epoch 82/100\n",
      "1190/1190 [==============================] - 3s 3ms/step - loss: 0.1879 - val_loss: 0.1933\n",
      "Epoch 83/100\n",
      "1190/1190 [==============================] - 3s 3ms/step - loss: 0.1867 - val_loss: 0.1934\n",
      "Epoch 84/100\n",
      "1190/1190 [==============================] - 3s 3ms/step - loss: 0.1878 - val_loss: 0.1931\n",
      "Epoch 85/100\n",
      "1190/1190 [==============================] - 3s 3ms/step - loss: 0.1869 - val_loss: 0.1929\n",
      "Epoch 86/100\n",
      "1190/1190 [==============================] - 3s 3ms/step - loss: 0.1876 - val_loss: 0.1932\n",
      "Epoch 87/100\n",
      "1190/1190 [==============================] - 3s 3ms/step - loss: 0.1877 - val_loss: 0.1929\n",
      "Epoch 88/100\n",
      "1190/1190 [==============================] - 3s 3ms/step - loss: 0.1876 - val_loss: 0.1931\n",
      "Epoch 89/100\n",
      "1190/1190 [==============================] - 3s 3ms/step - loss: 0.1868 - val_loss: 0.1930\n",
      "Epoch 90/100\n",
      "1190/1190 [==============================] - 3s 3ms/step - loss: 0.1877 - val_loss: 0.1928\n",
      "Epoch 91/100\n",
      "1190/1190 [==============================] - 3s 3ms/step - loss: 0.1873 - val_loss: 0.1930\n",
      "Epoch 92/100\n",
      "1190/1190 [==============================] - 3s 3ms/step - loss: 0.1871 - val_loss: 0.1931\n",
      "Epoch 93/100\n",
      "1190/1190 [==============================] - 3s 3ms/step - loss: 0.1876 - val_loss: 0.1929\n",
      "Epoch 94/100\n",
      "1190/1190 [==============================] - 3s 3ms/step - loss: 0.1872 - val_loss: 0.1929\n",
      "Epoch 95/100\n",
      "1190/1190 [==============================] - 3s 3ms/step - loss: 0.1873 - val_loss: 0.1935\n",
      "Epoch 96/100\n",
      "1190/1190 [==============================] - 3s 3ms/step - loss: 0.1871 - val_loss: 0.1933\n",
      "Epoch 97/100\n",
      "1190/1190 [==============================] - 3s 3ms/step - loss: 0.1875 - val_loss: 0.1932\n",
      "Epoch 98/100\n",
      "1190/1190 [==============================] - 3s 3ms/step - loss: 0.1874 - val_loss: 0.1929\n",
      "Epoch 99/100\n",
      "1190/1190 [==============================] - 3s 3ms/step - loss: 0.1875 - val_loss: 0.1937\n",
      "Epoch 100/100\n",
      "  89/1190 [=>............................] - ETA: 2s - loss: 0.1831WARNING:tensorflow:Your input ran out of data; interrupting training. Make sure that your dataset or generator can generate at least `steps_per_epoch * epochs` batches (in this case, 119000 batches). You may need to use the repeat() function when building your dataset.\n",
      "1190/1190 [==============================] - 4s 3ms/step - loss: 0.1834 - val_loss: 0.1933\n"
     ]
    }
   ],
   "source": [
    "history = model.fit(x=train_input,\n",
    "\t\t\t\t\ty=train_output,\n",
    "\t\t\t\t\tepochs = 100,\n",
    "\t\t\t\t\tsteps_per_epoch = math.floor(train_input.shape[0]/100),\n",
    "\t\t\t\t\tverbose=1,\n",
    "\t\t\t\t\tvalidation_data=(test_input, test_output))"
   ]
  },
  {
   "cell_type": "code",
   "execution_count": 28,
   "metadata": {},
   "outputs": [
    {
     "name": "stdout",
     "output_type": "stream",
     "text": [
      "INFO:tensorflow:Assets written to: ./model\\assets\n"
     ]
    }
   ],
   "source": [
    "# model.save(\"./model\")"
   ]
  },
  {
   "cell_type": "code",
   "execution_count": 29,
   "metadata": {},
   "outputs": [
    {
     "name": "stdout",
     "output_type": "stream",
     "text": [
      "414/414 [==============================] - 1s 2ms/step - loss: 0.1933\n"
     ]
    },
    {
     "ename": "TypeError",
     "evalue": "cannot unpack non-iterable float object",
     "output_type": "error",
     "traceback": [
      "\u001b[1;31m---------------------------------------------------------------------------\u001b[0m",
      "\u001b[1;31mTypeError\u001b[0m                                 Traceback (most recent call last)",
      "\u001b[1;32md:\\GitHub\\AI\\Toxicity Detection Model\\notebook.ipynb Cell 46'\u001b[0m in \u001b[0;36m<cell line: 1>\u001b[1;34m()\u001b[0m\n\u001b[1;32m----> <a href='vscode-notebook-cell:/d%3A/GitHub/AI/Toxicity%20Detection%20Model/notebook.ipynb#ch0000045?line=0'>1</a>\u001b[0m test_loss, test_acc \u001b[39m=\u001b[39m model\u001b[39m.\u001b[39mevaluate(x\u001b[39m=\u001b[39mtest_input, y\u001b[39m=\u001b[39mtest_output)\n\u001b[0;32m      <a href='vscode-notebook-cell:/d%3A/GitHub/AI/Toxicity%20Detection%20Model/notebook.ipynb#ch0000045?line=2'>3</a>\u001b[0m \u001b[39mprint\u001b[39m(\u001b[39m'\u001b[39m\u001b[39mTest Loss:\u001b[39m\u001b[39m'\u001b[39m, test_loss)\n\u001b[0;32m      <a href='vscode-notebook-cell:/d%3A/GitHub/AI/Toxicity%20Detection%20Model/notebook.ipynb#ch0000045?line=3'>4</a>\u001b[0m \u001b[39mprint\u001b[39m(\u001b[39m'\u001b[39m\u001b[39mTest Accuracy:\u001b[39m\u001b[39m'\u001b[39m, test_acc)\n",
      "\u001b[1;31mTypeError\u001b[0m: cannot unpack non-iterable float object"
     ]
    }
   ],
   "source": [
    "test_loss, test_acc = model.evaluate(x=test_input, y=test_output)\n",
    "\n",
    "print('Test Loss:', test_loss)\n",
    "print('Test Accuracy:', test_acc)"
   ]
  }
 ],
 "metadata": {
  "interpreter": {
   "hash": "3c92edb50b0d3c17cb874491556f3b23517a1eaeecdd98db06b8cc77892b6a96"
  },
  "kernelspec": {
   "display_name": "Python 3.9.4 ('venv': venv)",
   "language": "python",
   "name": "python3"
  },
  "language_info": {
   "codemirror_mode": {
    "name": "ipython",
    "version": 3
   },
   "file_extension": ".py",
   "mimetype": "text/x-python",
   "name": "python",
   "nbconvert_exporter": "python",
   "pygments_lexer": "ipython3",
   "version": "3.9.4"
  },
  "orig_nbformat": 4
 },
 "nbformat": 4,
 "nbformat_minor": 2
}
